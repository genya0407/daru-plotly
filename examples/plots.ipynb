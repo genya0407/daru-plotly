{
 "cells": [
  {
   "cell_type": "code",
   "execution_count": 1,
   "metadata": {
    "collapsed": false
   },
   "outputs": [
    {
     "data": {
      "text/plain": [
       "\"\""
      ]
     },
     "execution_count": 1,
     "metadata": {},
     "output_type": "execute_result"
    }
   ],
   "source": [
    "# gem development environment only\n",
    "lib = File.expand_path('../../lib', __FILE__)\n",
    "$LOAD_PATH.unshift(lib) unless $LOAD_PATH.include?(lib)\n",
    "''"
   ]
  },
  {
   "cell_type": "code",
   "execution_count": 2,
   "metadata": {
    "collapsed": false
   },
   "outputs": [
    {
     "data": {
      "application/javascript": [
       "if(window['d3'] === undefined ||\n",
       "   window['Nyaplot'] === undefined){\n",
       "    var path = {\"d3\":\"https://cdnjs.cloudflare.com/ajax/libs/d3/3.5.5/d3.min\",\"downloadable\":\"http://cdn.rawgit.com/domitry/d3-downloadable/master/d3-downloadable\"};\n",
       "\n",
       "\n",
       "\n",
       "    var shim = {\"d3\":{\"exports\":\"d3\"},\"downloadable\":{\"exports\":\"downloadable\"}};\n",
       "\n",
       "    require.config({paths: path, shim:shim});\n",
       "\n",
       "\n",
       "require(['d3'], function(d3){window['d3']=d3;console.log('finished loading d3');require(['downloadable'], function(downloadable){window['downloadable']=downloadable;console.log('finished loading downloadable');\n",
       "\n",
       "\tvar script = d3.select(\"head\")\n",
       "\t    .append(\"script\")\n",
       "\t    .attr(\"src\", \"http://cdn.rawgit.com/domitry/Nyaplotjs/master/release/nyaplot.js\")\n",
       "\t    .attr(\"async\", true);\n",
       "\n",
       "\tscript[0][0].onload = script[0][0].onreadystatechange = function(){\n",
       "\n",
       "\n",
       "\t    var event = document.createEvent(\"HTMLEvents\");\n",
       "\t    event.initEvent(\"load_nyaplot\",false,false);\n",
       "\t    window.dispatchEvent(event);\n",
       "\t    console.log('Finished loading Nyaplotjs');\n",
       "\n",
       "\t};\n",
       "\n",
       "\n",
       "});});\n",
       "}\n"
      ],
      "text/plain": [
       "\"if(window['d3'] === undefined ||\\n   window['Nyaplot'] === undefined){\\n    var path = {\\\"d3\\\":\\\"https://cdnjs.cloudflare.com/ajax/libs/d3/3.5.5/d3.min\\\",\\\"downloadable\\\":\\\"http://cdn.rawgit.com/domitry/d3-downloadable/master/d3-downloadable\\\"};\\n\\n\\n\\n    var shim = {\\\"d3\\\":{\\\"exports\\\":\\\"d3\\\"},\\\"downloadable\\\":{\\\"exports\\\":\\\"downloadable\\\"}};\\n\\n    require.config({paths: path, shim:shim});\\n\\n\\nrequire(['d3'], function(d3){window['d3']=d3;console.log('finished loading d3');require(['downloadable'], function(downloadable){window['downloadable']=downloadable;console.log('finished loading downloadable');\\n\\n\\tvar script = d3.select(\\\"head\\\")\\n\\t    .append(\\\"script\\\")\\n\\t    .attr(\\\"src\\\", \\\"http://cdn.rawgit.com/domitry/Nyaplotjs/master/release/nyaplot.js\\\")\\n\\t    .attr(\\\"async\\\", true);\\n\\n\\tscript[0][0].onload = script[0][0].onreadystatechange = function(){\\n\\n\\n\\t    var event = document.createEvent(\\\"HTMLEvents\\\");\\n\\t    event.initEvent(\\\"load_nyaplot\\\",false,false);\\n\\t    window.dispatchEvent(event);\\n\\t    console.log('Finished loading Nyaplotjs');\\n\\n\\t};\\n\\n\\n});});\\n}\\n\""
      ]
     },
     "metadata": {},
     "output_type": "display_data"
    },
    {
     "data": {
      "text/plain": [
       "Object"
      ]
     },
     "execution_count": 2,
     "metadata": {},
     "output_type": "execute_result"
    }
   ],
   "source": [
    "require 'daru'\n",
    "require 'daru_plotly'\n",
    "include Daru::Plotly::Initializer # creates `plot` method"
   ]
  },
  {
   "cell_type": "code",
   "execution_count": 3,
   "metadata": {
    "collapsed": false
   },
   "outputs": [
    {
     "data": {
      "text/html": [
       "<table>\n",
       "  <tr>\n",
       "    <th colspan='5'>Daru::DataFrame(5x4)</th>\n",
       "  </tr>\n",
       "\n",
       "  \n",
       "    <tr>\n",
       "      <th></th>\n",
       "      \n",
       "        <th>age</th>\n",
       "      \n",
       "        <th>male</th>\n",
       "      \n",
       "        <th>female</th>\n",
       "      \n",
       "        <th>total_count</th>\n",
       "      \n",
       "    </tr>\n",
       "  \n",
       "\n",
       "  \n",
       "    <tr>\n",
       "      <td>0</td>\n",
       "      \n",
       "        <td>0</td>\n",
       "      \n",
       "        <td>430</td>\n",
       "      \n",
       "        <td>420</td>\n",
       "      \n",
       "        <td>850</td>\n",
       "      \n",
       "    </tr>\n",
       "  \n",
       "    <tr>\n",
       "      <td>1</td>\n",
       "      \n",
       "        <td>1</td>\n",
       "      \n",
       "        <td>492</td>\n",
       "      \n",
       "        <td>457</td>\n",
       "      \n",
       "        <td>949</td>\n",
       "      \n",
       "    </tr>\n",
       "  \n",
       "    <tr>\n",
       "      <td>2</td>\n",
       "      \n",
       "        <td>2</td>\n",
       "      \n",
       "        <td>498</td>\n",
       "      \n",
       "        <td>459</td>\n",
       "      \n",
       "        <td>957</td>\n",
       "      \n",
       "    </tr>\n",
       "  \n",
       "    <tr>\n",
       "      <td>3</td>\n",
       "      \n",
       "        <td>3</td>\n",
       "      \n",
       "        <td>476</td>\n",
       "      \n",
       "        <td>441</td>\n",
       "      \n",
       "        <td>917</td>\n",
       "      \n",
       "    </tr>\n",
       "  \n",
       "    <tr>\n",
       "      <td>4</td>\n",
       "      \n",
       "        <td>4</td>\n",
       "      \n",
       "        <td>491</td>\n",
       "      \n",
       "        <td>458</td>\n",
       "      \n",
       "        <td>949</td>\n",
       "      \n",
       "    </tr>\n",
       "  \n",
       "\n",
       "  \n",
       "</table>"
      ],
      "text/plain": [
       "#<Daru::DataFrame(5x4)>\n",
       "                   age       male     female total_coun\n",
       "          0          0        430        420        850\n",
       "          1          1        492        457        949\n",
       "          2          2        498        459        957\n",
       "          3          3        476        441        917\n",
       "          4          4        491        458        949"
      ]
     },
     "execution_count": 3,
     "metadata": {},
     "output_type": "execute_result"
    }
   ],
   "source": [
    "# data source: http://www.data4citizen.jp/app/developer/app/GOvqzzYEoS/html/index.html\n",
    "\n",
    "df = Daru::DataFrame.from_csv('./O_TUKIBETSU_NENREI.csv')['age', 'male', 'female', 'total_count']\n",
    "df.first(5)"
   ]
  },
  {
   "cell_type": "markdown",
   "metadata": {},
   "source": [
    "# DataFrame#plot"
   ]
  },
  {
   "cell_type": "markdown",
   "metadata": {},
   "source": [
    "## basic usage"
   ]
  },
  {
   "cell_type": "code",
   "execution_count": 4,
   "metadata": {
    "collapsed": false
   },
   "outputs": [
    {
     "data": {
      "text/html": [
       "\n",
       "  <script>\n",
       "  requirejs.config({paths: { 'plotly': ['https://cdn.plot.ly/plotly-latest.min'] }})\n",
       "  </script>\n",
       "\n",
       "\n",
       "<div id=\"bfbc6b56-5d2e-47eb-8c2b-5ead304921a1\" style=\"height: 100%; width: 100%;\"></div>\n",
       "\n",
       "<script>\n",
       " require(['plotly'], function(Plotly) { \n",
       "Plotly.newPlot(\n",
       "  'bfbc6b56-5d2e-47eb-8c2b-5ead304921a1',\n",
       "  [{\"x\":[0,1,2,3,4,5,6,7,8,9,10,11,12,13,14,15,16,17,18,19,20,21,22,23,24,25,26,27,28,29,30,31,32,33,34,35,36,37,38,39,40,41,42,43,44,45,46,47,48,49,50,51,52,53,54,55,56,57,58,59,60,61,62,63,64,65,66,67,68,69,70,71,72,73,74,75,76,77,78,79,80,81,82,83,84,85,86,87,88,89,90,91,92,93,94,95,96,97,98,99,100,101,102,103,104,105],\"y\":[850,949,957,917,949,974,1024,996,1067,1042,1044,1061,1159,1138,1173,1265,1284,1306,1298,1153,1140,1111,1066,1063,1038,1120,1095,1152,1207,1256,1217,1212,1278,1335,1265,1320,1314,1395,1375,1516,1544,1556,1622,1653,1641,1509,1564,1542,1501,1706,1158,1567,1593,1617,1631,1676,1677,1674,1697,1634,1768,1808,1774,1789,1902,1897,1986,2140,1924,1943,1277,1044,1494,1470,1341,1391,1414,1224,1260,1336,1134,1281,1076,1001,1109,870,837,733,728,562,516,446,355,258,183,125,126,73,48,28,22,12,9,3,6,1],\"type\":\"scatter\",\"mode\":\"\",\"name\":\"total_count\"}],\n",
       "  {\"width\":1000,\"height\":500,\"title\":\"population by age\",\"xaxis\":{\"title\":\"age\"},\"yaxis\":{\"title\":\"population\"}},\n",
       "  {\"linkText\":\"Export to plot.ly\",\"showLink\":true}\n",
       ")\n",
       "\n",
       "window.addEventListener('resize', function() {\n",
       "  Plotly.Plots.resize(document.getElementById('bfbc6b56-5d2e-47eb-8c2b-5ead304921a1'))\n",
       "})\n",
       " }) \n",
       "</script>"
      ],
      "text/plain": [
       "#<Plotly::Offline::HTML:0x007fa1899fb078 @id=\"bfbc6b56-5d2e-47eb-8c2b-5ead304921a1\", @data=[{:x=>[0, 1, 2, 3, 4, 5, 6, 7, 8, 9, 10, 11, 12, 13, 14, 15, 16, 17, 18, 19, 20, 21, 22, 23, 24, 25, 26, 27, 28, 29, 30, 31, 32, 33, 34, 35, 36, 37, 38, 39, 40, 41, 42, 43, 44, 45, 46, 47, 48, 49, 50, 51, 52, 53, 54, 55, 56, 57, 58, 59, 60, 61, 62, 63, 64, 65, 66, 67, 68, 69, 70, 71, 72, 73, 74, 75, 76, 77, 78, 79, 80, 81, 82, 83, 84, 85, 86, 87, 88, 89, 90, 91, 92, 93, 94, 95, 96, 97, 98, 99, 100, 101, 102, 103, 104, 105], :y=>[850, 949, 957, 917, 949, 974, 1024, 996, 1067, 1042, 1044, 1061, 1159, 1138, 1173, 1265, 1284, 1306, 1298, 1153, 1140, 1111, 1066, 1063, 1038, 1120, 1095, 1152, 1207, 1256, 1217, 1212, 1278, 1335, 1265, 1320, 1314, 1395, 1375, 1516, 1544, 1556, 1622, 1653, 1641, 1509, 1564, 1542, 1501, 1706, 1158, 1567, 1593, 1617, 1631, 1676, 1677, 1674, 1697, 1634, 1768, 1808, 1774, 1789, 1902, 1897, 1986, 2140, 1924, 1943, 1277, 1044, 1494, 1470, 1341, 1391, 1414, 1224, 1260, 1336, 1134, 1281, 1076, 1001, 1109, 870, 837, 733, 728, 562, 516, 446, 355, 258, 183, 125, 126, 73, 48, 28, 22, 12, 9, 3, 6, 1], :type=>:scatter, :mode=>\"\", :name=>\"total_count\"}], @layout={:width=>1000, :height=>500, :title=>\"population by age\", :xaxis=>{:title=>\"age\"}, :yaxis=>{:title=>\"population\"}}, @config={:linkText=>\"Export to plot.ly\", :showLink=>true}, @embedded=true>"
      ]
     },
     "metadata": {},
     "output_type": "display_data"
    }
   ],
   "source": [
    "plot(\n",
    "  df,\n",
    "  x: 'age',\n",
    "  y: 'total_count',\n",
    "  layout: {\n",
    "    title: 'population by age',\n",
    "    xaxis: { title: 'age' },\n",
    "    yaxis: { title: 'population' }\n",
    "  },\n",
    ").show"
   ]
  },
  {
   "cell_type": "markdown",
   "metadata": {},
   "source": [
    "## markers only / markers + lines"
   ]
  },
  {
   "cell_type": "code",
   "execution_count": 5,
   "metadata": {
    "collapsed": false
   },
   "outputs": [
    {
     "data": {
      "text/html": [
       "\n",
       "  <script>\n",
       "  requirejs.config({paths: { 'plotly': ['https://cdn.plot.ly/plotly-latest.min'] }})\n",
       "  </script>\n",
       "\n",
       "\n",
       "<div id=\"658504d2-178a-42a7-b53d-82500eedf23e\" style=\"height: 100%; width: 100%;\"></div>\n",
       "\n",
       "<script>\n",
       " require(['plotly'], function(Plotly) { \n",
       "Plotly.newPlot(\n",
       "  '658504d2-178a-42a7-b53d-82500eedf23e',\n",
       "  [{\"x\":[0,1,2,3,4,5,6,7,8,9,10,11,12,13,14,15,16,17,18,19,20,21,22,23,24,25,26,27,28,29,30,31,32,33,34,35,36,37,38,39,40,41,42,43,44,45,46,47,48,49,50,51,52,53,54,55,56,57,58,59,60,61,62,63,64,65,66,67,68,69,70,71,72,73,74,75,76,77,78,79,80,81,82,83,84,85,86,87,88,89,90,91,92,93,94,95,96,97,98,99,100,101,102,103,104,105],\"y\":[850,949,957,917,949,974,1024,996,1067,1042,1044,1061,1159,1138,1173,1265,1284,1306,1298,1153,1140,1111,1066,1063,1038,1120,1095,1152,1207,1256,1217,1212,1278,1335,1265,1320,1314,1395,1375,1516,1544,1556,1622,1653,1641,1509,1564,1542,1501,1706,1158,1567,1593,1617,1631,1676,1677,1674,1697,1634,1768,1808,1774,1789,1902,1897,1986,2140,1924,1943,1277,1044,1494,1470,1341,1391,1414,1224,1260,1336,1134,1281,1076,1001,1109,870,837,733,728,562,516,446,355,258,183,125,126,73,48,28,22,12,9,3,6,1],\"type\":\"scatter\",\"mode\":\"markers\",\"name\":\"total_count\"}],\n",
       "  {\"width\":1000,\"height\":500},\n",
       "  {\"linkText\":\"Export to plot.ly\",\"showLink\":true}\n",
       ")\n",
       "\n",
       "window.addEventListener('resize', function() {\n",
       "  Plotly.Plots.resize(document.getElementById('658504d2-178a-42a7-b53d-82500eedf23e'))\n",
       "})\n",
       " }) \n",
       "</script>"
      ],
      "text/plain": [
       "#<Plotly::Offline::HTML:0x007fa18975e928 @id=\"658504d2-178a-42a7-b53d-82500eedf23e\", @data=[{:x=>[0, 1, 2, 3, 4, 5, 6, 7, 8, 9, 10, 11, 12, 13, 14, 15, 16, 17, 18, 19, 20, 21, 22, 23, 24, 25, 26, 27, 28, 29, 30, 31, 32, 33, 34, 35, 36, 37, 38, 39, 40, 41, 42, 43, 44, 45, 46, 47, 48, 49, 50, 51, 52, 53, 54, 55, 56, 57, 58, 59, 60, 61, 62, 63, 64, 65, 66, 67, 68, 69, 70, 71, 72, 73, 74, 75, 76, 77, 78, 79, 80, 81, 82, 83, 84, 85, 86, 87, 88, 89, 90, 91, 92, 93, 94, 95, 96, 97, 98, 99, 100, 101, 102, 103, 104, 105], :y=>[850, 949, 957, 917, 949, 974, 1024, 996, 1067, 1042, 1044, 1061, 1159, 1138, 1173, 1265, 1284, 1306, 1298, 1153, 1140, 1111, 1066, 1063, 1038, 1120, 1095, 1152, 1207, 1256, 1217, 1212, 1278, 1335, 1265, 1320, 1314, 1395, 1375, 1516, 1544, 1556, 1622, 1653, 1641, 1509, 1564, 1542, 1501, 1706, 1158, 1567, 1593, 1617, 1631, 1676, 1677, 1674, 1697, 1634, 1768, 1808, 1774, 1789, 1902, 1897, 1986, 2140, 1924, 1943, 1277, 1044, 1494, 1470, 1341, 1391, 1414, 1224, 1260, 1336, 1134, 1281, 1076, 1001, 1109, 870, 837, 733, 728, 562, 516, 446, 355, 258, 183, 125, 126, 73, 48, 28, 22, 12, 9, 3, 6, 1], :type=>:scatter, :mode=>\"markers\", :name=>\"total_count\"}], @layout={:width=>1000, :height=>500}, @config={:linkText=>\"Export to plot.ly\", :showLink=>true}, @embedded=true>"
      ]
     },
     "metadata": {},
     "output_type": "display_data"
    },
    {
     "data": {
      "text/html": [
       "\n",
       "  <script>\n",
       "  requirejs.config({paths: { 'plotly': ['https://cdn.plot.ly/plotly-latest.min'] }})\n",
       "  </script>\n",
       "\n",
       "\n",
       "<div id=\"24451222-abd2-43a8-9766-1f7e7d7607d0\" style=\"height: 100%; width: 100%;\"></div>\n",
       "\n",
       "<script>\n",
       " require(['plotly'], function(Plotly) { \n",
       "Plotly.newPlot(\n",
       "  '24451222-abd2-43a8-9766-1f7e7d7607d0',\n",
       "  [{\"x\":[0,1,2,3,4,5,6,7,8,9,10,11,12,13,14,15,16,17,18,19,20,21,22,23,24,25,26,27,28,29,30,31,32,33,34,35,36,37,38,39,40,41,42,43,44,45,46,47,48,49,50,51,52,53,54,55,56,57,58,59,60,61,62,63,64,65,66,67,68,69,70,71,72,73,74,75,76,77,78,79,80,81,82,83,84,85,86,87,88,89,90,91,92,93,94,95,96,97,98,99,100,101,102,103,104,105],\"y\":[850,949,957,917,949,974,1024,996,1067,1042,1044,1061,1159,1138,1173,1265,1284,1306,1298,1153,1140,1111,1066,1063,1038,1120,1095,1152,1207,1256,1217,1212,1278,1335,1265,1320,1314,1395,1375,1516,1544,1556,1622,1653,1641,1509,1564,1542,1501,1706,1158,1567,1593,1617,1631,1676,1677,1674,1697,1634,1768,1808,1774,1789,1902,1897,1986,2140,1924,1943,1277,1044,1494,1470,1341,1391,1414,1224,1260,1336,1134,1281,1076,1001,1109,870,837,733,728,562,516,446,355,258,183,125,126,73,48,28,22,12,9,3,6,1],\"type\":\"scatter\",\"mode\":\"markers+lines\",\"name\":\"total_count\"}],\n",
       "  {\"width\":1000,\"height\":500},\n",
       "  {\"linkText\":\"Export to plot.ly\",\"showLink\":true}\n",
       ")\n",
       "\n",
       "window.addEventListener('resize', function() {\n",
       "  Plotly.Plots.resize(document.getElementById('24451222-abd2-43a8-9766-1f7e7d7607d0'))\n",
       "})\n",
       " }) \n",
       "</script>"
      ],
      "text/plain": [
       "#<Plotly::Offline::HTML:0x007fa189754ef0 @id=\"24451222-abd2-43a8-9766-1f7e7d7607d0\", @data=[{:x=>[0, 1, 2, 3, 4, 5, 6, 7, 8, 9, 10, 11, 12, 13, 14, 15, 16, 17, 18, 19, 20, 21, 22, 23, 24, 25, 26, 27, 28, 29, 30, 31, 32, 33, 34, 35, 36, 37, 38, 39, 40, 41, 42, 43, 44, 45, 46, 47, 48, 49, 50, 51, 52, 53, 54, 55, 56, 57, 58, 59, 60, 61, 62, 63, 64, 65, 66, 67, 68, 69, 70, 71, 72, 73, 74, 75, 76, 77, 78, 79, 80, 81, 82, 83, 84, 85, 86, 87, 88, 89, 90, 91, 92, 93, 94, 95, 96, 97, 98, 99, 100, 101, 102, 103, 104, 105], :y=>[850, 949, 957, 917, 949, 974, 1024, 996, 1067, 1042, 1044, 1061, 1159, 1138, 1173, 1265, 1284, 1306, 1298, 1153, 1140, 1111, 1066, 1063, 1038, 1120, 1095, 1152, 1207, 1256, 1217, 1212, 1278, 1335, 1265, 1320, 1314, 1395, 1375, 1516, 1544, 1556, 1622, 1653, 1641, 1509, 1564, 1542, 1501, 1706, 1158, 1567, 1593, 1617, 1631, 1676, 1677, 1674, 1697, 1634, 1768, 1808, 1774, 1789, 1902, 1897, 1986, 2140, 1924, 1943, 1277, 1044, 1494, 1470, 1341, 1391, 1414, 1224, 1260, 1336, 1134, 1281, 1076, 1001, 1109, 870, 837, 733, 728, 562, 516, 446, 355, 258, 183, 125, 126, 73, 48, 28, 22, 12, 9, 3, 6, 1], :type=>:scatter, :mode=>\"markers+lines\", :name=>\"total_count\"}], @layout={:width=>1000, :height=>500}, @config={:linkText=>\"Export to plot.ly\", :showLink=>true}, @embedded=true>"
      ]
     },
     "metadata": {},
     "output_type": "display_data"
    }
   ],
   "source": [
    "# markers only\n",
    "plot(df, x: 'age', y: 'total_count', mode: :markers).show\n",
    "\n",
    "# markers+lines only\n",
    "plot(df, x: 'age', y: 'total_count', mode: [:markers, :lines]).show"
   ]
  },
  {
   "cell_type": "markdown",
   "metadata": {},
   "source": [
    "## Multiple lines"
   ]
  },
  {
   "cell_type": "code",
   "execution_count": 6,
   "metadata": {
    "collapsed": false
   },
   "outputs": [
    {
     "data": {
      "text/html": [
       "\n",
       "  <script>\n",
       "  requirejs.config({paths: { 'plotly': ['https://cdn.plot.ly/plotly-latest.min'] }})\n",
       "  </script>\n",
       "\n",
       "\n",
       "<div id=\"6da0bab5-e0dc-4787-810d-f4d0d2feba88\" style=\"height: 100%; width: 100%;\"></div>\n",
       "\n",
       "<script>\n",
       " require(['plotly'], function(Plotly) { \n",
       "Plotly.newPlot(\n",
       "  '6da0bab5-e0dc-4787-810d-f4d0d2feba88',\n",
       "  [{\"x\":[0,1,2,3,4,5,6,7,8,9,10,11,12,13,14,15,16,17,18,19,20,21,22,23,24,25,26,27,28,29,30,31,32,33,34,35,36,37,38,39,40,41,42,43,44,45,46,47,48,49,50,51,52,53,54,55,56,57,58,59,60,61,62,63,64,65,66,67,68,69,70,71,72,73,74,75,76,77,78,79,80,81,82,83,84,85,86,87,88,89,90,91,92,93,94,95,96,97,98,99,100,101,102,103,104,105],\"y\":[430,492,498,476,491,504,532,533,543,511,541,537,601,594,586,651,641,646,657,561,554,559,537,509,552,576,565,587,604,643,619,651,666,674,658,637,672,733,698,775,785,801,815,810,813,759,759,776,712,850,588,785,806,777,794,806,821,834,846,828,861,900,894,854,906,958,954,1068,945,918,626,494,686,671,603,588,617,486,474,513,444,488,394,350,353,300,277,243,215,157,145,112,95,54,36,24,28,10,5,1,5,4,2,1,2,0],\"type\":\"scatter\",\"mode\":\"\",\"name\":\"male\"},{\"x\":[0,1,2,3,4,5,6,7,8,9,10,11,12,13,14,15,16,17,18,19,20,21,22,23,24,25,26,27,28,29,30,31,32,33,34,35,36,37,38,39,40,41,42,43,44,45,46,47,48,49,50,51,52,53,54,55,56,57,58,59,60,61,62,63,64,65,66,67,68,69,70,71,72,73,74,75,76,77,78,79,80,81,82,83,84,85,86,87,88,89,90,91,92,93,94,95,96,97,98,99,100,101,102,103,104,105],\"y\":[420,457,459,441,458,470,492,463,524,531,503,524,558,544,587,614,643,660,641,592,586,552,529,554,486,544,530,565,603,613,598,561,612,661,607,683,642,662,677,741,759,755,807,843,828,750,805,766,789,856,570,782,787,840,837,870,856,840,851,806,907,908,880,935,996,939,1032,1072,979,1025,651,550,808,799,738,803,797,738,786,823,690,793,682,651,756,570,560,490,513,405,371,334,260,204,147,101,98,63,43,27,17,8,7,2,4,1],\"type\":\"scatter\",\"mode\":\"\",\"name\":\"female\"}],\n",
       "  {\"width\":1000,\"height\":500},\n",
       "  {\"linkText\":\"Export to plot.ly\",\"showLink\":true}\n",
       ")\n",
       "\n",
       "window.addEventListener('resize', function() {\n",
       "  Plotly.Plots.resize(document.getElementById('6da0bab5-e0dc-4787-810d-f4d0d2feba88'))\n",
       "})\n",
       " }) \n",
       "</script>"
      ],
      "text/plain": [
       "#<Plotly::Offline::HTML:0x007fa189717640 @id=\"6da0bab5-e0dc-4787-810d-f4d0d2feba88\", @data=[{:x=>[0, 1, 2, 3, 4, 5, 6, 7, 8, 9, 10, 11, 12, 13, 14, 15, 16, 17, 18, 19, 20, 21, 22, 23, 24, 25, 26, 27, 28, 29, 30, 31, 32, 33, 34, 35, 36, 37, 38, 39, 40, 41, 42, 43, 44, 45, 46, 47, 48, 49, 50, 51, 52, 53, 54, 55, 56, 57, 58, 59, 60, 61, 62, 63, 64, 65, 66, 67, 68, 69, 70, 71, 72, 73, 74, 75, 76, 77, 78, 79, 80, 81, 82, 83, 84, 85, 86, 87, 88, 89, 90, 91, 92, 93, 94, 95, 96, 97, 98, 99, 100, 101, 102, 103, 104, 105], :y=>[430, 492, 498, 476, 491, 504, 532, 533, 543, 511, 541, 537, 601, 594, 586, 651, 641, 646, 657, 561, 554, 559, 537, 509, 552, 576, 565, 587, 604, 643, 619, 651, 666, 674, 658, 637, 672, 733, 698, 775, 785, 801, 815, 810, 813, 759, 759, 776, 712, 850, 588, 785, 806, 777, 794, 806, 821, 834, 846, 828, 861, 900, 894, 854, 906, 958, 954, 1068, 945, 918, 626, 494, 686, 671, 603, 588, 617, 486, 474, 513, 444, 488, 394, 350, 353, 300, 277, 243, 215, 157, 145, 112, 95, 54, 36, 24, 28, 10, 5, 1, 5, 4, 2, 1, 2, 0], :type=>:scatter, :mode=>\"\", :name=>\"male\"}, {:x=>[0, 1, 2, 3, 4, 5, 6, 7, 8, 9, 10, 11, 12, 13, 14, 15, 16, 17, 18, 19, 20, 21, 22, 23, 24, 25, 26, 27, 28, 29, 30, 31, 32, 33, 34, 35, 36, 37, 38, 39, 40, 41, 42, 43, 44, 45, 46, 47, 48, 49, 50, 51, 52, 53, 54, 55, 56, 57, 58, 59, 60, 61, 62, 63, 64, 65, 66, 67, 68, 69, 70, 71, 72, 73, 74, 75, 76, 77, 78, 79, 80, 81, 82, 83, 84, 85, 86, 87, 88, 89, 90, 91, 92, 93, 94, 95, 96, 97, 98, 99, 100, 101, 102, 103, 104, 105], :y=>[420, 457, 459, 441, 458, 470, 492, 463, 524, 531, 503, 524, 558, 544, 587, 614, 643, 660, 641, 592, 586, 552, 529, 554, 486, 544, 530, 565, 603, 613, 598, 561, 612, 661, 607, 683, 642, 662, 677, 741, 759, 755, 807, 843, 828, 750, 805, 766, 789, 856, 570, 782, 787, 840, 837, 870, 856, 840, 851, 806, 907, 908, 880, 935, 996, 939, 1032, 1072, 979, 1025, 651, 550, 808, 799, 738, 803, 797, 738, 786, 823, 690, 793, 682, 651, 756, 570, 560, 490, 513, 405, 371, 334, 260, 204, 147, 101, 98, 63, 43, 27, 17, 8, 7, 2, 4, 1], :type=>:scatter, :mode=>\"\", :name=>\"female\"}], @layout={:width=>1000, :height=>500}, @config={:linkText=>\"Export to plot.ly\", :showLink=>true}, @embedded=true>"
      ]
     },
     "metadata": {},
     "output_type": "display_data"
    }
   ],
   "source": [
    "plot(df, x: 'age', y: ['male', 'female']).show"
   ]
  },
  {
   "cell_type": "markdown",
   "metadata": {},
   "source": [
    "## Plot types"
   ]
  },
  {
   "cell_type": "code",
   "execution_count": 7,
   "metadata": {
    "collapsed": false,
    "scrolled": true
   },
   "outputs": [
    {
     "data": {
      "text/html": [
       "<table>\n",
       "  <tr>\n",
       "    <th colspan='5'>Daru::DataFrame(5x4)</th>\n",
       "  </tr>\n",
       "\n",
       "  \n",
       "    <tr>\n",
       "      <th></th>\n",
       "      \n",
       "        <th>male</th>\n",
       "      \n",
       "        <th>female</th>\n",
       "      \n",
       "        <th>total_count</th>\n",
       "      \n",
       "        <th>generation</th>\n",
       "      \n",
       "    </tr>\n",
       "  \n",
       "\n",
       "  \n",
       "    <tr>\n",
       "      <td>000 ~</td>\n",
       "      \n",
       "        <td>5010</td>\n",
       "      \n",
       "        <td>4715</td>\n",
       "      \n",
       "        <td>9725</td>\n",
       "      \n",
       "        <td>000 ~</td>\n",
       "      \n",
       "    </tr>\n",
       "  \n",
       "    <tr>\n",
       "      <td>010 ~</td>\n",
       "      \n",
       "        <td>6015</td>\n",
       "      \n",
       "        <td>5866</td>\n",
       "      \n",
       "        <td>11881</td>\n",
       "      \n",
       "        <td>010 ~</td>\n",
       "      \n",
       "    </tr>\n",
       "  \n",
       "    <tr>\n",
       "      <td>020 ~</td>\n",
       "      \n",
       "        <td>5686</td>\n",
       "      \n",
       "        <td>5562</td>\n",
       "      \n",
       "        <td>11248</td>\n",
       "      \n",
       "        <td>020 ~</td>\n",
       "      \n",
       "    </tr>\n",
       "  \n",
       "    <tr>\n",
       "      <td>030 ~</td>\n",
       "      \n",
       "        <td>6783</td>\n",
       "      \n",
       "        <td>6444</td>\n",
       "      \n",
       "        <td>13227</td>\n",
       "      \n",
       "        <td>030 ~</td>\n",
       "      \n",
       "    </tr>\n",
       "  \n",
       "    <tr>\n",
       "      <td>040 ~</td>\n",
       "      \n",
       "        <td>7880</td>\n",
       "      \n",
       "        <td>7958</td>\n",
       "      \n",
       "        <td>15838</td>\n",
       "      \n",
       "        <td>040 ~</td>\n",
       "      \n",
       "    </tr>\n",
       "  \n",
       "\n",
       "  \n",
       "</table>"
      ],
      "text/plain": [
       "#<Daru::DataFrame(5x4)>\n",
       "                  male     female total_coun generation\n",
       "      000 ~       5010       4715       9725      000 ~\n",
       "      010 ~       6015       5866      11881      010 ~\n",
       "      020 ~       5686       5562      11248      020 ~\n",
       "      030 ~       6783       6444      13227      030 ~\n",
       "      040 ~       7880       7958      15838      040 ~"
      ]
     },
     "execution_count": 7,
     "metadata": {},
     "output_type": "execute_result"
    }
   ],
   "source": [
    "df_generation = df.dup['age', 'male', 'female', 'total_count']\n",
    "df_generation = df_generation.map_rows! do |row|\n",
    "  generation = (row['age'] / 10) * 10\n",
    "  row['age'] = \"#{'%03d' % generation} ~\"\n",
    "  row\n",
    "end.group_by('age').sum\n",
    "df_generation.add_vector 'generation', df_generation.index.to_a\n",
    "df_generation.sort ['generation']\n",
    "df_generation.first(5)"
   ]
  },
  {
   "cell_type": "markdown",
   "metadata": {},
   "source": [
    "### bar plot"
   ]
  },
  {
   "cell_type": "code",
   "execution_count": 8,
   "metadata": {
    "collapsed": false
   },
   "outputs": [
    {
     "data": {
      "text/html": [
       "\n",
       "  <script>\n",
       "  requirejs.config({paths: { 'plotly': ['https://cdn.plot.ly/plotly-latest.min'] }})\n",
       "  </script>\n",
       "\n",
       "\n",
       "<div id=\"95c781fc-eae8-44f7-9f0a-02a3e5a0e6a6\" style=\"height: 100%; width: 100%;\"></div>\n",
       "\n",
       "<script>\n",
       " require(['plotly'], function(Plotly) { \n",
       "Plotly.newPlot(\n",
       "  '95c781fc-eae8-44f7-9f0a-02a3e5a0e6a6',\n",
       "  [{\"x\":[\"000 ~\",\"010 ~\",\"020 ~\",\"030 ~\",\"040 ~\",\"050 ~\",\"060 ~\",\"070 ~\",\"080 ~\",\"090 ~\",\"100 ~\"],\"y\":[5010,6015,5686,6783,7880,7885,9258,5758,3221,510,14],\"type\":\"bar\",\"mode\":\"\",\"name\":\"male\"},{\"x\":[\"000 ~\",\"010 ~\",\"020 ~\",\"030 ~\",\"040 ~\",\"050 ~\",\"060 ~\",\"070 ~\",\"080 ~\",\"090 ~\",\"100 ~\"],\"y\":[4715,5866,5562,6444,7958,8039,9673,7493,6110,1648,39],\"type\":\"bar\",\"mode\":\"\",\"name\":\"female\"}],\n",
       "  {\"width\":1000,\"height\":500},\n",
       "  {\"linkText\":\"Export to plot.ly\",\"showLink\":true}\n",
       ")\n",
       "\n",
       "window.addEventListener('resize', function() {\n",
       "  Plotly.Plots.resize(document.getElementById('95c781fc-eae8-44f7-9f0a-02a3e5a0e6a6'))\n",
       "})\n",
       " }) \n",
       "</script>"
      ],
      "text/plain": [
       "#<Plotly::Offline::HTML:0x007fa189b5a1a8 @id=\"95c781fc-eae8-44f7-9f0a-02a3e5a0e6a6\", @data=[{:x=>[\"000 ~\", \"010 ~\", \"020 ~\", \"030 ~\", \"040 ~\", \"050 ~\", \"060 ~\", \"070 ~\", \"080 ~\", \"090 ~\", \"100 ~\"], :y=>[5010, 6015, 5686, 6783, 7880, 7885, 9258, 5758, 3221, 510, 14], :type=>:bar, :mode=>\"\", :name=>\"male\"}, {:x=>[\"000 ~\", \"010 ~\", \"020 ~\", \"030 ~\", \"040 ~\", \"050 ~\", \"060 ~\", \"070 ~\", \"080 ~\", \"090 ~\", \"100 ~\"], :y=>[4715, 5866, 5562, 6444, 7958, 8039, 9673, 7493, 6110, 1648, 39], :type=>:bar, :mode=>\"\", :name=>\"female\"}], @layout={:width=>1000, :height=>500}, @config={:linkText=>\"Export to plot.ly\", :showLink=>true}, @embedded=true>"
      ]
     },
     "metadata": {},
     "output_type": "display_data"
    }
   ],
   "source": [
    "plot(\n",
    "  df_generation,\n",
    "  x: 'generation',\n",
    "  y: ['male', 'female'],\n",
    "  type: :bar\n",
    ").show"
   ]
  },
  {
   "cell_type": "markdown",
   "metadata": {},
   "source": [
    "### pie plot"
   ]
  },
  {
   "cell_type": "code",
   "execution_count": 9,
   "metadata": {
    "collapsed": false
   },
   "outputs": [
    {
     "data": {
      "text/html": [
       "\n",
       "  <script>\n",
       "  requirejs.config({paths: { 'plotly': ['https://cdn.plot.ly/plotly-latest.min'] }})\n",
       "  </script>\n",
       "\n",
       "\n",
       "<div id=\"23aeced0-758b-4460-b622-5d16fa5bdb6d\" style=\"height: 100%; width: 100%;\"></div>\n",
       "\n",
       "<script>\n",
       " require(['plotly'], function(Plotly) { \n",
       "Plotly.newPlot(\n",
       "  '23aeced0-758b-4460-b622-5d16fa5bdb6d',\n",
       "  [{\"type\":\"pie\",\"labels\":[\"000 ~\",\"010 ~\",\"020 ~\",\"030 ~\",\"040 ~\",\"050 ~\",\"060 ~\",\"070 ~\",\"080 ~\",\"090 ~\",\"100 ~\"],\"values\":[9725,11881,11248,13227,15838,15924,18931,13251,9331,2158,53],\"sort\":false,\"direction\":\"clockwise\"}],\n",
       "  {\"width\":1000,\"height\":500},\n",
       "  {\"linkText\":\"Export to plot.ly\",\"showLink\":true}\n",
       ")\n",
       "\n",
       "window.addEventListener('resize', function() {\n",
       "  Plotly.Plots.resize(document.getElementById('23aeced0-758b-4460-b622-5d16fa5bdb6d'))\n",
       "})\n",
       " }) \n",
       "</script>"
      ],
      "text/plain": [
       "#<Plotly::Offline::HTML:0x007fa189b33e68 @id=\"23aeced0-758b-4460-b622-5d16fa5bdb6d\", @data=[{:type=>:pie, :labels=>[\"000 ~\", \"010 ~\", \"020 ~\", \"030 ~\", \"040 ~\", \"050 ~\", \"060 ~\", \"070 ~\", \"080 ~\", \"090 ~\", \"100 ~\"], :values=>[9725, 11881, 11248, 13227, 15838, 15924, 18931, 13251, 9331, 2158, 53], :sort=>false, :direction=>\"clockwise\"}], @layout={:width=>1000, :height=>500}, @config={:linkText=>\"Export to plot.ly\", :showLink=>true}, @embedded=true>"
      ]
     },
     "metadata": {},
     "output_type": "display_data"
    }
   ],
   "source": [
    "plot(\n",
    "  df_generation,\n",
    "  type: :pie,\n",
    "  labels: 'generation',\n",
    "  values: 'total_count',\n",
    "  opts: {\n",
    "    sort: false,\n",
    "    direction: 'clockwise'\n",
    "  }\n",
    ").show"
   ]
  },
  {
   "cell_type": "markdown",
   "metadata": {},
   "source": [
    "### heatmap"
   ]
  },
  {
   "cell_type": "code",
   "execution_count": 10,
   "metadata": {
    "collapsed": false
   },
   "outputs": [
    {
     "data": {
      "text/html": [
       "<table>\n",
       "  <tr>\n",
       "    <th colspan='13'>Daru::DataFrame(12x12)</th>\n",
       "  </tr>\n",
       "\n",
       "  \n",
       "    <tr>\n",
       "      <th></th>\n",
       "      \n",
       "        <th>fixed acidity</th>\n",
       "      \n",
       "        <th>volatile acidity</th>\n",
       "      \n",
       "        <th>citric acid</th>\n",
       "      \n",
       "        <th>residual sugar</th>\n",
       "      \n",
       "        <th>chlorides</th>\n",
       "      \n",
       "        <th>free sulfur dioxide</th>\n",
       "      \n",
       "        <th>total sulfur dioxide</th>\n",
       "      \n",
       "        <th>density</th>\n",
       "      \n",
       "        <th>pH</th>\n",
       "      \n",
       "        <th>sulphates</th>\n",
       "      \n",
       "        <th>alcohol</th>\n",
       "      \n",
       "        <th>quality</th>\n",
       "      \n",
       "    </tr>\n",
       "  \n",
       "\n",
       "  \n",
       "    <tr>\n",
       "      <td>fixed acidity</td>\n",
       "      \n",
       "        <td>1.0</td>\n",
       "      \n",
       "        <td>0.21900825635100266</td>\n",
       "      \n",
       "        <td>0.32443572544730104</td>\n",
       "      \n",
       "        <td>-0.11198128107823678</td>\n",
       "      \n",
       "        <td>0.29819477170273795</td>\n",
       "      \n",
       "        <td>-0.28273542836956794</td>\n",
       "      \n",
       "        <td>-0.32905390129522527</td>\n",
       "      \n",
       "        <td>0.45890998228044255</td>\n",
       "      \n",
       "        <td>-0.2527004683162333</td>\n",
       "      \n",
       "        <td>0.29956774438249995</td>\n",
       "      \n",
       "        <td>-0.09545152256332995</td>\n",
       "      \n",
       "        <td>-0.07674320790962286</td>\n",
       "      \n",
       "    </tr>\n",
       "  \n",
       "    <tr>\n",
       "      <td>volatile acidity</td>\n",
       "      \n",
       "        <td>0.21900825635100266</td>\n",
       "      \n",
       "        <td>1.0000000000000002</td>\n",
       "      \n",
       "        <td>-0.37798131705526566</td>\n",
       "      \n",
       "        <td>-0.19601117434765503</td>\n",
       "      \n",
       "        <td>0.3771242764338664</td>\n",
       "      \n",
       "        <td>-0.35255730641340716</td>\n",
       "      \n",
       "        <td>-0.4144761946507196</td>\n",
       "      \n",
       "        <td>0.2712956478511821</td>\n",
       "      \n",
       "        <td>0.261454402742256</td>\n",
       "      \n",
       "        <td>0.2259836797410744</td>\n",
       "      \n",
       "        <td>-0.03764038583468137</td>\n",
       "      \n",
       "        <td>-0.26569947761148033</td>\n",
       "      \n",
       "    </tr>\n",
       "  \n",
       "    <tr>\n",
       "      <td>citric acid</td>\n",
       "      \n",
       "        <td>0.32443572544730104</td>\n",
       "      \n",
       "        <td>-0.37798131705526566</td>\n",
       "      \n",
       "        <td>1.0</td>\n",
       "      \n",
       "        <td>0.14245122598675725</td>\n",
       "      \n",
       "        <td>0.038998014089851825</td>\n",
       "      \n",
       "        <td>0.13312580951823125</td>\n",
       "      \n",
       "        <td>0.19524197598145304</td>\n",
       "      \n",
       "        <td>0.09615392906417021</td>\n",
       "      \n",
       "        <td>-0.32980819113172016</td>\n",
       "      \n",
       "        <td>0.0561973001349725</td>\n",
       "      \n",
       "        <td>-0.01049349217337923</td>\n",
       "      \n",
       "        <td>0.08553171718367827</td>\n",
       "      \n",
       "    </tr>\n",
       "  \n",
       "    <tr>\n",
       "      <td>residual sugar</td>\n",
       "      \n",
       "        <td>-0.11198128107823678</td>\n",
       "      \n",
       "        <td>-0.19601117434765503</td>\n",
       "      \n",
       "        <td>0.14245122598675725</td>\n",
       "      \n",
       "        <td>0.9999999999999999</td>\n",
       "      \n",
       "        <td>-0.12894049990326722</td>\n",
       "      \n",
       "        <td>0.4028706400566557</td>\n",
       "      \n",
       "        <td>0.4954815870066449</td>\n",
       "      \n",
       "        <td>0.552516950293483</td>\n",
       "      \n",
       "        <td>-0.2673198368768104</td>\n",
       "      \n",
       "        <td>-0.1859274052901841</td>\n",
       "      \n",
       "        <td>-0.3594147708159969</td>\n",
       "      \n",
       "        <td>-0.03698048458576987</td>\n",
       "      \n",
       "    </tr>\n",
       "  \n",
       "    <tr>\n",
       "      <td>chlorides</td>\n",
       "      \n",
       "        <td>0.29819477170273795</td>\n",
       "      \n",
       "        <td>0.3771242764338664</td>\n",
       "      \n",
       "        <td>0.038998014089851825</td>\n",
       "      \n",
       "        <td>-0.12894049990326722</td>\n",
       "      \n",
       "        <td>1.0000000000000002</td>\n",
       "      \n",
       "        <td>-0.1950447852077002</td>\n",
       "      \n",
       "        <td>-0.27963044744333765</td>\n",
       "      \n",
       "        <td>0.3626146565578091</td>\n",
       "      \n",
       "        <td>0.04470797955050543</td>\n",
       "      \n",
       "        <td>0.395593306547331</td>\n",
       "      \n",
       "        <td>-0.2569155799729125</td>\n",
       "      \n",
       "        <td>-0.20066550043510553</td>\n",
       "      \n",
       "    </tr>\n",
       "  \n",
       "    <tr>\n",
       "      <td>free sulfur dioxide</td>\n",
       "      \n",
       "        <td>-0.28273542836956794</td>\n",
       "      \n",
       "        <td>-0.35255730641340716</td>\n",
       "      \n",
       "        <td>0.13312580951823125</td>\n",
       "      \n",
       "        <td>0.4028706400566557</td>\n",
       "      \n",
       "        <td>-0.1950447852077002</td>\n",
       "      \n",
       "        <td>1.0000000000000002</td>\n",
       "      \n",
       "        <td>0.7209340813785245</td>\n",
       "      \n",
       "        <td>0.025716842144663805</td>\n",
       "      \n",
       "        <td>-0.14585389640016552</td>\n",
       "      \n",
       "        <td>-0.18845724880121598</td>\n",
       "      \n",
       "        <td>-0.1798384348893394</td>\n",
       "      \n",
       "        <td>0.05546305861663346</td>\n",
       "      \n",
       "    </tr>\n",
       "  \n",
       "    <tr>\n",
       "      <td>total sulfur dioxide</td>\n",
       "      \n",
       "        <td>-0.32905390129522527</td>\n",
       "      \n",
       "        <td>-0.4144761946507196</td>\n",
       "      \n",
       "        <td>0.19524197598145304</td>\n",
       "      \n",
       "        <td>0.4954815870066449</td>\n",
       "      \n",
       "        <td>-0.27963044744333765</td>\n",
       "      \n",
       "        <td>0.7209340813785245</td>\n",
       "      \n",
       "        <td>1.0</td>\n",
       "      \n",
       "        <td>0.03239451234680212</td>\n",
       "      \n",
       "        <td>-0.23841310290340784</td>\n",
       "      \n",
       "        <td>-0.27572681991620573</td>\n",
       "      \n",
       "        <td>-0.26573963910715914</td>\n",
       "      \n",
       "        <td>-0.04138545385560974</td>\n",
       "      \n",
       "    </tr>\n",
       "  \n",
       "    <tr>\n",
       "      <td>density</td>\n",
       "      \n",
       "        <td>0.45890998228044255</td>\n",
       "      \n",
       "        <td>0.2712956478511821</td>\n",
       "      \n",
       "        <td>0.09615392906417021</td>\n",
       "      \n",
       "        <td>0.552516950293483</td>\n",
       "      \n",
       "        <td>0.3626146565578091</td>\n",
       "      \n",
       "        <td>0.025716842144663805</td>\n",
       "      \n",
       "        <td>0.03239451234680212</td>\n",
       "      \n",
       "        <td>1.0</td>\n",
       "      \n",
       "        <td>0.011686080687174244</td>\n",
       "      \n",
       "        <td>0.25947849534575335</td>\n",
       "      \n",
       "        <td>-0.6867454216813362</td>\n",
       "      \n",
       "        <td>-0.3058579060694189</td>\n",
       "      \n",
       "    </tr>\n",
       "  \n",
       "    <tr>\n",
       "      <td>pH</td>\n",
       "      \n",
       "        <td>-0.2527004683162333</td>\n",
       "      \n",
       "        <td>0.261454402742256</td>\n",
       "      \n",
       "        <td>-0.32980819113172016</td>\n",
       "      \n",
       "        <td>-0.2673198368768104</td>\n",
       "      \n",
       "        <td>0.04470797955050543</td>\n",
       "      \n",
       "        <td>-0.14585389640016552</td>\n",
       "      \n",
       "        <td>-0.23841310290340784</td>\n",
       "      \n",
       "        <td>0.011686080687174244</td>\n",
       "      \n",
       "        <td>1.0000000000000002</td>\n",
       "      \n",
       "        <td>0.19212340657115304</td>\n",
       "      \n",
       "        <td>0.12124846709464465</td>\n",
       "      \n",
       "        <td>0.019505703714435736</td>\n",
       "      \n",
       "    </tr>\n",
       "  \n",
       "    <tr>\n",
       "      <td>sulphates</td>\n",
       "      \n",
       "        <td>0.29956774438249995</td>\n",
       "      \n",
       "        <td>0.2259836797410744</td>\n",
       "      \n",
       "        <td>0.0561973001349725</td>\n",
       "      \n",
       "        <td>-0.1859274052901841</td>\n",
       "      \n",
       "        <td>0.395593306547331</td>\n",
       "      \n",
       "        <td>-0.18845724880121598</td>\n",
       "      \n",
       "        <td>-0.27572681991620573</td>\n",
       "      \n",
       "        <td>0.25947849534575335</td>\n",
       "      \n",
       "        <td>0.19212340657115304</td>\n",
       "      \n",
       "        <td>0.9999999999999999</td>\n",
       "      \n",
       "        <td>-0.003029194944255261</td>\n",
       "      \n",
       "        <td>0.038485445876515374</td>\n",
       "      \n",
       "    </tr>\n",
       "  \n",
       "    <tr>\n",
       "      <td>alcohol</td>\n",
       "      \n",
       "        <td>-0.09545152256332995</td>\n",
       "      \n",
       "        <td>-0.03764038583468137</td>\n",
       "      \n",
       "        <td>-0.01049349217337923</td>\n",
       "      \n",
       "        <td>-0.3594147708159969</td>\n",
       "      \n",
       "        <td>-0.2569155799729125</td>\n",
       "      \n",
       "        <td>-0.1798384348893394</td>\n",
       "      \n",
       "        <td>-0.26573963910715914</td>\n",
       "      \n",
       "        <td>-0.6867454216813362</td>\n",
       "      \n",
       "        <td>0.12124846709464465</td>\n",
       "      \n",
       "        <td>-0.003029194944255261</td>\n",
       "      \n",
       "        <td>1.0</td>\n",
       "      \n",
       "        <td>0.44431852000752226</td>\n",
       "      \n",
       "    </tr>\n",
       "  \n",
       "    <tr>\n",
       "      <td>quality</td>\n",
       "      \n",
       "        <td>-0.07674320790962286</td>\n",
       "      \n",
       "        <td>-0.26569947761148033</td>\n",
       "      \n",
       "        <td>0.08553171718367827</td>\n",
       "      \n",
       "        <td>-0.03698048458576987</td>\n",
       "      \n",
       "        <td>-0.20066550043510553</td>\n",
       "      \n",
       "        <td>0.05546305861663346</td>\n",
       "      \n",
       "        <td>-0.04138545385560974</td>\n",
       "      \n",
       "        <td>-0.3058579060694189</td>\n",
       "      \n",
       "        <td>0.019505703714435736</td>\n",
       "      \n",
       "        <td>0.038485445876515374</td>\n",
       "      \n",
       "        <td>0.44431852000752226</td>\n",
       "      \n",
       "        <td>1.0</td>\n",
       "      \n",
       "    </tr>\n",
       "  \n",
       "\n",
       "  \n",
       "</table>"
      ],
      "text/plain": [
       "#<Daru::DataFrame(12x12)>\n",
       "            fixed acid volatile a citric aci residual s  chlorides free sulfu total sulf    density         pH  sulphates    alcohol    quality\n",
       " fixed acid        1.0 0.21900825 0.32443572 -0.1119812 0.29819477 -0.2827354 -0.3290539 0.45890998 -0.2527004 0.29956774 -0.0954515 -0.0767432\n",
       " volatile a 0.21900825 1.00000000 -0.3779813 -0.1960111 0.37712427 -0.3525573 -0.4144761 0.27129564 0.26145440 0.22598367 -0.0376403 -0.2656994\n",
       " citric aci 0.32443572 -0.3779813        1.0 0.14245122 0.03899801 0.13312580 0.19524197 0.09615392 -0.3298081 0.05619730 -0.0104934 0.08553171\n",
       " residual s -0.1119812 -0.1960111 0.14245122 0.99999999 -0.1289404 0.40287064 0.49548158 0.55251695 -0.2673198 -0.1859274 -0.3594147 -0.0369804\n",
       "  chlorides 0.29819477 0.37712427 0.03899801 -0.1289404 1.00000000 -0.1950447 -0.2796304 0.36261465 0.04470797 0.39559330 -0.2569155 -0.2006655\n",
       " free sulfu -0.2827354 -0.3525573 0.13312580 0.40287064 -0.1950447 1.00000000 0.72093408 0.02571684 -0.1458538 -0.1884572 -0.1798384 0.05546305\n",
       " total sulf -0.3290539 -0.4144761 0.19524197 0.49548158 -0.2796304 0.72093408        1.0 0.03239451 -0.2384131 -0.2757268 -0.2657396 -0.0413854\n",
       "    density 0.45890998 0.27129564 0.09615392 0.55251695 0.36261465 0.02571684 0.03239451        1.0 0.01168608 0.25947849 -0.6867454 -0.3058579\n",
       "         pH -0.2527004 0.26145440 -0.3298081 -0.2673198 0.04470797 -0.1458538 -0.2384131 0.01168608 1.00000000 0.19212340 0.12124846 0.01950570\n",
       "  sulphates 0.29956774 0.22598367 0.05619730 -0.1859274 0.39559330 -0.1884572 -0.2757268 0.25947849 0.19212340 0.99999999 -0.0030291 0.03848544\n",
       "    alcohol -0.0954515 -0.0376403 -0.0104934 -0.3594147 -0.2569155 -0.1798384 -0.2657396 -0.6867454 0.12124846 -0.0030291        1.0 0.44431852\n",
       "    quality -0.0767432 -0.2656994 0.08553171 -0.0369804 -0.2006655 0.05546305 -0.0413854 -0.3058579 0.01950570 0.03848544 0.44431852        1.0"
      ]
     },
     "execution_count": 10,
     "metadata": {},
     "output_type": "execute_result"
    }
   ],
   "source": [
    "wine = Daru::DataFrame.from_csv('./wine.csv')\n",
    "wine.corr # correlation matrix"
   ]
  },
  {
   "cell_type": "code",
   "execution_count": 11,
   "metadata": {
    "collapsed": false
   },
   "outputs": [
    {
     "data": {
      "text/html": [
       "\n",
       "  <script>\n",
       "  requirejs.config({paths: { 'plotly': ['https://cdn.plot.ly/plotly-latest.min'] }})\n",
       "  </script>\n",
       "\n",
       "\n",
       "<div id=\"259506f0-6556-463d-baa4-017d75d3cf9c\" style=\"height: 100%; width: 100%;\"></div>\n",
       "\n",
       "<script>\n",
       " require(['plotly'], function(Plotly) { \n",
       "Plotly.newPlot(\n",
       "  '259506f0-6556-463d-baa4-017d75d3cf9c',\n",
       "  [{\"x\":[\"fixed acidity\",\"volatile acidity\",\"citric acid\",\"residual sugar\",\"chlorides\",\"free sulfur dioxide\",\"total sulfur dioxide\",\"density\",\"pH\",\"sulphates\",\"alcohol\",\"quality\"],\"y\":[\"fixed acidity\",\"volatile acidity\",\"citric acid\",\"residual sugar\",\"chlorides\",\"free sulfur dioxide\",\"total sulfur dioxide\",\"density\",\"pH\",\"sulphates\",\"alcohol\",\"quality\"],\"type\":\"heatmap\",\"z\":[[1.0,0.21900825635100266,0.32443572544730104,-0.11198128107823678,0.29819477170273795,-0.28273542836956794,-0.32905390129522527,0.45890998228044255,-0.2527004683162333,0.29956774438249995,-0.09545152256332995,-0.07674320790962286],[0.21900825635100266,1.0000000000000002,-0.37798131705526566,-0.19601117434765503,0.3771242764338664,-0.35255730641340716,-0.4144761946507196,0.2712956478511821,0.261454402742256,0.2259836797410744,-0.03764038583468137,-0.26569947761148033],[0.32443572544730104,-0.37798131705526566,1.0,0.14245122598675725,0.038998014089851825,0.13312580951823125,0.19524197598145304,0.09615392906417021,-0.32980819113172016,0.0561973001349725,-0.01049349217337923,0.08553171718367827],[-0.11198128107823678,-0.19601117434765503,0.14245122598675725,0.9999999999999999,-0.12894049990326722,0.4028706400566557,0.4954815870066449,0.552516950293483,-0.2673198368768104,-0.1859274052901841,-0.3594147708159969,-0.03698048458576987],[0.29819477170273795,0.3771242764338664,0.038998014089851825,-0.12894049990326722,1.0000000000000002,-0.1950447852077002,-0.27963044744333765,0.3626146565578091,0.04470797955050543,0.395593306547331,-0.2569155799729125,-0.20066550043510553],[-0.28273542836956794,-0.35255730641340716,0.13312580951823125,0.4028706400566557,-0.1950447852077002,1.0000000000000002,0.7209340813785245,0.025716842144663805,-0.14585389640016552,-0.18845724880121598,-0.1798384348893394,0.05546305861663346],[-0.32905390129522527,-0.4144761946507196,0.19524197598145304,0.4954815870066449,-0.27963044744333765,0.7209340813785245,1.0,0.03239451234680212,-0.23841310290340784,-0.27572681991620573,-0.26573963910715914,-0.04138545385560974],[0.45890998228044255,0.2712956478511821,0.09615392906417021,0.552516950293483,0.3626146565578091,0.025716842144663805,0.03239451234680212,1.0,0.011686080687174244,0.25947849534575335,-0.6867454216813362,-0.3058579060694189],[-0.2527004683162333,0.261454402742256,-0.32980819113172016,-0.2673198368768104,0.04470797955050543,-0.14585389640016552,-0.23841310290340784,0.011686080687174244,1.0000000000000002,0.19212340657115304,0.12124846709464465,0.019505703714435736],[0.29956774438249995,0.2259836797410744,0.0561973001349725,-0.1859274052901841,0.395593306547331,-0.18845724880121598,-0.27572681991620573,0.25947849534575335,0.19212340657115304,0.9999999999999999,-0.003029194944255261,0.038485445876515374],[-0.09545152256332995,-0.03764038583468137,-0.01049349217337923,-0.3594147708159969,-0.2569155799729125,-0.1798384348893394,-0.26573963910715914,-0.6867454216813362,0.12124846709464465,-0.003029194944255261,1.0,0.44431852000752226],[-0.07674320790962286,-0.26569947761148033,0.08553171718367827,-0.03698048458576987,-0.20066550043510553,0.05546305861663346,-0.04138545385560974,-0.3058579060694189,0.019505703714435736,0.038485445876515374,0.44431852000752226,1.0]]}],\n",
       "  {\"width\":1000,\"height\":500},\n",
       "  {\"linkText\":\"Export to plot.ly\",\"showLink\":true}\n",
       ")\n",
       "\n",
       "window.addEventListener('resize', function() {\n",
       "  Plotly.Plots.resize(document.getElementById('259506f0-6556-463d-baa4-017d75d3cf9c'))\n",
       "})\n",
       " }) \n",
       "</script>"
      ],
      "text/plain": [
       "#<Plotly::Offline::HTML:0x007fa189ab1eb8 @id=\"259506f0-6556-463d-baa4-017d75d3cf9c\", @data=[{:x=>[\"fixed acidity\", \"volatile acidity\", \"citric acid\", \"residual sugar\", \"chlorides\", \"free sulfur dioxide\", \"total sulfur dioxide\", \"density\", \"pH\", \"sulphates\", \"alcohol\", \"quality\"], :y=>[\"fixed acidity\", \"volatile acidity\", \"citric acid\", \"residual sugar\", \"chlorides\", \"free sulfur dioxide\", \"total sulfur dioxide\", \"density\", \"pH\", \"sulphates\", \"alcohol\", \"quality\"], :type=>:heatmap, :z=>[[1.0, 0.21900825635100266, 0.32443572544730104, -0.11198128107823678, 0.29819477170273795, -0.28273542836956794, -0.32905390129522527, 0.45890998228044255, -0.2527004683162333, 0.29956774438249995, -0.09545152256332995, -0.07674320790962286], [0.21900825635100266, 1.0000000000000002, -0.37798131705526566, -0.19601117434765503, 0.3771242764338664, -0.35255730641340716, -0.4144761946507196, 0.2712956478511821, 0.261454402742256, 0.2259836797410744, -0.03764038583468137, -0.26569947761148033], [0.32443572544730104, -0.37798131705526566, 1.0, 0.14245122598675725, 0.038998014089851825, 0.13312580951823125, 0.19524197598145304, 0.09615392906417021, -0.32980819113172016, 0.0561973001349725, -0.01049349217337923, 0.08553171718367827], [-0.11198128107823678, -0.19601117434765503, 0.14245122598675725, 0.9999999999999999, -0.12894049990326722, 0.4028706400566557, 0.4954815870066449, 0.552516950293483, -0.2673198368768104, -0.1859274052901841, -0.3594147708159969, -0.03698048458576987], [0.29819477170273795, 0.3771242764338664, 0.038998014089851825, -0.12894049990326722, 1.0000000000000002, -0.1950447852077002, -0.27963044744333765, 0.3626146565578091, 0.04470797955050543, 0.395593306547331, -0.2569155799729125, -0.20066550043510553], [-0.28273542836956794, -0.35255730641340716, 0.13312580951823125, 0.4028706400566557, -0.1950447852077002, 1.0000000000000002, 0.7209340813785245, 0.025716842144663805, -0.14585389640016552, -0.18845724880121598, -0.1798384348893394, 0.05546305861663346], [-0.32905390129522527, -0.4144761946507196, 0.19524197598145304, 0.4954815870066449, -0.27963044744333765, 0.7209340813785245, 1.0, 0.03239451234680212, -0.23841310290340784, -0.27572681991620573, -0.26573963910715914, -0.04138545385560974], [0.45890998228044255, 0.2712956478511821, 0.09615392906417021, 0.552516950293483, 0.3626146565578091, 0.025716842144663805, 0.03239451234680212, 1.0, 0.011686080687174244, 0.25947849534575335, -0.6867454216813362, -0.3058579060694189], [-0.2527004683162333, 0.261454402742256, -0.32980819113172016, -0.2673198368768104, 0.04470797955050543, -0.14585389640016552, -0.23841310290340784, 0.011686080687174244, 1.0000000000000002, 0.19212340657115304, 0.12124846709464465, 0.019505703714435736], [0.29956774438249995, 0.2259836797410744, 0.0561973001349725, -0.1859274052901841, 0.395593306547331, -0.18845724880121598, -0.27572681991620573, 0.25947849534575335, 0.19212340657115304, 0.9999999999999999, -0.003029194944255261, 0.038485445876515374], [-0.09545152256332995, -0.03764038583468137, -0.01049349217337923, -0.3594147708159969, -0.2569155799729125, -0.1798384348893394, -0.26573963910715914, -0.6867454216813362, 0.12124846709464465, -0.003029194944255261, 1.0, 0.44431852000752226], [-0.07674320790962286, -0.26569947761148033, 0.08553171718367827, -0.03698048458576987, -0.20066550043510553, 0.05546305861663346, -0.04138545385560974, -0.3058579060694189, 0.019505703714435736, 0.038485445876515374, 0.44431852000752226, 1.0]]}], @layout={:width=>1000, :height=>500}, @config={:linkText=>\"Export to plot.ly\", :showLink=>true}, @embedded=true>"
      ]
     },
     "metadata": {},
     "output_type": "display_data"
    }
   ],
   "source": [
    "# Heatmap of correlation matrix\n",
    "plot(wine.corr, type: :heatmap).show"
   ]
  },
  {
   "cell_type": "markdown",
   "metadata": {},
   "source": [
    "# Vector#plot"
   ]
  },
  {
   "cell_type": "markdown",
   "metadata": {},
   "source": [
    "`Vector#plot` assumes typically `index` to be \"xaxis\"."
   ]
  },
  {
   "cell_type": "markdown",
   "metadata": {},
   "source": [
    "## bar plot"
   ]
  },
  {
   "cell_type": "code",
   "execution_count": 12,
   "metadata": {
    "collapsed": false
   },
   "outputs": [
    {
     "data": {
      "text/html": [
       "\n",
       "  <script>\n",
       "  requirejs.config({paths: { 'plotly': ['https://cdn.plot.ly/plotly-latest.min'] }})\n",
       "  </script>\n",
       "\n",
       "\n",
       "<div id=\"49df4954-b54c-4644-8222-64bdb7f6704d\" style=\"height: 100%; width: 100%;\"></div>\n",
       "\n",
       "<script>\n",
       " require(['plotly'], function(Plotly) { \n",
       "Plotly.newPlot(\n",
       "  '49df4954-b54c-4644-8222-64bdb7f6704d',\n",
       "  [{\"x\":[\"000 ~\",\"010 ~\",\"020 ~\",\"030 ~\",\"040 ~\",\"050 ~\",\"060 ~\",\"070 ~\",\"080 ~\",\"090 ~\",\"100 ~\"],\"y\":[9725,11881,11248,13227,15838,15924,18931,13251,9331,2158,53],\"type\":\"bar\",\"mode\":\"markers\"}],\n",
       "  {\"width\":1000,\"height\":500},\n",
       "  {\"linkText\":\"Export to plot.ly\",\"showLink\":true}\n",
       ")\n",
       "\n",
       "window.addEventListener('resize', function() {\n",
       "  Plotly.Plots.resize(document.getElementById('49df4954-b54c-4644-8222-64bdb7f6704d'))\n",
       "})\n",
       " }) \n",
       "</script>"
      ],
      "text/plain": [
       "#<Plotly::Offline::HTML:0x007fa18c0408c8 @id=\"49df4954-b54c-4644-8222-64bdb7f6704d\", @data=[{:x=>[\"000 ~\", \"010 ~\", \"020 ~\", \"030 ~\", \"040 ~\", \"050 ~\", \"060 ~\", \"070 ~\", \"080 ~\", \"090 ~\", \"100 ~\"], :y=>[9725, 11881, 11248, 13227, 15838, 15924, 18931, 13251, 9331, 2158, 53], :type=>:bar, :mode=>:markers}], @layout={:width=>1000, :height=>500}, @config={:linkText=>\"Export to plot.ly\", :showLink=>true}, @embedded=true>"
      ]
     },
     "metadata": {},
     "output_type": "display_data"
    }
   ],
   "source": [
    "vector_generation = df_generation['total_count']\n",
    "plot(vector_generation, type: :bar).show"
   ]
  },
  {
   "cell_type": "code",
   "execution_count": 13,
   "metadata": {
    "collapsed": false
   },
   "outputs": [
    {
     "data": {
      "text/html": [
       "\n",
       "  <script>\n",
       "  requirejs.config({paths: { 'plotly': ['https://cdn.plot.ly/plotly-latest.min'] }})\n",
       "  </script>\n",
       "\n",
       "\n",
       "<div id=\"bf2a230a-2a5f-42d2-9104-ee642d970058\" style=\"height: 100%; width: 100%;\"></div>\n",
       "\n",
       "<script>\n",
       " require(['plotly'], function(Plotly) { \n",
       "Plotly.newPlot(\n",
       "  'bf2a230a-2a5f-42d2-9104-ee642d970058',\n",
       "  [{\"type\":\"pie\",\"labels\":[\"000 ~\",\"010 ~\",\"020 ~\",\"030 ~\",\"040 ~\",\"050 ~\",\"060 ~\",\"070 ~\",\"080 ~\",\"090 ~\",\"100 ~\"],\"values\":[9725,11881,11248,13227,15838,15924,18931,13251,9331,2158,53],\"sort\":false,\"direction\":\"clockwise\"}],\n",
       "  {\"width\":1000,\"height\":500},\n",
       "  {\"linkText\":\"Export to plot.ly\",\"showLink\":true}\n",
       ")\n",
       "\n",
       "window.addEventListener('resize', function() {\n",
       "  Plotly.Plots.resize(document.getElementById('bf2a230a-2a5f-42d2-9104-ee642d970058'))\n",
       "})\n",
       " }) \n",
       "</script>"
      ],
      "text/plain": [
       "#<Plotly::Offline::HTML:0x007fa18c02ac58 @id=\"bf2a230a-2a5f-42d2-9104-ee642d970058\", @data=[{:type=>:pie, :labels=>[\"000 ~\", \"010 ~\", \"020 ~\", \"030 ~\", \"040 ~\", \"050 ~\", \"060 ~\", \"070 ~\", \"080 ~\", \"090 ~\", \"100 ~\"], :values=>[9725, 11881, 11248, 13227, 15838, 15924, 18931, 13251, 9331, 2158, 53], :sort=>false, :direction=>:clockwise}], @layout={:width=>1000, :height=>500}, @config={:linkText=>\"Export to plot.ly\", :showLink=>true}, @embedded=true>"
      ]
     },
     "metadata": {},
     "output_type": "display_data"
    }
   ],
   "source": [
    "plot(vector_generation, type: :pie, opts: { direction: :clockwise, sort: false }).show"
   ]
  },
  {
   "cell_type": "markdown",
   "metadata": {},
   "source": [
    "## histogram"
   ]
  },
  {
   "cell_type": "code",
   "execution_count": 14,
   "metadata": {
    "collapsed": false
   },
   "outputs": [
    {
     "data": {
      "text/html": [
       "\n",
       "  <script>\n",
       "  requirejs.config({paths: { 'plotly': ['https://cdn.plot.ly/plotly-latest.min'] }})\n",
       "  </script>\n",
       "\n",
       "\n",
       "<div id=\"aa0f748a-9763-4116-bcb9-296720c5e459\" style=\"height: 100%; width: 100%;\"></div>\n",
       "\n",
       "<script>\n",
       " require(['plotly'], function(Plotly) { \n",
       "Plotly.newPlot(\n",
       "  'aa0f748a-9763-4116-bcb9-296720c5e459',\n",
       "  [{\"x\":[343.4,537.5,75.9,70.2,241.3,17.6,1706.8,4743.4,4391.6,4478.8,5906.9,4576.4,222.7,2819.0,5270.4,2453.3,1953.4,411.7,764.9,59.0,37.7,43.9,37.9,542.2,464.3,1172.2,132.9,781.9,7.5,5.9,271.5,88.0,258.0,31.9,13.2,15.8,14.3,187.4,394.3,33.5,34.4,87.0,82.2,308.7,52.0,93.8,19.2,659.6,97.3,29.8,19.5,33.9,3.0,57.2,82.8,20.6,33.8,70.7,157.3,372.7,242.2,78.4,44.8,40.4,242.9,235.3,81.7,204.1,5.6,509.1,82.4,471.6,7.6,5.3,120.9,142.8,78.3,44.5,44.4,44.9,35.2,29.8,27.3,25.8,24.1,131.4,43.1,48.5,79.9,42.8,19.8,21.7,13.2,20.5,16.0,82.2,9.9,9.6,27.1,21.2,10.9,15.0,14.7,17.7,14.2,24.9,4.1,36.1,9.4,11.8,24.5,19.1,17.0,13.1,16.5,59.6,21.1,204.6,22.9,7.6,10.6,19.2,22.6,151.2,4.5,36.2,107.7,70.3,102.4,44.0,69.4,65.4,32.2,21.8,14.6,71.3,57.8,16.0,13.8,12.8,12.7,52.7,135.4,34.6,46.3,13.3,4.3,31.8,16.2,48.7,50.4,4.2,2.4,17.0,27.2,5.9,7.7,3.6,3.2,2.2,2.2,9.1,13.7,5.9,8.0,16.9,4.9,5.2,10.7,8.8,4.8,10.4,5.0,8.2,14.0,3.3,8.4,37.8,33.9,28.7,4.7,4.7,14.9,49.2,7.9,17.7,11.3,18.7,28.5,6.5,14.5,16.7,8.2,83.1,3.4,2.6,19.9,33.6,13.4,3.9,11.9,3.7,7.8,23.1,13.2,34.5,25.3,19.4,15.8,45.5,12.1,56.1,124.3,16.0,36.8,32.4,45.0,13.7,38.3,6.2,15.7,13.7,3.2,27.6,7.5,9.9,20.7,14.0,19.1,22.1,26.0,13.2,17.7,96.7,24.8,7.3,14.2,6.3,24.8,36.8,13.7,19.2,7.3,13.2,55.5,11.8,73.2,20.2,6.3,21.1,5.4,4.4,7.5,14.3,81.3,14.4,15.4,7.5,10.7,4.6,12.0,17.0,12.0,35.0,9.0,14.8,142.4,230.0,63.0,363.3,404.9,145.0,350.1,615.5,78.1,33.9,778.0,1083.0,64.5,166.5,144.4,276.7,78.7,21.0,91.1,193.3,13.1,343.6,70.7,191.6,13.9,32.4,31.1,146.7,144.4,200.4,379.7,133.0,84.0,97.6,526.0,94.7,27.0,39.7,57.0,25.7,40.6,30.8,28.4,37.6,30.2,25.4,33.4,19.8,23.3,13.5,6.5,6.5,157.6,430.0,437.3,421.1,67.2,365.4,138.7,364.2,307.5,58.9,62.0,51.7,78.5,175.4,49.7,69.4,36.6,121.8,38.6,58.5,79.4,46.4,43.9,336.8,439.4,293.2,33.5,121.8,24.6,35.4,17.9,75.9,74.6,105.2,128.6,53.9,25.5,129.6,95.2,182.2,162.1,156.5,18.9,87.1,109.5,51.6,336.6,583.3,32.7,47.2,144.8,42.6,12.0,5.2,126.0,179.2,53.9,111.7,184.0,24.1,128.2,59.5,212.9,59.2,104.0,9.5,35.5,37.1,29.1,104.6,146.3,113.1,54.9,133.1,84.9,56.5,94.2,100.3,89.6,70.7,104.3,25.7,33.3,101.9,27.2,11.4,125.6,601.8,84.5,199.9,55.8,28.5,59.3,29.6,16.8,41.6,295.4,197.5,139.3,404.4,11.2,11.2,10.8,11.5,90.8,90.8,131.6,131.6,73.6,73.6,18.5,18.5,76.2,76.2,24.5,70.7,10.9,24.6,44.3,51.4,41.5,57.3,48.5,59.1,73.1,41.5,47.3,47.3,322.3,423.1,155.2,1334.9,964.2,3278.4,2734.7,966.7,1440.4,289.4,822.3,92.5,86.7,244.5,173.1,61.0,59.2,3162.9,220.4,299.5,101.7,175.5,130.6,730.8,212.3,3209.2,727.8,156.5,301.5,112.6,50.3,255.0,202.5,194.0,220.1,221.4,54.5,93.1,228.3,248.2,49.6,169.6,91.7,166.8,73.0,94.0,226.0,7.9,421.2,643.6,208.4,169.6,569.5,215.7,183.0,233.3,86.4,22.6,182.6,35.1,84.3,6.4,198.1,940.8,153.0,728.8,36.8,56.7,56.7,374.4,476.0,259.1,620.2,279.1,1538.5,759.6,206.7,110.4,108.8,957.5,88.6,57.8,68.0,55.4,212.4,32.0,30.2,271.6,213.1,335.6,533.4,157.6,152.8,152.8,106.4,106.4,99.5,128.5,93.3,104.8,47.0,357.3,666.1,31.1,53.5,138.5,199.5,55.9,141.9,341.1,105.6,212.9,135.8,67.8,352.2,18.9,198.7,86.4,152.9,51.7,22.6,134.1,130.7,149.8,64.3,154.9,141.0,26.0,11.9,48.7,70.5,236.8,42.4,55.2,55.4,167.7,16.8,26.4,45.8,351.6,197.2,285.4,527.9,101.9,349.2,157.3,55.8,134.9,31.4,40.4,252.9,67.0,31.6,59.7,19.4,8.9,61.6,114.5,113.4,247.1,96.0,27.0,84.0,16.8,19.3,30.0,30.0,10.6,10.6,40.5,13.6,76.1,48.3,72.0,166.5,35.1,35.6,34.6,57.5,48.9,389.6,114.6,18.9,128.7,128.7,171.3,87.1,178.7,45.3,72.8,14.1,125.4,196.1,53.1,666.7,162.9,104.2,407.0,175.0,82.6,97.2,8.4,34.1,184.4,530.1,31.8,114.2,36.5,174.2,304.7,140.4,136.2,137.3,550.5,224.0,50.9,209.4,293.3,246.7,384.7,54.4,381.0,15.9,39.9,59.9,102.5,102.5,28.8,39.3,29.8,51.8,24.5,17.8,39.7,20.3,122.2,139.0,104.0,26.2,12.0,97.1,24.1,109.4,232.8,92.9,31.3,294.0,74.3,74.3,147.2,265.7,55.0,381.1,383.9,283.0,329.5,348.9,272.9,215.6,447.4,277.9,211.9,406.0,101.8,141.5,55.1,283.6,437.3,97.1,87.7,94.4,224.6,18.8,214.3,23.5,46.0,191.3,173.7,258.4,255.7,79.9,99.0,88.2,97.5,136.7,22.6,68.9,135.4,177.9,236.5,105.4,136.4,249.1,1214.0,226.1,563.3,96.7,91.4,358.1,574.5,181.3,184.7,299.1,266.1,122.0,107.9,107.9,74.4,410.1,27.9,12.8,20.4,1.6,6.6,20.2,33.4,7.6,10.3,21.7,30.5,13.6,24.7,63.0,40.0,87.1,189.4,205.6,22.8,32.9,21.2,8.4,7.2,82.3,67.2,148.7,89.3,163.3,102.8,192.1,272.6,304.9,56.8,94.2,53.7,46.7,30.4,98.2,153.6,155.3,74.0,184.0,36.9,148.5,250.0,89.5,84.2,92.8,74.4,233.7,14.3,146.3,134.9,93.7,18.2,52.2,177.4,27.0,487.2,527.9,281.3,1236.0,1443.3,357.8,856.3,1167.5,194.1,1169.5,1650.6,274.1,1157.1,2737.0,920.8,741.3,369.6,856.8,186.1,797.3,1027.3,556.2,583.6,471.9,528.8,514.1,555.6,151.2,332.2,176.3,64.9,31.3,160.2,252.1,330.5,210.5,610.8,317.3,1567.3,2082.0,986.6,1387.3,755.4,732.9,994.4,1585.3,623.7,427.6,299.5,567.6,1753.6,1753.6,129.7,90.8,315.6,83.6,49.0,71.2,554.6,553.2,562.8,528.5,717.8,431.1,331.3,433.9,455.5,460.0,443.2,227.9,353.1,318.2,191.8,199.2,278.1,238.1,553.0,254.0,239.4,282.2,236.7,643.7,707.0,570.7,169.1,244.3,180.0,253.9,240.9,215.1,255.5,261.0,561.8,559.5,565.0,360.5,291.3,409.3,560.7,242.5,283.7,790.3,132.9,247.8,137.8,33.8,998.9,998.9,61.6,61.6,413.7,259.9,671.5,229.5,391.0,391.0,504.1,407.5,552.0,701.7,701.7,313.3,347.8,193.5,1227.7,1498.2,165.6,726.1,869.0,550.8,655.2,732.7,281.6,429.5,340.5,984.5,153.3,115.4,208.6,296.6,53.1,62.1,46.1,249.8,14.9,4.0,36.5,958.3,492.1,592.5,289.8,219.5,433.8,146.3,79.1,207.1,198.7,180.4,800.7,43.1,356.8,650.5,162.3,167.4,146.0,186.3,797.6,649.3,928.2,880.3,580.0,580.0,203.8,203.8,170.1,271.9,87.0,188.3,228.3,605.2,648.4,850.2,390.3,174.2,71.4,429.3,80.0,71.9,95.7,78.6,158.6,315.6,588.7,87.9,1091.9,1907.9,317.3,891.1,168.8,427.7,808.2,2257.8,225.9,32.0,466.2,1756.2,3365.5,421.4,443.3,748.4,465.2,22.3,1487.3,2016.7,889.6,1304.6,957.8,1232.3,1561.2,703.1,772.5,973.0,115.6,317.5,129.4,15.6,1289.1,346.6,885.0,521.8,141.3,282.9,63.6,150.6,377.5,484.8,116.3,423.7,506.4,153.0,221.0,455.7,85.2,249.2,17.8,1568.1,420.2,705.4,514.3,965.9,12.3,7.2,20.5,26.5,13.3,68.2,47.3,20.4,232.5,47.8,41.5,70.1,8.0,44.9,30.2,143.9,61.0,61.6,65.2,61.0,28.6,12.5,45.7,118.7,27.3,141.8,9.2,35.4,1454.3,1454.3,798.6,375.4,569.9,527.3,2245.2,868.3,1894.2,2366.4,572.5,5620.6,7468.0,5453.0,11586.9,2883.6,8198.1,8508.9,5130.4,11448.7,5210.3,12579.1,12598.1,4153.8,2263.8,2263.8,3139.2,1270.8,1820.9,552.1,582.2,721.5,8979.3,1273.4,1329.4,680.6,115.9,411.8,79.0,3.1,121.1,4749.6,432.5,604.6,37.1,861.6,1149.7,695.9,598.4,581.8,912.8,1661.4,394.1,1379.1,3594.6,5297.5,1306.0,3175.5,959.9,1772.7,2311.8,1873.5,514.9,1044.9,1453.8,609.6,570.6,799.7,4916.0,8893.3,5410.6,14020.0,6773.7,3349.8,9792.3,7056.1,7683.3,7313.9,6963.9,2957.7,1872.7,2779.5,743.7,1694.2,2644.6,3472.2,4602.2,5418.1,4350.0,2321.6,2482.3,1590.9,3947.5,1210.5,2065.1,7204.8,8261.2,6289.6,2871.2,2871.2,1005.9,2529.8,1147.6,310.0,497.0,583.1,632.7,544.5,530.8,545.7,595.3,222.7,172.7,366.5,126.8,183.2,171.2,260.1,78.4,107.6,37.4,90.1,518.3,346.6,305.1,576.1,46.2,1061.2,557.5,557.5,2055.2,2109.2,2020.6,1689.2,1564.1,1920.7,1205.5,1367.1,337.2,3534.8,4449.1,5284.7,7424.4,1800.1,1835.9,7096.5,836.7,8243.5,7111.6,447.2,932.1,7899.2,1501.7,1722.0,957.3,930.1,602.9,833.3,227.9,242.3,1662.2,691.2,531.6,808.9,226.0,373.8,553.0,7838.5,3516.2,4833.0,1229.7,220.7,761.6,4648.1,3701.6,3103.0,187.0,198.7,147.7,5109.1,279.7,234.1,9530.5,2499.3,635.9,977.9,712.2,1225.8,295.5,371.8,1704.2,1704.2,947.6,947.6,182.9,198.7,135.6,132.6,299.2,316.0,117.4,159.2,391.2,379.6,435.6,315.9,364.4,387.1,199.7,170.5,383.2,494.4,349.3,445.7,274.7,260.1,161.6,288.4,313.0,851.1,1116.4,695.6,271.2,325.1,220.2,328.3,524.1,863.1,759.0,182.2,368.8,335.2,402.0,279.3,522.8,206.2,520.9,442.5,170.2,138.8,119.0,82.2,310.5,198.2,198.2,6015.7,9299.5,110.7,14386.1,4047.7,12059.1,10085.1,17899.6,18269.3,17453.2,18007.7,11537.8,16078.4,18253.7,11661.2,15102.2,13533.6,20189.2,16154.3,21881.5,16296.5,19931.0,16656.0,14869.7,12846.4,12721.6,13644.8,3113.4,7369.5,12929.5,11277.8,1349.4,8708.5,6479.9,10385.2,5961.0,10490.0,9141.5,6540.2,8943.3,10509.6,9265.0,5839.5,12324.1,6135.0,7272.2,9020.6,4557.8,7004.2,4720.9,5755.0,1102.6,12398.2,12975.6,11964.3,156.3,1990.3,592.9,24.3,26.8,95.7,92.9,82.8,103.6,100.1,39.7,48.2,16.9,101.1,113.3,33.6,26.7,26.7,3745.4,4832.5,503.2,8433.8,8190.7,9775.1,13475.4,7000.6,15481.7,9431.0,8515.2,6748.6,10492.7,7660.5,11143.0,7662.1,6960.5,7395.9,6749.5,6622.6,8659.6,7206.3,9989.6,5542.7,15344.5,15913.3,13286.1,10438.9,11760.7,7299.2,2182.0,7150.7,1190.3,226.0,303.8,156.8,694.2,7249.2,7182.3,4154.2,3846.3,4401.9,5893.5,1738.3,6583.1,3362.3,1497.9,1642.2,2391.8,8432.6,1819.9,4822.8,7362.7,572.2,3732.8,1920.6,1920.6,3552.3,3552.3,2379.4,1919.3,3251.3,223.4,500.0,1247.2,309.3,52.4,2495.3,347.3,149.2,1169.8,655.0,431.4,1227.4,48.5,188.7,215.5,43.1,1118.2,2441.0,863.8,501.8,644.0,574.2,501.3,2081.9,259.5,367.0,480.2,1053.6,319.6,248.1,405.8,300.4,719.2,3561.9,4824.6,919.2,810.7,465.6,1719.0,344.1,317.3,738.9,102.5,285.0,239.6,205.5,339.6,140.1,184.7,29.7,97.2,70.5,236.8,1065.9,33.0,247.6,206.6,261.8,28.8,106.0,189.9,179.3,260.9,180.3,280.6,248.8,222.6,99.9,187.5,98.2,44.1,39.5,29.5,537.0,56.6,205.4,290.9,114.2,16.9,23.1,738.0,1097.5,367.5,757.0,63.9,62.9,61.9,69.8,79.6,146.4,42.0,30.3,155.0,364.6,73.2,209.4,540.3,41.0,74.4,26.9,37.8,124.8,609.7,248.0,62.2,98.8,110.2,80.3,150.6,43.5,236.4,246.4,291.0,509.1,95.0,73.3,63.1,40.2,194.2,127.8,64.6,71.1,82.4,124.8,73.4,51.0,42.6,125.7,391.9,17.6,76.9,33.6,5.8,105.4,100.0,105.7,112.5,118.5,303.2,32.0,361.3,361.3,341.1,341.1,402.6,402.6,14.0,14.0,54.1,8.8,7.8,14.6,110.6,110.6,23.5,23.5,63.9,63.9,182.6,182.6,22.0,21.5,37.1,257.4,293.9,110.3,339.8,1553.4,297.9,19.3,88.7,587.5,43.7,37.8,840.7,1082.1,223.8,224.1,224.4,616.7,98.2,415.4,17.1,389.2,446.2,210.6,239.1,81.8,141.3,11.4,7.4,3.7,351.1,105.7,446.1,110.4,857.2,1078.3,805.5,592.0,334.1,1340.1,95.7,855.0,92.8,89.4,137.2,381.3,60.3,279.5,308.6,193.9,988.4,182.1,300.5,187.5,64.2,63.7,292.2,70.0,86.6,41.8,65.9,234.9,417.4,55.8,281.0,535.1,391.9,1850.5,390.3,146.3,1150.1,1416.4,620.7,14.3,8.2,37.9,3.6,4.3,580.6,1184.1,1290.3,273.8,416.5,416.5,3826.3,3826.3,488.2,334.5,1321.2,101.9,90.1,65.3,115.0,127.8,108.7,148.7,207.4,207.4,201.6,176.9,316.2,64.2,53.1,53.1,71.5,79.8,36.5,121.7,192.4,251.6,74.7,497.6,736.2,32.9,96.9,235.9,269.7,134.6,40.5,64.4,1.6,100.4,795.9,256.3,334.3,219.0,371.0,394.4,275.8,437.8,474.0,302.3,1002.9,408.3,218.9,218.9,600.2,122.8,130.2,15.6,15.6,33.6,33.6,102.8,17.7,37.1,151.4,151.4,206.2,117.9,145.9,121.6,69.3,69.3,69.1,153.3,40.4,17.6,88.8,90.1,90.1,85.7,95.3,193.3,261.6,76.5,936.8,1125.2,252.2,14.7,415.5,207.9,127.1,579.6,49.2,7.7,100.3,226.0,275.1,931.7,509.2,2.7,1221.7,457.0,786.1,77.9,165.6,36.6,143.3,222.9,73.4,177.4,27.8,53.0,1026.0,3089.7,473.3,805.7,349.3,534.2,1839.5,203.7,346.7,322.7,210.1,11.9,158.9,41.8,201.0,128.5,128.2,248.7,30.3,984.7,259.5,1363.4,1646.4,227.9,227.9,135.5,301.4,254.3,41.7,3.4,47.9,32.9,83.1,50.8,44.9,49.0,39.8,145.6,191.1,82.3,1931.4,1931.4,116.1,24.1,299.1,343.3,100.8,33.1,160.7,16.3,333.2,618.3,52.7,9.7,15.5,6.7,158.7,253.9,65.1,457.0,884.6,25.2,69.2,493.7,30.0,12.6,67.8,248.3,781.7,57.0,255.7,6.9,5.4,280.3,289.1,688.3,222.8,58.4,43.2,620.6,159.9,316.8,4.0,8.5,469.5,348.2,445.9,106.5,302.6,45.4,6.0,203.1,407.3,532.1,129.5,52.7,59.8,27.3,16.4,116.4,211.7,233.2,376.2,24.2,237.2,364.5,175.2,74.1,319.8,517.9,484.1,388.7,703.7,273.3,199.9,295.2,290.8,210.8,712.2,222.1,455.6,140.4,36.1,45.4,23.7,26.5,17.0,15.0,64.2,63.9,64.6,147.2,121.9,250.7,115.3,47.2,80.7,36.9,48.4,24.3,174.4,321.9,106.0,175.1,166.4,123.7,304.4,113.9,355.6,65.9,164.6,50.5,187.6,292.0,44.2,32.8,14.8,50.5,11.7,7.3,12.6,111.5,15.1,15.1,29.6,100.5,88.7,4.7,20.1,31.1,22.3,22.3,3.1,17.7,26.8,46.2,44.1,12.1,12.5,86.7,86.4,50.1,337.8,67.1,52.0,58.1,64.1,37.0,60.3,257.1,214.4,48.6,12.0,293.3,293.3,158.5,580.6,76.8,53.1,51.4,49.7,66.5,85.4,61.9,52.4,157.5,173.7,139.5,8.2,8.2,195.9,207.7,149.8,2036.3,2048.7,1723.4,780.4,1887.0,48.9,1367.6,42.6,458.2,20.0,7.0,3.8,50.4,35.7,10.0,2.1,91.1,7.6,1234.1,1315.3,764.1,193.3,743.6,52.0,6.9,223.6,54.8,38.7,119.6,194.0,167.7,30.3,26.9,83.7,83.0,77.1,74.2,193.3,230.8,1252.7,106.5,200.9,152.3,76.6,90.5,21.7,17.1,731.6,521.3,1658.9,1692.2,1328.3,1112.3,1129.5,551.0,133.4,472.6,140.3,48.2,1842.9,2353.2,1126.8,33.7,156.2,6.2,4.2,30.7,93.6,157.7,1136.6,761.0,5.7,43.2,59.7,44.1,58.8,30.9,59.1,11.9,19.4,42.7,78.5,14.2,68.9,41.1,13.3,337.8,316.5,472.6,313.7,2552.7,3013.2,2201.6,434.3,434.3,343.9,498.9,164.3,764.9,1069.0,448.5,840.0,82.8,29.6,374.2,45.8,10.4,12.2,1.2,2.7,698.0,644.0,3558.0,3558.0,86.2,648.6,327.9,257.2,49.6,93.5,40.1,28.9,332.5,332.5,4.9,4.9,483.9,550.0,174.2,507.3,408.7,237.9,2923.0,933.1,995.2,834.1,388.5,514.0,2325.4,114.4,1367.2,20.5,12.4,27.0,9.5,2629.8,1874.1,649.1,113.6,203.1,5391.7,2735.1,993.5,2177.4,320.3,1369.8,36.0,1081.1,1307.6,95.2,642.9,1800.1,339.3,390.0,124.2,575.5,317.4,572.4,308.0,45.2,1036.8,1110.5,526.7,1027.7,1387.9,1173.4,817.1,1470.6,289.3,2030.5,2625.9,929.0,438.1,450.5,353.5,449.6,732.6,925.7,222.7,457.4,781.6,820.9,670.9,238.9,394.1,693.7,785.1,1251.7,94.0,220.1,88.8,49.5,71.3,526.9,882.3,447.2,499.2,493.7,501.7,520.2,916.6,561.4,337.1,438.9,422.9,458.6,101.5,180.7,79.4,86.0,89.8,89.7,96.8,78.0,592.2,592.2,546.4,3654.1,1537.6,151.5,73.2,1430.7,16.3,45.1,6.9,145.2,145.2,1434.8,1646.7,521.3,6935.3,8777.6,9515.8,9446.4,8104.8,8348.5,8353.2,9646.8,9355.4,7960.5,6916.0,3265.8,7654.9,4958.8,6067.4,8282.5,7344.7,1441.2,961.6,1602.6,53.7,3323.4,3490.9,2647.3,3436.6,1184.7,2515.4,3296.0,1131.7,1859.4,304.2,443.4,2171.7,718.4,2602.0,2008.3,2889.6,458.9,1305.8,296.2,54.8,44.6,43.6,36.2,26.0,2077.6,1409.6,1447.8,1003.0,986.1,3305.6,2342.1,1720.6,2092.7,1000.0,1488.1,99.9,296.2,46.3,23.3,2483.6,2531.1,1852.4,4185.9,3858.3,3386.7,4512.9,3008.8,2413.7,339.6,457.7,246.3,248.2,975.2,1582.6,316.7,388.0,2061.1,3796.6,5056.8,2050.9,4123.4,4020.0,4440.4,5435.3,3604.1,884.5,559.5,971.0,1871.6,1871.6,3143.0,2745.5,2407.0,4283.7,2372.3,2321.2,2415.1,2327.1,2327.1,2261.9,1652.9,3001.6,1767.9,4535.8,3305.2,200.8,987.5,1063.7,1602.3,537.4,542.7,1642.4,691.5,1057.5,619.7,474.2,668.0,668.0,19.6,21.1,20.1,25.1,30.4,8.6,9.9,4.0,321.0,402.0,133.8,402.0,1599.0,640.0,974.7,134.4,75.4,297.7,1266.2,312.6,109.2,26.0,1497.1,1504.1,1405.8,624.7,520.5,762.0,1640.7,1496.5,269.4,595.1,251.8,740.2,69.4,18.0,1026.9,1979.3,235.2,494.3,1023.7,618.7,103.7,267.3,395.7,88.7,198.5,52.6,70.3,12.3,208.1,157.9,379.8,360.9,104.5,304.3,174.5,553.8,716.3,508.5,105.2,174.2,311.9,169.8,104.7,102.9,55.6,96.6,436.1,436.1,1132.4,1132.4,523.1,374.0,1607.0,1607.7,96.0,149.6,212.9,91.0,558.0,28.7,125.8,11.2,74.5,373.6,64.4,42.2,46.7,53.9,22.7,60.9,78.7,46.2,72.4,72.4,87.0,61.5,126.7,106.2,149.3,96.8,1549.0,351.2,364.0,220.2,727.5,1042.8,311.7,569.8,182.3,1383.8,155.3,566.7,311.3,428.4,363.7,88.2,21.0,65.1,460.8,900.6,511.2,1926.9,1373.8,1206.7,1206.7,192.5,585.7,66.4,152.9,407.1,77.4,623.3,568.6,939.2,774.8,902.9,744.9,75.7,76.6,107.2,12.5,278.8,102.3,343.3,297.2,852.6,434.6,31.9,746.6,746.3,131.7,340.0,159.9,242.3,50.6,267.6,566.6,220.7,194.4,290.1,530.1,530.1,317.1,941.0,145.1,967.5,550.7,57.1,571.4,647.5,181.6,1780.4,2406.3,1285.7,11710.8,683.7,14269.1,5432.7,11625.7,6257.5,695.1,2656.7,25.9,4610.3,4727.1,2584.0,144.1,253.1,42.8,39.3,50.8,259.0,103.2,2806.9,117.8,410.8,2444.6,7083.2,4162.9,3045.8,1581.5,117.6,188.3,150.4,189.6,91.0,68.3,71.2,57.1,12.8,167.9,164.2,44.1,819.6,362.3,1948.1,401.9,2532.8,2532.8,1148.2,1148.2,238.0,468.8,166.7,251.3,69.0,69.1,1388.5,47.9,51.9,51.9,105.3,41.6,28.3,153.0,38.9,219.1,121.6,501.6,285.8,4669.7,5434.7,624.8,11980.6,16964.0,14409.0,3995.7,15972.7,10752.8,7371.2,14536.5,14129.3,6852.0,13327.2,17633.2,15991.5,14675.4,19695.0,17754.6,16656.5,13407.6,16594.8,13613.8,13625.2,6124.7,13072.2,10686.5,8861.1,5613.5,5868.0,2975.8,6278.9,6885.8,8153.1,4668.8,3827.4,10048.8,2966.8,2754.9,10702.1,4718.4,9853.2,5848.3,3393.4,2057.7,11523.7,6268.9,3591.5,6508.3,1831.7,3015.0,9632.2,1026.3,7478.6,6980.5,2176.8,2715.2,2945.0,4450.9,10609.3,5626.3,5248.6,7442.6,8243.5,1328.4,3071.2,3040.5,4909.5,1569.1,1724.4,1724.4,252.8,639.8,118.1,4503.5,4503.5,991.1,2615.7,1630.0,356.5,485.3,1003.5,674.6,160.9,665.6,799.2,154.8,2794.1,6928.2,4118.9,7448.7,8867.7,5789.0,7866.2,942.4,4447.3,1808.9,1003.4,1762.6,295.5,135.5,606.4,89.0,9080.4,5907.8,4857.0,259.0,296.2,179.7,5039.9,7854.5,344.5,122.7,274.7,121.1,48.4,114.8,115.1,29.3,1927.2,398.2,323.1,364.8,208.5,2213.6,458.8,603.0,151.9,2729.7,2927.1,534.7,543.3,317.9,114.6,62.7,140.7,69.1,28.9,41.1,137.4,309.1,166.9,64.2,152.1,122.7,122.3,217.4,219.0,191.1,270.4,198.4,81.4,37.7,145.1,120.7,49.6,252.1,280.3,435.0,172.9,198.2,346.2,62.2,136.8,42.4,25.6,31.4,255.1,238.8,608.0,144.8,381.7,578.6,162.9,535.0,628.0,351.1,351.1,124.8,124.8,225.6,78.9,106.4,1457.6,887.5,3650.5,137.3,160.7,432.8,60.8,72.2,48.4,1478.2,1478.2,110.7,110.7,62.6,62.6,65.7,50.9,80.7,59.2,58.5,53.4,87.3,33.4,33.2,66.4,95.1,45.0,379.5,870.3,121.4,1324.2,1696.6,75.3,135.9,4151.1,2085.8,800.9,3178.3,608.0,118.0,347.8,33.4,3.8,500.0,2221.0,3104.7,1063.1,1124.0,995.4,138.2,155.2,153.0,271.6,47.5,61.7,61.7,1536.6,825.4,2663.6,1943.5,1831.2,1549.8,1456.7,1828.0,1522.3,31.4,39.6,26.4,271.1,297.1,243.2,2583.8,3864.5,3168.9,2025.1,2240.7,23.1,90.4,503.8,113.2,17.6,8.9,3.4,6.1,7.8,2.5,6.1,16.3,212.0,375.5,84.6,1770.1,541.4,684.3,321.3,509.3,476.8,689.0,828.6,594.4,77.1,484.5,14.6,14.3,13.8,15.9,123.3,375.8,8.9,288.5,321.7,183.5,276.5,145.0,921.1,1373.6,1373.6,81.0,81.0,184.5,36.6,81.6,120.1,171.1,8.1,112.5,29.0,109.8,635.1,118.1,77.2,418.6,68.6,19.1,83.3,631.5,160.1,211.7,75.7,112.0,61.1,296.0,31.7,86.0,24.7,10.8,97.5,112.9,290.7,28.5,257.6,27.1,63.1,93.1,545.3,10.5,10.1,134.4,149.6,104.8,167.8,360.1,68.0,257.9,641.1,92.1,89.0,89.5,45.4,28.6,262.8,81.0,101.6,1121.5,1306.5,358.4,186.4,268.7,39.3,1224.7,101.0,101.0,47.6,19.4,34.4,89.1,115.9,73.5,67.7,114.1,30.0,218.5,673.0,188.0,128.9,132.4,135.2,128.6,270.2,360.2,218.2,98.3,802.6,92.2,73.1,148.2,77.0,101.2,93.1,122.9,83.3,178.3,46.4,21.0,16.0,27.9,27.1,107.0,143.0,47.5,366.3,681.2,267.3,100.5,102.3,120.4,170.1,152.7,119.3,89.5,270.0,28.1,38.0,14.2,53.0,264.6,516.6,189.4,34.7,68.4,241.2,356.8,68.2,154.4,17.0,4.6,87.1,91.3,45.8,137.4,99.4,239.5,38.9,51.7,95.7,143.4,27.1,75.7,88.1,204.1,141.2,93.8,18.0,30.6,336.7,336.7,39.3,39.3,42.9,35.9,22.8,22.8,19.7,26.1,343.4,343.4,26.2,36.7,18.9,19.8,17.2,28.5,21.9,22.1,41.8,23.7,27.4,34.1,21.9,20.3,11.5,26.3,62.7,70.8,56.0,48.0,63.9,92.8,21.6,36.8,37.2,273.5,325.2,80.5,898.3,1291.1,85.1,67.9,364.2,513.4,671.5,2773.2,604.3,1315.9,1340.5,1492.2,655.0,507.2,210.9,472.6,29.9,13.7,149.6,93.6,623.3,398.6,180.5,377.4,66.6,63.6,312.3,292.5,424.4,591.2,63.9,96.6,51.3,60.2,36.9,22.6,42.7,62.9,27.4,15.3,32.6,37.2,146.5,191.0,210.9,53.5,301.5,241.6,271.8,427.6,207.5,706.6,105.3,215.4,53.5,59.1,78.1,58.1,98.9,21.1,144.2,20.9,26.1,45.6,14.1,71.1,35.5,74.1,42.6,143.3,60.3,49.4,543.4,576.8,495.7,658.3,106.5,106.5,60.7,139.5,1605.0,1605.0,892.6,892.6,166.5,166.5,14.3,14.3,32.4,32.4,9.2,11.6,7.7,87.2,139.8,207.0,87.5,26.2,26.2,67.4,67.4,67.4,95.7,33.9,77.0,48.5,48.5,37.4,60.7,337.4,399.2,102.1,1296.5,1573.7,8506.0,3066.3,5296.7,5242.1,1994.1,423.5,838.1,603.0,2109.8,40.4,678.2,1314.7,678.2,114.8,188.4,109.2,185.2,541.8,151.5,160.6,242.1,213.3,382.3,53.7,133.6,76.0,509.7,798.3,639.6,267.1,91.0,809.8,890.5,1051.7,223.9,395.0,741.8,392.4,217.5,337.5,62.8,72.7,151.1,42.1,19.4,19.7,17.3,50.9,80.4,43.2,32.3,81.1,22.5,18.1,29.0,20.8,13.1,12.1,367.0,299.3,493.2,382.4,43.3,50.6,73.6,167.8,233.0,1545.7,378.5,55.3,4.8,57.9,58.5,130.8,86.3,24.2,30.2,70.9,50.6,267.7,354.4,325.8,122.9,284.5,1586.8,4827.0,2061.9,729.7,846.3,27.5,21.2,37.7,18.9,13.6,30.9,9.6,35.0,61.7,29.1,195.1,195.1,185.1,203.8,205.5,63.1,63.1,61.9,72.4,50.0,27.1,27.1,26.4,22.1,28.0,31.3,237.4,242.5,161.3,392.3,1060.3,95.2,36.6,247.3,63.0,604.0,794.1,86.6,192.1,399.4,23.3,301.5,726.0,360.0,22.6,76.9,296.5,10.5,39.1,24.8,35.4,13.4,21.4,618.3,615.6,164.6,452.9,312.3,479.4,27.3,93.0,15.6,17.2,34.3,576.5,761.2,232.1,107.1,141.4,86.7,96.6,71.1,248.2,246.3,269.4,60.6,76.7,43.7,47.4,227.8,290.8,484.4,224.3,20.6,485.4,1005.8,236.6,138.1,138.1,158.8,133.1,108.4,170.2,604.0,604.0,274.3,95.7,317.5,391.4,32.2,32.2,189.4,283.5,95.2,1380.6,454.1,896.6,272.2,207.8,587.8,1488.4,305.3,713.5,452.5,255.4,22.4,205.5,599.6,143.2,148.4,255.4,88.4,152.1,179.2,59.2,8.1,41.5,111.8,82.7,32.1,92.8,7.1,12.1,42.1,82.6,16.3,61.2,61.2,158.3,900.2,34.8,13.4,13.4,96.5,27.1,9.8,4.0,5.7,43.9,85.3,55.1,123.2,41.7,31.9,25.0,79.6,33.8,884.8,1081.1,2469.6,2049.0,393.6,368.8,53.9,53.9,86.8,112.3,9.4,122.8,122.8,104.9,137.2,530.7,658.3,262.3,1118.1,1737.3,1083.4,356.5,38.4,861.1,526.4,912.8,988.2,1273.8,406.4,856.9,601.6,848.0,533.7,864.8,237.0,479.0,333.5,509.6,180.3,531.8,248.6,268.9,219.3,154.3,162.1,428.6,307.7,280.2,211.5,484.6,573.6,462.7,407.7,88.8,183.9,203.3,168.9,180.1,148.9,375.6,375.6,233.7,233.7,365.7,2284.3,224.5,84.0,484.7,231.4,1178.1,965.4,98.2,30.5,231.9,72.6,252.1,325.8,81.1,1205.5,1675.8,271.2,124.1,396.6,1485.0,145.7,51.3,578.7,466.8,178.0,146.1,166.8,332.7,138.4,78.6,96.0,179.3,385.2,232.2,107.5,53.0,288.4,294.1,274.7,519.6,753.6,2.4,220.2,258.9,419.9,118.6,97.0,109.1,150.3,100.7,40.1,16.4,195.5,528.6,46.9,71.0,214.5,519.1,195.4,17.3,192.8,81.7,188.3,144.4,130.0,50.0,30.9,166.7,239.8,100.4,251.4,251.4,71.9,289.5,440.6,201.1,16.5,16.5,38.1,4.1,13.6,7.1,429.4,1494.0,216.4,369.4,19.2,60.3,60.3,20.2,81.0,140.5,115.3,115.3,194.0,66.7,94.8,47.0,44.4,48.1,66.2,17.0,100.4,100.4,90.5,163.3,104.6,51.9,111.0,107.6,200.9,36.3,1110.5,2243.5,24.1,16.4,351.1,61.3,61.6,394.7,313.2,182.3,79.0,60.1,56.8,85.1,13.0,267.4,1918.9,112.7,800.9,97.6,445.4,53.4,184.4,38.6,7.7,33.4,39.8,125.1,447.0,56.8,6.9,6.1,102.1,19.6,30.6,15.0,15.5,20.5,4.3,39.3,53.2,2.7,217.3,16.4,19.5,13.4,29.6,19.8,40.9,39.2,66.7,13.9,138.3,56.9,16.8,121.4,32.4,18.5,59.5,29.2,46.6,14.1,18.0,52.6,56.1,19.7,65.6,47.5,77.9,1019.0,1198.9,507.8,2002.2,1423.9,1247.1,3696.5,4631.8,1256.9,1974.7,3096.1,4288.5,4298.3,6753.3,11769.7,7976.0,2305.6,8031.1,2206.4,1516.1,1315.7,1896.8,390.4,848.0,731.9,978.9,933.7,614.1,1105.7,137.6,994.9,409.3,372.7,928.2,928.4,1029.6,696.4,1017.1,143.1,968.3,90.7,59.3,122.4,17.5,38.7,1159.2,1113.5,1009.1,243.2,2766.6,1285.7,1141.2,7546.3,3537.5,798.1,1115.0,262.7,90.0,2382.8,1375.4,1051.8,1381.1,635.1,269.2,592.1,166.8,214.9,391.4,109.0,315.1,457.5,1023.6,673.3,103.8,228.4,239.0,167.7,256.1,387.5,592.2,189.3,326.6,455.4,654.7,224.3,315.9,663.8,663.8,1303.5,1277.0,805.1,5007.4,1594.9,1305.1,223.7,2974.3,1038.3,1345.8,2721.8,662.1,865.4,516.3,606.6,480.3,690.7,690.7,265.2,434.0,609.7,350.1,46.8,33.3,64.4,669.5,669.5,778.6,778.6,534.2,534.2,271.5,262.2,82.6,1196.1,505.6,386.4,101.5,587.9,1040.6,569.1,420.7,291.0,772.5,142.6,65.7,204.3,423.9,182.4,1195.8,125.8,303.7,77.0,163.8,213.7,125.6,348.3,350.7,337.6,550.5,1584.6,934.9,378.6,542.6,571.1,395.0,30.4,35.1,260.4,602.3,206.3,37.1,79.0,126.6,174.9,169.0,165.1,712.1,963.0,220.8,224.1,259.4,263.0,226.3,292.2,274.0,470.9,362.2,636.6,751.1,339.8,229.1,239.2,223.3,263.2,491.3,476.8,29.1,373.4,373.4,933.9,189.5,613.3,806.4,721.2,504.4,436.1,657.3,428.1,177.1,177.1,318.1,318.1,437.7,234.4,313.8,643.0,388.7,257.5,267.3,247.7,249.6,132.6,132.6,347.5,353.1,306.8,1091.9,1676.9,873.7,317.8,392.1,287.7,520.8,181.3,97.6,612.2,932.1,98.2,177.8,168.6,221.6,214.9,118.5,573.3,615.5,468.4,438.1,649.1,437.8,247.3,307.7,209.2,194.7,715.2,148.1,120.8,81.9,370.9,205.3,192.9,208.5,169.3,133.1,48.5,72.2,65.4,49.8,31.7,22.2,40.3,212.0,233.3,205.4,174.2,267.7,96.5,155.2,102.2,23.2,87.8,42.9,111.1,128.9,134.1,118.0,420.7,125.2,85.0,228.3,273.4,210.4,213.0,481.7,154.2,188.9,275.8,296.4,290.3,581.4,234.1,143.5,264.6,358.3,421.6,336.7,1465.2,1476.4,1449.7,231.6,119.9,393.3,272.1,284.8,111.9,421.0,103.2,103.2,54.1,110.0,162.5,107.1,160.6,245.4,391.8,96.8,1885.5,2534.4,546.9,424.4,454.1,194.3,689.9,27.1,630.0,530.9,37.7,8.1,169.2,968.0,165.6,455.9,480.0,610.8,311.4,303.0,184.8,358.5,51.5,86.2,471.0,151.9,181.4,138.2,267.1,105.9,539.3,508.5,237.0,396.3,153.3,143.6,242.2,328.2,177.8,321.4,684.2,316.6,149.7,75.6,93.8,85.5,21.1,130.4,268.2,163.4,92.4,157.1,120.6,75.7,61.4,182.6,41.8,43.7,1034.5,829.2,1278.7,79.1,79.1,113.6,65.0,207.8,227.6,153.2,853.6,113.9,164.0,82.2,504.7,315.2,1004.4,56.0,38.2,57.5,26.4,38.4,87.9,87.2,86.2,51.9,134.6,111.5,180.7,520.8,497.6,193.2,31.2,32.3,35.3,20.7,381.9,381.9,336.5,489.4,91.0,82.6,143.3,72.9,149.0,44.6,130.4,63.6,90.4,12.6,52.2,4.8,30.4,20.5,104.3,56.8,565.9,131.3,69.3,85.1,123.9,123.9,188.7,199.7,90.7,945.8,1272.0,52.6,209.5,1001.2,171.7,1237.5,113.9,37.0,24.0,22.6,106.5,219.6,14.7,12.0,9.9,74.4,53.0,85.2,238.7,138.5,86.6,13.2,11.5,30.7,173.6,82.9,84.0,142.5,218.1,60.0,250.4,51.1,73.4,59.4,30.3,28.4,115.7,138.7,75.9,86.6,114.6,253.3,33.8,53.4,134.4,266.7,38.0,48.5,65.4,108.6,46.2,38.4,42.6,43.3,106.2,86.5,108.7,308.7,59.6,82.6,100.7,66.2,107.2,133.8,105.2,318.6,318.6,385.3,385.3,49.3,38.4,59.5,146.7,204.7,60.9,621.4,1101.9,604.3,101.8,579.5,79.7,259.6,437.8,68.1,118.8,125.5,106.4,151.1,419.4,21.1,14.3,37.7,107.6,143.7,26.5,168.5,85.7,165.6,90.9,8.1,188.0,500.4,20.4,69.3,74.4,76.3,225.4,225.4,117.1,117.1,124.5,160.0,75.9,103.9,494.8,293.2,4.6,35.5,188.4,108.8,23.2,156.5,10.0,5.8,13.9,10.8,17.0,15.4,32.9,57.8,16.1,25.8,185.7,252.0,63.4,1107.5,1919.9,206.2,121.3,195.3,278.2,136.8,234.4,348.9,41.6,191.3,118.2,315.7,172.4,168.5,163.9,141.7,195.4,297.9,365.3,257.1,186.9,82.4,106.4,145.7,270.9,110.8,73.5,70.5,48.7,72.8,43.7,39.7,56.6,200.8,176.2,435.5,181.2,89.9,100.5,77.5,80.8,144.1,211.2,469.1,132.9,67.7,62.5,63.5,559.8,91.2,278.0,302.9,214.7,136.6,238.7,73.7,61.9,94.5,100.1,113.9,86.8,123.3,114.7,149.7,299.8,13.1,105.0,109.2,117.1,102.2,108.9,74.7,70.3,87.4,323.4,470.4,440.1,87.0,8.1,13.3,6.5,79.5,79.5,108.3,57.8,47.7,95.5,95.5,91.7,101.9,80.3,80.3,79.7,81.3,141.0,141.0,58.6,245.6,55.1,74.0,34.4,41.3,68.9,21.9,55.7,21.3,103.6,36.1,63.1,56.3,25.1,22.4,28.5,77.9,20.0,18.7,41.2,74.0,143.5,115.3,82.8,109.2,176.2,127.7,260.0,611.9,1109.0,240.8,8051.8,4666.4,204.9,5780.6,286.3,1229.3,2658.1,2944.0,3081.9,1359.0,1089.9,2136.3,637.9,996.3,254.4,535.2,105.8,125.4,159.7,132.8,798.8,659.6,570.0,1049.9,968.1,112.0,26.6,50.8,21.9,232.1,255.3,199.4,170.2,292.8,208.0,1382.6,1086.2,919.3,1978.5,1383.4,1143.6,2194.8,404.5,3212.2,3287.7,39.6,51.7,113.0,120.9,47.2,50.8,63.8,102.9,134.2,120.8,154.8,991.9,1259.4,665.1,56.2,56.2,15.2,11.6,57.2,6757.6,6835.5,4947.5,5100.7,5235.7,3485.5,8019.1,9462.3,7779.5,8109.9,5868.5,8333.9,8536.9,4371.2,8483.4,9714.4,6420.9,8361.3,7592.5,6454.9,6804.3,6756.7,7607.8,5654.8,5609.5,6852.4,5947.5,4775.5,4800.1,6018.8,3642.8,4049.6,2766.8,2629.4,5409.4,3896.2,3859.4,4129.6,3670.3,4096.0,3802.0,3261.6,3251.9,3941.5,3815.7,5503.0,3781.4,3374.9,3236.0,4460.6,3047.7,3414.5,3510.2,3399.4,2415.9,2340.9,3971.1,2855.6,1908.6,3115.8,3983.9,4083.7,4531.7,4482.0,4939.7,4406.8,5470.3,4920.3,6685.7,5996.0,6381.4,6003.5,6893.9,4728.4,4412.3,5284.5,3672.0,4618.0,5690.7,3850.9,3254.8,2763.3,3434.8,3159.6,3292.4,3887.8,3108.1,3296.9,2043.7,2863.4,3350.3,3301.0,4174.8,4296.6,3167.8,6046.2,3131.5,4664.8,4776.5,3073.0,3949.5,3955.4,3449.5,5842.9,5837.9,5339.6,6571.2,6083.7,4796.4,3423.2,3850.0,3495.7,3608.2,1118.4,3395.9,3565.6,3026.6,3919.7,3449.5,4679.3,4619.1,6323.9,5782.9,3651.8,2683.9,3369.9,3938.2,2684.9,3589.9,3076.5,2846.8,4179.8,6323.9,6133.1,6639.5,5793.4,5858.4,5069.4,6913.6,7445.6,7596.7,6295.8,6511.7,6689.6,6997.0,6962.2,8237.5,6681.9,7100.7,6105.9,5711.9,7427.1,7539.3,9632.8,2796.5,6519.8,3644.0,4560.2,3152.3,3310.4,5057.8,5027.2,5202.1,3257.0,4801.9,4501.1,6698.2,4960.1,3462.0,5635.5,4811.7,4119.0,4667.8,4634.0,4767.5,4055.3,6721.7,5445.9,4274.9,7922.6,7940.2,7464.4,8355.6,3656.4,4256.3,4256.3,4722.5,3563.3,3363.3,3298.1,3828.9,4021.3,3417.4,3538.8,2861.0,4307.9,4344.5,3489.5,5525.2,3624.9,4248.3,3695.9,3562.7,5549.5,3920.7,3893.6,4193.2,3607.8,2958.6,4806.4,2811.7,2330.5,3600.6,3707.6,4124.8,3353.5,4078.2,3834.3,2697.3,4406.2,4406.1,4376.1,4720.1,4733.2,5069.6,4129.2,5270.2,5105.4,5082.3,5956.5,3595.0,4325.5,2514.0,4797.4,3815.2,1984.7,4863.1,3554.1,6540.5,5736.3,3649.8,4137.3,2787.8,3218.0,4016.4,3617.8,4588.4,4950.2,4024.6,3661.3,4376.1,4570.4,4616.7,3968.2,5027.2,4979.6,6409.0,3966.7,3966.1,3977.8,4056.6,4358.4,4789.3,2337.0,4242.0,5354.3,5688.8,5220.9,3777.1,3933.1,4415.3,5904.0,6488.4,4842.9,6961.5,3189.6,4197.2,3399.2,3126.3,3254.8,3723.5,2834.9,6230.8,6326.8,5312.0,7090.1,6534.1,6525.6,6591.7,4447.3,4235.5,7260.2,4036.6,4037.8,4040.7,4403.6,6175.6,6771.6,5414.1,3732.0,3633.3,5318.1,4926.8,4772.6,5263.5,3618.5,4641.3,4247.7,3917.6,5245.1,2673.7,4356.3,4691.3,4672.8,5052.2,5414.4,5396.3,6389.1,3624.3,4263.7,4426.7,3758.2,4346.1,4422.6,3827.4,4925.8,3535.2,4512.7,4455.4,4927.8,4457.3,3819.6,3234.2,3781.8,3687.9,3930.6,5358.0,5526.7,5024.9,4218.0,4099.6,4402.2,5762.8,6001.7,3997.4,4035.2,3355.1,4362.5,4361.4,4359.9,4383.6,3460.2,4118.2,4241.5,3108.2,4174.2,5768.8,3702.1,3880.2,4141.9,2759.5,4133.4,3377.6,3352.4,4069.9,3258.1,8340.4,8415.0,6786.5,9661.4,6935.3,6893.3,7404.7,9049.6,8777.7,8354.1,11448.7,9705.5,13219.6,12845.7,9058.0,7238.8,8157.0,5131.0,5943.3,3972.2,4737.8,10124.2,10990.7,6459.7,4940.1,3859.7,9670.4,9508.5,11187.7,6185.9,5926.6,8628.0,5398.5,5558.0,4544.6,5433.9,6128.9,6227.3,5667.4,5925.3,8699.1,8891.9,7551.6,6029.8,5108.8,6677.4,6974.8,5794.3,4972.5,7949.5,9624.9,9319.5,14020.0,9226.9,8032.9,8091.6,7020.0,9792.3,10599.2,10265.2,10157.2,9652.9,7816.8,7558.4,7749.8,8411.0,9097.5,6139.2,5822.1,7056.2,5585.2,12075.9,11453.4,16331.6,14778.9,6656.7,5570.9,19580.0,6134.2,6708.4,8092.7,8092.7,7936.5,7090.0,19331.0,8804.9,8375.3,10019.3,7685.1,6725.6,6037.5,7931.1,6893.8,9224.4,10585.2,5873.2,6302.2,5290.3,12289.4,12875.9,11038.2,7084.1,5536.6,4022.5,6736.4,6030.6,4929.7,7775.3,8100.0,6285.8,5810.6,8867.5,7571.9,6937.9,9193.7,7488.6,7144.5,7142.7,7578.9,7223.8,5082.9,9757.9,10892.6,10174.5,5293.8,12039.0,8550.7,7743.6,7571.4,9974.8,7660.0,8164.5,8393.0,7750.0,7096.5,3686.7,9777.9,9794.0,8807.8,9883.2,9862.8,10976.9,2593.4,3569.0,3291.4,5572.0,6011.6,9957.7,9969.1,9427.6,6024.8,5804.9,6475.2,6738.7,3565.7,3415.0,6235.2,879.3,7109.0,9843.5,4743.9,7743.2,4738.4,4356.8,8044.5,9078.6,9055.8,11528.5,7627.4,9402.8,3779.3,3296.2,2285.2,6894.9,8127.3,7896.3,5620.2,6228.8,9325.1,8880.2,9161.1,11107.1,9711.0,9315.3,9214.1,12145.9,8119.2,8412.4,5942.0,9492.5,9566.8,8632.5,2688.2,10202.7,7923.6,7928.2,7896.3,1723.8,1289.1,5578.3,3872.4,8388.4,8294.7,10755.8,15220.3,4741.5,9298.2,8556.7,9789.3,8265.0,12253.2,9690.7,3258.5,8552.9,6396.0,12022.4,12081.7,3994.9,14386.1,4047.7,12059.1,10085.1,17899.6,18269.3,17453.2,18007.7,11537.8,16078.4,18253.7,11661.2,15102.2,13533.6,20189.2,16154.3,21881.5,16296.5,19931.0,16656.0,14869.7,12846.4,12721.6,13644.8,8311.1,7877.6,10178.8,12119.6,5242.1,9025.4,7956.2,12929.5,11277.8,6228.9,8708.5,7658.4,10385.2,8812.1,10490.0,9141.5,7251.5,9263.2,10509.6,10782.3,6288.1,12324.1,8445.9,8745.6,9020.6,6846.1,8830.7,9232.6,8933.1,11332.3,6378.8,6190.0,12398.2,3688.1,5228.0,8979.0,9132.6,5328.4,10291.8,8190.7,11604.7,11731.2,10792.4,9915.9,13475.4,7000.6,15481.7,10765.7,9520.8,7989.1,12415.9,10158.5,10159.2,10305.4,11673.1,10701.5,10405.8,17315.5,10929.3,10652.6,9073.5,10526.2,10914.6,10251.4,11459.0,13895.3,9466.3,8884.1,10384.0,10650.4,5542.7,15344.5,15913.3,13286.1,10972.3,12391.1,10381.8,10314.8,10509.0,10162.9,12925.6,9183.2,8091.6,8650.4,6365.6,4718.3,8458.8,10775.6,11754.4,6239.0,6806.2,6924.2,5739.3,7469.0,7431.9,8753.4,6971.3,8275.5,8608.4,7728.4,5664.7,9551.2,6711.2,7022.8,6484.5,8273.9,6567.2,5868.7,8603.9,13705.4,6652.1,6637.6,8829.5,4479.6,9671.0,7884.9,7632.6,8580.5,8163.4,10192.3,5149.1,5478.7,4787.1,10122.6,5051.0,6175.5,6207.1,5977.7,5030.6,5274.6,4722.7,6128.6,5605.4,3891.3,4902.0,4299.3,6022.9,4754.8,4894.4,4894.4,5639.3,5579.0,5845.3,4223.9,8622.6,5009.9,5900.4,6608.9,4668.8,4356.7,5783.3,3974.5,6818.8,4348.6,4698.9,3739.9,5139.9,5339.1,6103.9,4295.0,3190.5,4717.4,4739.1,3783.1,5083.4,4105.2,4373.1,4124.0,4972.8,4920.7,5145.5,4210.3,3926.8,3936.6,3870.3,4046.0,3185.1,4407.4,2011.2,3175.1,4096.1,4310.6,3716.7,3647.6,4091.9,3241.8,4104.0,3977.2,4040.5,3863.6,3870.7,3371.1,4018.2,4043.4,4150.0,3383.1,3955.6,3742.6,3851.9,3023.9,3593.4,3752.6,3537.9,2840.1,3993.8,3753.5,4247.2,3326.8,3542.5,3371.1,5477.6,5419.9,5886.5,6186.2,6220.1,7230.5,4046.9,3469.4,3913.2,4281.1,3091.5,4178.7,3968.7,4342.6,3518.4,4203.3,3176.2,4500.1,5017.3,6074.6,2693.6,3715.2,6391.8,4609.2,6164.5,4307.7,4311.0,4125.0,5064.0,3808.9,3530.8,3798.4,3547.8,3182.8,3071.4,3319.6,3731.9,4002.5,4189.7,3345.0,5209.9,4583.4,4125.0,4667.5,4698.7,3445.3,4985.6,3942.0,4500.0,3097.5,4728.1,4702.6,4784.8,4585.7,3546.9,5209.6,3445.3,4244.3,4256.4,3913.3,5231.3,5336.8,4978.9,5638.7,3174.8,4649.1,4577.4,6300.0,3587.2,3607.4,4913.4,2556.7,3865.2,3640.6,3923.8,4122.1,2941.9,2618.8,3469.8,4052.1,2670.6,3501.4,3035.1,4284.1,4048.0,4643.4,3318.1,3192.0,3516.8,3398.8,3720.8,2823.8,3891.5,3236.7,3711.8,4105.1,3422.3,4523.1,4620.1,3650.0,5294.6,5299.8,5738.6,4378.4,6823.0,4605.2,4416.2,4800.1,4339.3,3872.7,7287.2,8264.0,4698.1,2996.3,4087.0,3990.2,4359.6,3574.3,3820.6,3412.0,3654.3,2913.7,4294.4,3767.9,5623.1,8155.1,6298.9,4483.2,3564.9,4606.0,4665.9,7284.9,4203.3,4272.2,4278.2,4074.3,3066.1,2207.2,4323.1,3716.3,4895.1,5266.5,5264.2,5320.5,6011.6,7171.9,7132.0,9200.0,6070.7,5131.9,5330.5,3502.0,5576.7,6060.8,4992.8,4858.2,5983.5,3747.8,5009.4,8359.0,5062.8,4565.1,6685.4,4501.1,5636.2,6007.5,4437.0,5476.9,10182.8,4948.7,5430.4,5287.6,6033.1,4159.5,5557.3,5227.6,5382.8,4931.5,6197.3,6609.7,4352.7,4310.6,5119.0,5252.1,4798.8,5141.4,4320.4,4466.4,3639.4,4110.7,4142.0,3297.3,4657.4,4668.7,4217.9,4470.7,5644.7,4784.3,4856.3,5342.0,5575.2,4190.6,5058.5,5091.8,3895.8,4291.0,3190.7,4500.9,4031.7,4845.6,5240.9,4197.9,4014.7,4139.1,3826.5,6167.8,4976.6,5309.5,4677.1,6179.2,6225.9,5364.1,7988.9,8777.6,9515.8,9446.4,8104.8,8348.5,8353.2,9646.8,9355.4,7960.5,7675.7,4422.7,4090.9,8139.3,7654.9,8303.3,8283.3,10634.7,5714.9,7483.2,9561.0,8899.8,6015.1,6054.8,5082.3,5645.1,5592.0,6491.7,7955.6,5390.4,6229.7,4398.3,5800.5,5823.5,5053.2,4881.9,4811.5,5338.8,6289.0,3631.8,3507.4,5931.8,5559.8,5083.4,7026.6,4532.7,6570.8,5984.4,5365.5,7207.2,7092.5,6572.8,11487.9,6904.5,4841.4,7038.4,7173.7,5817.1,4747.0,3838.8,4845.1,4716.7,5551.3,3986.5,6076.2,5070.1,4601.0,7956.9,7422.0,7218.3,8877.8,4575.7,3382.3,3061.8,6917.5,5852.2,3357.2,2880.2,7328.5,6673.1,6635.9,6882.8,5840.4,4363.4,8450.9,6348.0,7366.3,6893.1,8041.1,4588.0,5717.4,6119.0,5350.7,4928.2,7077.1,4646.9,6673.6,5210.5,7235.0,10123.1,5920.9,5595.7,6186.4,6710.8,7744.1,8144.4,8499.1,6237.8,7782.3,2639.2,5078.2,5426.8,5152.9,6311.8,6721.9,6618.6,7229.8,4187.1,3433.8,4484.3,6539.3,4200.0,4179.2,4724.3,4449.0,4320.0,4619.3,4664.7,6056.6,3590.6,3416.6,6236.9,5929.1,3758.5,3965.0,4974.9,4915.0,5779.8,5140.8,4691.2,6330.6,4206.4,4193.0,4411.4,5256.7,5991.7,4178.2,5803.8,7591.0,3844.3,6537.6,3304.5,2833.6,2833.6,4663.3,6135.1,4229.5,4040.8,6119.9,6119.9,6978.4,6666.0,7675.3,6573.1,6736.8,7677.2,9527.8,6595.4,7601.5,4902.6,4820.7,5545.1,5027.5,5990.4,5851.3,7010.7,7087.7,5940.8,5979.4,5653.5,6506.8,4488.1,3832.9,6391.4,7377.5,3643.7,6091.1,2380.3,5147.0,4624.9,6559.0,8299.6,8421.1,5145.5,9792.3,10363.0,11710.8,8697.9,14269.1,7672.0,11625.7,6900.1,11408.0,8896.5,8935.9,8558.2,10718.7,9424.1,10294.0,7937.3,2959.8,3972.0,1929.4,3589.7,3553.1,3648.9,3504.7,8310.9,3817.2,7322.2,10097.0,9120.6,8117.0,9071.6,8501.5,8407.7,8637.8,3179.6,3971.9,6895.7,5537.9,7877.1,7897.6,8210.8,4988.9,3703.5,4380.2,7405.8,8200.0,6740.6,7312.3,9365.8,9461.4,5595.1,12012.3,16964.0,14409.0,3995.7,15972.7,10752.8,7371.2,14536.5,14129.3,6852.0,13327.2,17633.2,15991.5,14675.4,19695.0,17754.6,16656.5,13407.6,16594.8,13613.8,13625.2,6124.7,13599.9,10686.5,8861.1,7485.5,6278.9,8136.1,8161.2,7869.9,10149.3,4960.4,8755.6,8434.8,9985.1,10839.5,6767.6,6453.7,7130.6,7185.4,6882.9,10702.1,9394.8,9556.1,7163.4,9853.2,5848.3,10363.0,10365.2,9746.3,11374.5,6298.3,6207.2,7235.0,11523.7,9620.2,9469.6,9496.1,7470.7,12224.4,8385.1,4607.4,7327.5,12065.3,12041.5,12621.5,7148.9,8943.3,10384.1,8281.5,8258.7,9332.2,7198.1,8494.7,8894.1,7711.3,7991.5,8315.9,10609.3,6706.0,5248.6,7442.6,10266.9,4377.8,10862.0,8375.2,8079.9,6650.6,6853.4,5425.0,8245.7,7276.8,4503.5,5797.8,2547.6,4471.1,4471.1,5913.9,6095.5,7415.0,7499.9,4527.9,9467.7,9341.5,11699.9,11767.1,10922.0,9579.7,9197.5,10302.9,9227.1,10522.6,8843.4,9139.3,8320.5,8095.1,9059.5,8725.3,7376.8,9305.3,8890.1,8494.6,7591.4,7452.7,6175.7,14264.6,8882.0,6950.0,7960.3,8139.4,5665.1,4140.3,4108.9,4434.6,6070.0,9080.4,7506.0,11195.2,11286.6,10526.3,11192.0,7132.5,3991.8,11212.5,7877.6,4616.6,4329.9,5082.5,5057.8,5721.6,4966.7,3335.6,8780.5,8596.9,19490.2,5586.4,4286.9,7316.2,7189.8,7524.5,8092.9,7297.2,4682.5,7970.0,7433.5,8916.7,8698.8,4626.4,3272.7,4296.6,3627.3,5883.8,6361.8,5405.9,6416.5,4100.4,4858.3,3038.9,6340.1,6410.0,5971.2,6723.1,6723.1,7017.1,6048.8,5456.1,7005.0,4918.2,7012.4,6927.9,8388.8,5222.9,5222.9,3637.1,4414.8,7023.9,7207.5,7200.7,5955.3,6613.2,6180.8,5675.7,6177.5,5121.6,5124.2,5981.1,5710.5,5822.8,5361.6,7543.4,5595.8,6431.0,5932.1,4346.7,4332.9,4852.7,4523.0,4499.7,5389.1,3344.3,3100.9,2991.8,3246.8,2049.0,3927.7,4845.2,4685.6,6918.9,4830.7,4881.7,4304.1,4304.1,5330.8,5431.6,4910.5,4267.8,3165.7,2518.5,4174.0,4174.0,4859.9,3880.7,3598.8,3866.2,2958.8,3073.2,3045.6,3353.1,4368.1,4368.1,5886.6,6164.6,6241.7,5897.1,5245.9,5910.6,5939.7,5477.0,5023.9,4889.8,5466.8,5718.9,5560.2,6465.9,3225.6,5352.8,1676.0,3992.2,2238.9,6781.0,3225.4,2867.9,2705.2,3557.4,3903.9,3549.2,4924.0,4494.4,3344.7,5359.3,5025.5,5984.0,5982.7,5934.7,7171.6,7505.0,8506.0,8432.6,7124.0,7667.7,7750.9,6060.2,6633.8,5237.3,7336.0,5953.8,6874.1,5197.8,5701.1,8156.0,8314.5,7790.2,6795.1,5326.4,5286.2,5185.7,6056.1,6675.0,4442.1,5149.1,3180.7,4578.7,4273.5,4853.9,3412.2,3573.2,4005.9,6157.8,4350.5,4406.8,3885.4,4459.6,3305.3,6314.8,3274.6,3911.5,2991.3,6476.8,6887.4,6666.7,4753.0,5233.7,5604.4,5870.9,2896.3,9002.7,5647.8,5165.3,3317.4,3317.4,4631.0,5067.9,2991.0,4482.8,3102.1,2960.6,4080.9,4023.4,4105.9,4124.5,4019.4,3136.1,2950.5,2616.9,2592.1,2410.2,6337.9,2689.4,2386.7,4393.4,2137.2,3013.6,2468.1,4708.0,4723.6,4430.6,5125.0,3586.7,3675.4,3773.6,3707.6,4430.6,4177.8,4258.1,3396.0,5205.6,3101.6,2579.6,3387.7,3227.7,2955.8,6043.1,3462.1,2063.3,4871.5,4870.8,4901.0,6307.3,6460.4,4786.9,4222.3,5576.8,4414.8,5194.5,4682.3,5386.4,3501.3,3040.5,2918.1,4402.5,4125.2,4186.4,3876.1,3612.6,4446.4,2700.1,2858.1,2553.8,4919.6,4472.9,6203.1,5871.0,5871.0,6198.6,6573.6,5340.8,3169.7,5768.6,3533.1,5566.1,4042.3,4625.2,4205.5,5262.2,6351.4,6545.9,4655.7,5572.5,5518.6,5828.7,3343.1,4806.0,4372.5,6961.5,3845.6,6360.2,6814.8,7194.4,6285.5,6011.9,4617.6,5524.1,5522.2,9375.8,3941.7,9221.3,7357.1,7418.7,5200.9,7956.3,7933.8,8416.3,11769.7,9765.2,9755.4,9957.8,10774.3,7835.7,10375.6,10722.6,11132.0,5859.9,3286.5,3213.7,4319.5,5644.1,5604.3,4744.0,9645.3,3413.8,3142.3,5115.2,4087.0,3944.9,4132.5,3457.4,3697.3,3196.2,4381.8,1730.4,5159.4,6183.1,5712.3,5520.5,9226.6,6892.4,6998.5,6658.6,8348.7,7756.4,5719.9,5315.9,6119.0,5822.9,5996.2,6330.8,6206.1,6761.3,6317.1,5899.3,5498.5,6934.2,3746.0,6742.3,7513.3,4973.9,7694.1,6496.1,4379.3,5396.8,6425.0,1633.7,5706.8,5153.3,3961.3,1946.6,4661.9,4642.6,5700.0,5137.2,5102.4,5568.3,3865.2,4459.3,4206.5,7190.0,4432.0,4329.5,3530.2,4372.1,5700.0,5573.9,5540.5,6165.1,7239.2,8022.0,5552.2,3549.6,7578.2,8184.2,5523.5,4907.0,4729.8,5921.0,4859.3,3464.1,5107.9,5159.4,4819.4,3500.6,3720.8,7014.5,6918.9,7181.6,7280.6,3497.6,5439.5,5432.3,5550.6,6643.6,6653.8,5832.1,3254.5,3126.8,3426.2,2693.8,3570.0,3754.1,3651.8,3777.0,4317.0,3738.9,6241.7,6790.3,5546.8,4078.0,5907.6,6297.8,5088.6,5764.5,4712.9,4712.9,4833.3,4756.1,5706.3,7044.4,6031.5,3717.5,4091.5,3174.8,3748.9,2935.2,4573.4,4630.6,3431.4,5494.1,5557.9,4722.6,5291.2,7168.8,4182.4,3875.6,4252.7,2872.3,2876.8,2860.6,2740.0,4245.0,3333.2,2838.9,4500.5,5364.1,5360.4,5916.3,6496.4,6379.5,9635.8,7700.7,8978.6,2653.6,3057.5,3700.5,3301.6,4003.5,4115.1,3544.9,4592.1,3900.0,7380.8,3825.7,3778.9,3904.9,5916.3,7109.3,7297.0,5910.5,8206.1,7186.0,6123.3,8819.1,8893.2,7954.4,10078.3,5530.5,5147.1,6908.6,8360.2,9545.0,6574.8,12565.9,5807.2,5947.6,5272.8,6249.4,5965.9,4935.6,4503.3,5321.5,5351.9,5270.0,7177.8,6405.2,6362.3,6512.8,6518.3,4643.6,6432.3,6396.1,6638.8],\"type\":\"histogram\"}],\n",
       "  {\"width\":1000,\"height\":500},\n",
       "  {\"linkText\":\"Export to plot.ly\",\"showLink\":true}\n",
       ")\n",
       "\n",
       "window.addEventListener('resize', function() {\n",
       "  Plotly.Plots.resize(document.getElementById('aa0f748a-9763-4116-bcb9-296720c5e459'))\n",
       "})\n",
       " }) \n",
       "</script>"
      ],
      "text/plain": [
       "#<Plotly::Offline::HTML:0x007fa18a15a558 @id=\"aa0f748a-9763-4116-bcb9-296720c5e459\", @data=[{:x=>[343.4, 537.5, 75.9, 70.2, 241.3, 17.6, 1706.8, 4743.4, 4391.6, 4478.8, 5906.9, 4576.4, 222.7, 2819.0, 5270.4, 2453.3, 1953.4, 411.7, 764.9, 59.0, 37.7, 43.9, 37.9, 542.2, 464.3, 1172.2, 132.9, 781.9, 7.5, 5.9, 271.5, 88.0, 258.0, 31.9, 13.2, 15.8, 14.3, 187.4, 394.3, 33.5, 34.4, 87.0, 82.2, 308.7, 52.0, 93.8, 19.2, 659.6, 97.3, 29.8, 19.5, 33.9, 3.0, 57.2, 82.8, 20.6, 33.8, 70.7, 157.3, 372.7, 242.2, 78.4, 44.8, 40.4, 242.9, 235.3, 81.7, 204.1, 5.6, 509.1, 82.4, 471.6, 7.6, 5.3, 120.9, 142.8, 78.3, 44.5, 44.4, 44.9, 35.2, 29.8, 27.3, 25.8, 24.1, 131.4, 43.1, 48.5, 79.9, 42.8, 19.8, 21.7, 13.2, 20.5, 16.0, 82.2, 9.9, 9.6, 27.1, 21.2, 10.9, 15.0, 14.7, 17.7, 14.2, 24.9, 4.1, 36.1, 9.4, 11.8, 24.5, 19.1, 17.0, 13.1, 16.5, 59.6, 21.1, 204.6, 22.9, 7.6, 10.6, 19.2, 22.6, 151.2, 4.5, 36.2, 107.7, 70.3, 102.4, 44.0, 69.4, 65.4, 32.2, 21.8, 14.6, 71.3, 57.8, 16.0, 13.8, 12.8, 12.7, 52.7, 135.4, 34.6, 46.3, 13.3, 4.3, 31.8, 16.2, 48.7, 50.4, 4.2, 2.4, 17.0, 27.2, 5.9, 7.7, 3.6, 3.2, 2.2, 2.2, 9.1, 13.7, 5.9, 8.0, 16.9, 4.9, 5.2, 10.7, 8.8, 4.8, 10.4, 5.0, 8.2, 14.0, 3.3, 8.4, 37.8, 33.9, 28.7, 4.7, 4.7, 14.9, 49.2, 7.9, 17.7, 11.3, 18.7, 28.5, 6.5, 14.5, 16.7, 8.2, 83.1, 3.4, 2.6, 19.9, 33.6, 13.4, 3.9, 11.9, 3.7, 7.8, 23.1, 13.2, 34.5, 25.3, 19.4, 15.8, 45.5, 12.1, 56.1, 124.3, 16.0, 36.8, 32.4, 45.0, 13.7, 38.3, 6.2, 15.7, 13.7, 3.2, 27.6, 7.5, 9.9, 20.7, 14.0, 19.1, 22.1, 26.0, 13.2, 17.7, 96.7, 24.8, 7.3, 14.2, 6.3, 24.8, 36.8, 13.7, 19.2, 7.3, 13.2, 55.5, 11.8, 73.2, 20.2, 6.3, 21.1, 5.4, 4.4, 7.5, 14.3, 81.3, 14.4, 15.4, 7.5, 10.7, 4.6, 12.0, 17.0, 12.0, 35.0, 9.0, 14.8, 142.4, 230.0, 63.0, 363.3, 404.9, 145.0, 350.1, 615.5, 78.1, 33.9, 778.0, 1083.0, 64.5, 166.5, 144.4, 276.7, 78.7, 21.0, 91.1, 193.3, 13.1, 343.6, 70.7, 191.6, 13.9, 32.4, 31.1, 146.7, 144.4, 200.4, 379.7, 133.0, 84.0, 97.6, 526.0, 94.7, 27.0, 39.7, 57.0, 25.7, 40.6, 30.8, 28.4, 37.6, 30.2, 25.4, 33.4, 19.8, 23.3, 13.5, 6.5, 6.5, 157.6, 430.0, 437.3, 421.1, 67.2, 365.4, 138.7, 364.2, 307.5, 58.9, 62.0, 51.7, 78.5, 175.4, 49.7, 69.4, 36.6, 121.8, 38.6, 58.5, 79.4, 46.4, 43.9, 336.8, 439.4, 293.2, 33.5, 121.8, 24.6, 35.4, 17.9, 75.9, 74.6, 105.2, 128.6, 53.9, 25.5, 129.6, 95.2, 182.2, 162.1, 156.5, 18.9, 87.1, 109.5, 51.6, 336.6, 583.3, 32.7, 47.2, 144.8, 42.6, 12.0, 5.2, 126.0, 179.2, 53.9, 111.7, 184.0, 24.1, 128.2, 59.5, 212.9, 59.2, 104.0, 9.5, 35.5, 37.1, 29.1, 104.6, 146.3, 113.1, 54.9, 133.1, 84.9, 56.5, 94.2, 100.3, 89.6, 70.7, 104.3, 25.7, 33.3, 101.9, 27.2, 11.4, 125.6, 601.8, 84.5, 199.9, 55.8, 28.5, 59.3, 29.6, 16.8, 41.6, 295.4, 197.5, 139.3, 404.4, 11.2, 11.2, 10.8, 11.5, 90.8, 90.8, 131.6, 131.6, 73.6, 73.6, 18.5, 18.5, 76.2, 76.2, 24.5, 70.7, 10.9, 24.6, 44.3, 51.4, 41.5, 57.3, 48.5, 59.1, 73.1, 41.5, 47.3, 47.3, 322.3, 423.1, 155.2, 1334.9, 964.2, 3278.4, 2734.7, 966.7, 1440.4, 289.4, 822.3, 92.5, 86.7, 244.5, 173.1, 61.0, 59.2, 3162.9, 220.4, 299.5, 101.7, 175.5, 130.6, 730.8, 212.3, 3209.2, 727.8, 156.5, 301.5, 112.6, 50.3, 255.0, 202.5, 194.0, 220.1, 221.4, 54.5, 93.1, 228.3, 248.2, 49.6, 169.6, 91.7, 166.8, 73.0, 94.0, 226.0, 7.9, 421.2, 643.6, 208.4, 169.6, 569.5, 215.7, 183.0, 233.3, 86.4, 22.6, 182.6, 35.1, 84.3, 6.4, 198.1, 940.8, 153.0, 728.8, 36.8, 56.7, 56.7, 374.4, 476.0, 259.1, 620.2, 279.1, 1538.5, 759.6, 206.7, 110.4, 108.8, 957.5, 88.6, 57.8, 68.0, 55.4, 212.4, 32.0, 30.2, 271.6, 213.1, 335.6, 533.4, 157.6, 152.8, 152.8, 106.4, 106.4, 99.5, 128.5, 93.3, 104.8, 47.0, 357.3, 666.1, 31.1, 53.5, 138.5, 199.5, 55.9, 141.9, 341.1, 105.6, 212.9, 135.8, 67.8, 352.2, 18.9, 198.7, 86.4, 152.9, 51.7, 22.6, 134.1, 130.7, 149.8, 64.3, 154.9, 141.0, 26.0, 11.9, 48.7, 70.5, 236.8, 42.4, 55.2, 55.4, 167.7, 16.8, 26.4, 45.8, 351.6, 197.2, 285.4, 527.9, 101.9, 349.2, 157.3, 55.8, 134.9, 31.4, 40.4, 252.9, 67.0, 31.6, 59.7, 19.4, 8.9, 61.6, 114.5, 113.4, 247.1, 96.0, 27.0, 84.0, 16.8, 19.3, 30.0, 30.0, 10.6, 10.6, 40.5, 13.6, 76.1, 48.3, 72.0, 166.5, 35.1, 35.6, 34.6, 57.5, 48.9, 389.6, 114.6, 18.9, 128.7, 128.7, 171.3, 87.1, 178.7, 45.3, 72.8, 14.1, 125.4, 196.1, 53.1, 666.7, 162.9, 104.2, 407.0, 175.0, 82.6, 97.2, 8.4, 34.1, 184.4, 530.1, 31.8, 114.2, 36.5, 174.2, 304.7, 140.4, 136.2, 137.3, 550.5, 224.0, 50.9, 209.4, 293.3, 246.7, 384.7, 54.4, 381.0, 15.9, 39.9, 59.9, 102.5, 102.5, 28.8, 39.3, 29.8, 51.8, 24.5, 17.8, 39.7, 20.3, 122.2, 139.0, 104.0, 26.2, 12.0, 97.1, 24.1, 109.4, 232.8, 92.9, 31.3, 294.0, 74.3, 74.3, 147.2, 265.7, 55.0, 381.1, 383.9, 283.0, 329.5, 348.9, 272.9, 215.6, 447.4, 277.9, 211.9, 406.0, 101.8, 141.5, 55.1, 283.6, 437.3, 97.1, 87.7, 94.4, 224.6, 18.8, 214.3, 23.5, 46.0, 191.3, 173.7, 258.4, 255.7, 79.9, 99.0, 88.2, 97.5, 136.7, 22.6, 68.9, 135.4, 177.9, 236.5, 105.4, 136.4, 249.1, 1214.0, 226.1, 563.3, 96.7, 91.4, 358.1, 574.5, 181.3, 184.7, 299.1, 266.1, 122.0, 107.9, 107.9, 74.4, 410.1, 27.9, 12.8, 20.4, 1.6, 6.6, 20.2, 33.4, 7.6, 10.3, 21.7, 30.5, 13.6, 24.7, 63.0, 40.0, 87.1, 189.4, 205.6, 22.8, 32.9, 21.2, 8.4, 7.2, 82.3, 67.2, 148.7, 89.3, 163.3, 102.8, 192.1, 272.6, 304.9, 56.8, 94.2, 53.7, 46.7, 30.4, 98.2, 153.6, 155.3, 74.0, 184.0, 36.9, 148.5, 250.0, 89.5, 84.2, 92.8, 74.4, 233.7, 14.3, 146.3, 134.9, 93.7, 18.2, 52.2, 177.4, 27.0, 487.2, 527.9, 281.3, 1236.0, 1443.3, 357.8, 856.3, 1167.5, 194.1, 1169.5, 1650.6, 274.1, 1157.1, 2737.0, 920.8, 741.3, 369.6, 856.8, 186.1, 797.3, 1027.3, 556.2, 583.6, 471.9, 528.8, 514.1, 555.6, 151.2, 332.2, 176.3, 64.9, 31.3, 160.2, 252.1, 330.5, 210.5, 610.8, 317.3, 1567.3, 2082.0, 986.6, 1387.3, 755.4, 732.9, 994.4, 1585.3, 623.7, 427.6, 299.5, 567.6, 1753.6, 1753.6, 129.7, 90.8, 315.6, 83.6, 49.0, 71.2, 554.6, 553.2, 562.8, 528.5, 717.8, 431.1, 331.3, 433.9, 455.5, 460.0, 443.2, 227.9, 353.1, 318.2, 191.8, 199.2, 278.1, 238.1, 553.0, 254.0, 239.4, 282.2, 236.7, 643.7, 707.0, 570.7, 169.1, 244.3, 180.0, 253.9, 240.9, 215.1, 255.5, 261.0, 561.8, 559.5, 565.0, 360.5, 291.3, 409.3, 560.7, 242.5, 283.7, 790.3, 132.9, 247.8, 137.8, 33.8, 998.9, 998.9, 61.6, 61.6, 413.7, 259.9, 671.5, 229.5, 391.0, 391.0, 504.1, 407.5, 552.0, 701.7, 701.7, 313.3, 347.8, 193.5, 1227.7, 1498.2, 165.6, 726.1, 869.0, 550.8, 655.2, 732.7, 281.6, 429.5, 340.5, 984.5, 153.3, 115.4, 208.6, 296.6, 53.1, 62.1, 46.1, 249.8, 14.9, 4.0, 36.5, 958.3, 492.1, 592.5, 289.8, 219.5, 433.8, 146.3, 79.1, 207.1, 198.7, 180.4, 800.7, 43.1, 356.8, 650.5, 162.3, 167.4, 146.0, 186.3, 797.6, 649.3, 928.2, 880.3, 580.0, 580.0, 203.8, 203.8, 170.1, 271.9, 87.0, 188.3, 228.3, 605.2, 648.4, 850.2, 390.3, 174.2, 71.4, 429.3, 80.0, 71.9, 95.7, 78.6, 158.6, 315.6, 588.7, 87.9, 1091.9, 1907.9, 317.3, 891.1, 168.8, 427.7, 808.2, 2257.8, 225.9, 32.0, 466.2, 1756.2, 3365.5, 421.4, 443.3, 748.4, 465.2, 22.3, 1487.3, 2016.7, 889.6, 1304.6, 957.8, 1232.3, 1561.2, 703.1, 772.5, 973.0, 115.6, 317.5, 129.4, 15.6, 1289.1, 346.6, 885.0, 521.8, 141.3, 282.9, 63.6, 150.6, 377.5, 484.8, 116.3, 423.7, 506.4, 153.0, 221.0, 455.7, 85.2, 249.2, 17.8, 1568.1, 420.2, 705.4, 514.3, 965.9, 12.3, 7.2, 20.5, 26.5, 13.3, 68.2, 47.3, 20.4, 232.5, 47.8, 41.5, 70.1, 8.0, 44.9, 30.2, 143.9, 61.0, 61.6, 65.2, 61.0, 28.6, 12.5, 45.7, 118.7, 27.3, 141.8, 9.2, 35.4, 1454.3, 1454.3, 798.6, 375.4, 569.9, 527.3, 2245.2, 868.3, 1894.2, 2366.4, 572.5, 5620.6, 7468.0, 5453.0, 11586.9, 2883.6, 8198.1, 8508.9, 5130.4, 11448.7, 5210.3, 12579.1, 12598.1, 4153.8, 2263.8, 2263.8, 3139.2, 1270.8, 1820.9, 552.1, 582.2, 721.5, 8979.3, 1273.4, 1329.4, 680.6, 115.9, 411.8, 79.0, 3.1, 121.1, 4749.6, 432.5, 604.6, 37.1, 861.6, 1149.7, 695.9, 598.4, 581.8, 912.8, 1661.4, 394.1, 1379.1, 3594.6, 5297.5, 1306.0, 3175.5, 959.9, 1772.7, 2311.8, 1873.5, 514.9, 1044.9, 1453.8, 609.6, 570.6, 799.7, 4916.0, 8893.3, 5410.6, 14020.0, 6773.7, 3349.8, 9792.3, 7056.1, 7683.3, 7313.9, 6963.9, 2957.7, 1872.7, 2779.5, 743.7, 1694.2, 2644.6, 3472.2, 4602.2, 5418.1, 4350.0, 2321.6, 2482.3, 1590.9, 3947.5, 1210.5, 2065.1, 7204.8, 8261.2, 6289.6, 2871.2, 2871.2, 1005.9, 2529.8, 1147.6, 310.0, 497.0, 583.1, 632.7, 544.5, 530.8, 545.7, 595.3, 222.7, 172.7, 366.5, 126.8, 183.2, 171.2, 260.1, 78.4, 107.6, 37.4, 90.1, 518.3, 346.6, 305.1, 576.1, 46.2, 1061.2, 557.5, 557.5, 2055.2, 2109.2, 2020.6, 1689.2, 1564.1, 1920.7, 1205.5, 1367.1, 337.2, 3534.8, 4449.1, 5284.7, 7424.4, 1800.1, 1835.9, 7096.5, 836.7, 8243.5, 7111.6, 447.2, 932.1, 7899.2, 1501.7, 1722.0, 957.3, 930.1, 602.9, 833.3, 227.9, 242.3, 1662.2, 691.2, 531.6, 808.9, 226.0, 373.8, 553.0, 7838.5, 3516.2, 4833.0, 1229.7, 220.7, 761.6, 4648.1, 3701.6, 3103.0, 187.0, 198.7, 147.7, 5109.1, 279.7, 234.1, 9530.5, 2499.3, 635.9, 977.9, 712.2, 1225.8, 295.5, 371.8, 1704.2, 1704.2, 947.6, 947.6, 182.9, 198.7, 135.6, 132.6, 299.2, 316.0, 117.4, 159.2, 391.2, 379.6, 435.6, 315.9, 364.4, 387.1, 199.7, 170.5, 383.2, 494.4, 349.3, 445.7, 274.7, 260.1, 161.6, 288.4, 313.0, 851.1, 1116.4, 695.6, 271.2, 325.1, 220.2, 328.3, 524.1, 863.1, 759.0, 182.2, 368.8, 335.2, 402.0, 279.3, 522.8, 206.2, 520.9, 442.5, 170.2, 138.8, 119.0, 82.2, 310.5, 198.2, 198.2, 6015.7, 9299.5, 110.7, 14386.1, 4047.7, 12059.1, 10085.1, 17899.6, 18269.3, 17453.2, 18007.7, 11537.8, 16078.4, 18253.7, 11661.2, 15102.2, 13533.6, 20189.2, 16154.3, 21881.5, 16296.5, 19931.0, 16656.0, 14869.7, 12846.4, 12721.6, 13644.8, 3113.4, 7369.5, 12929.5, 11277.8, 1349.4, 8708.5, 6479.9, 10385.2, 5961.0, 10490.0, 9141.5, 6540.2, 8943.3, 10509.6, 9265.0, 5839.5, 12324.1, 6135.0, 7272.2, 9020.6, 4557.8, 7004.2, 4720.9, 5755.0, 1102.6, 12398.2, 12975.6, 11964.3, 156.3, 1990.3, 592.9, 24.3, 26.8, 95.7, 92.9, 82.8, 103.6, 100.1, 39.7, 48.2, 16.9, 101.1, 113.3, 33.6, 26.7, 26.7, 3745.4, 4832.5, 503.2, 8433.8, 8190.7, 9775.1, 13475.4, 7000.6, 15481.7, 9431.0, 8515.2, 6748.6, 10492.7, 7660.5, 11143.0, 7662.1, 6960.5, 7395.9, 6749.5, 6622.6, 8659.6, 7206.3, 9989.6, 5542.7, 15344.5, 15913.3, 13286.1, 10438.9, 11760.7, 7299.2, 2182.0, 7150.7, 1190.3, 226.0, 303.8, 156.8, 694.2, 7249.2, 7182.3, 4154.2, 3846.3, 4401.9, 5893.5, 1738.3, 6583.1, 3362.3, 1497.9, 1642.2, 2391.8, 8432.6, 1819.9, 4822.8, 7362.7, 572.2, 3732.8, 1920.6, 1920.6, 3552.3, 3552.3, 2379.4, 1919.3, 3251.3, 223.4, 500.0, 1247.2, 309.3, 52.4, 2495.3, 347.3, 149.2, 1169.8, 655.0, 431.4, 1227.4, 48.5, 188.7, 215.5, 43.1, 1118.2, 2441.0, 863.8, 501.8, 644.0, 574.2, 501.3, 2081.9, 259.5, 367.0, 480.2, 1053.6, 319.6, 248.1, 405.8, 300.4, 719.2, 3561.9, 4824.6, 919.2, 810.7, 465.6, 1719.0, 344.1, 317.3, 738.9, 102.5, 285.0, 239.6, 205.5, 339.6, 140.1, 184.7, 29.7, 97.2, 70.5, 236.8, 1065.9, 33.0, 247.6, 206.6, 261.8, 28.8, 106.0, 189.9, 179.3, 260.9, 180.3, 280.6, 248.8, 222.6, 99.9, 187.5, 98.2, 44.1, 39.5, 29.5, 537.0, 56.6, 205.4, 290.9, 114.2, 16.9, 23.1, 738.0, 1097.5, 367.5, 757.0, 63.9, 62.9, 61.9, 69.8, 79.6, 146.4, 42.0, 30.3, 155.0, 364.6, 73.2, 209.4, 540.3, 41.0, 74.4, 26.9, 37.8, 124.8, 609.7, 248.0, 62.2, 98.8, 110.2, 80.3, 150.6, 43.5, 236.4, 246.4, 291.0, 509.1, 95.0, 73.3, 63.1, 40.2, 194.2, 127.8, 64.6, 71.1, 82.4, 124.8, 73.4, 51.0, 42.6, 125.7, 391.9, 17.6, 76.9, 33.6, 5.8, 105.4, 100.0, 105.7, 112.5, 118.5, 303.2, 32.0, 361.3, 361.3, 341.1, 341.1, 402.6, 402.6, 14.0, 14.0, 54.1, 8.8, 7.8, 14.6, 110.6, 110.6, 23.5, 23.5, 63.9, 63.9, 182.6, 182.6, 22.0, 21.5, 37.1, 257.4, 293.9, 110.3, 339.8, 1553.4, 297.9, 19.3, 88.7, 587.5, 43.7, 37.8, 840.7, 1082.1, 223.8, 224.1, 224.4, 616.7, 98.2, 415.4, 17.1, 389.2, 446.2, 210.6, 239.1, 81.8, 141.3, 11.4, 7.4, 3.7, 351.1, 105.7, 446.1, 110.4, 857.2, 1078.3, 805.5, 592.0, 334.1, 1340.1, 95.7, 855.0, 92.8, 89.4, 137.2, 381.3, 60.3, 279.5, 308.6, 193.9, 988.4, 182.1, 300.5, 187.5, 64.2, 63.7, 292.2, 70.0, 86.6, 41.8, 65.9, 234.9, 417.4, 55.8, 281.0, 535.1, 391.9, 1850.5, 390.3, 146.3, 1150.1, 1416.4, 620.7, 14.3, 8.2, 37.9, 3.6, 4.3, 580.6, 1184.1, 1290.3, 273.8, 416.5, 416.5, 3826.3, 3826.3, 488.2, 334.5, 1321.2, 101.9, 90.1, 65.3, 115.0, 127.8, 108.7, 148.7, 207.4, 207.4, 201.6, 176.9, 316.2, 64.2, 53.1, 53.1, 71.5, 79.8, 36.5, 121.7, 192.4, 251.6, 74.7, 497.6, 736.2, 32.9, 96.9, 235.9, 269.7, 134.6, 40.5, 64.4, 1.6, 100.4, 795.9, 256.3, 334.3, 219.0, 371.0, 394.4, 275.8, 437.8, 474.0, 302.3, 1002.9, 408.3, 218.9, 218.9, 600.2, 122.8, 130.2, 15.6, 15.6, 33.6, 33.6, 102.8, 17.7, 37.1, 151.4, 151.4, 206.2, 117.9, 145.9, 121.6, 69.3, 69.3, 69.1, 153.3, 40.4, 17.6, 88.8, 90.1, 90.1, 85.7, 95.3, 193.3, 261.6, 76.5, 936.8, 1125.2, 252.2, 14.7, 415.5, 207.9, 127.1, 579.6, 49.2, 7.7, 100.3, 226.0, 275.1, 931.7, 509.2, 2.7, 1221.7, 457.0, 786.1, 77.9, 165.6, 36.6, 143.3, 222.9, 73.4, 177.4, 27.8, 53.0, 1026.0, 3089.7, 473.3, 805.7, 349.3, 534.2, 1839.5, 203.7, 346.7, 322.7, 210.1, 11.9, 158.9, 41.8, 201.0, 128.5, 128.2, 248.7, 30.3, 984.7, 259.5, 1363.4, 1646.4, 227.9, 227.9, 135.5, 301.4, 254.3, 41.7, 3.4, 47.9, 32.9, 83.1, 50.8, 44.9, 49.0, 39.8, 145.6, 191.1, 82.3, 1931.4, 1931.4, 116.1, 24.1, 299.1, 343.3, 100.8, 33.1, 160.7, 16.3, 333.2, 618.3, 52.7, 9.7, 15.5, 6.7, 158.7, 253.9, 65.1, 457.0, 884.6, 25.2, 69.2, 493.7, 30.0, 12.6, 67.8, 248.3, 781.7, 57.0, 255.7, 6.9, 5.4, 280.3, 289.1, 688.3, 222.8, 58.4, 43.2, 620.6, 159.9, 316.8, 4.0, 8.5, 469.5, 348.2, 445.9, 106.5, 302.6, 45.4, 6.0, 203.1, 407.3, 532.1, 129.5, 52.7, 59.8, 27.3, 16.4, 116.4, 211.7, 233.2, 376.2, 24.2, 237.2, 364.5, 175.2, 74.1, 319.8, 517.9, 484.1, 388.7, 703.7, 273.3, 199.9, 295.2, 290.8, 210.8, 712.2, 222.1, 455.6, 140.4, 36.1, 45.4, 23.7, 26.5, 17.0, 15.0, 64.2, 63.9, 64.6, 147.2, 121.9, 250.7, 115.3, 47.2, 80.7, 36.9, 48.4, 24.3, 174.4, 321.9, 106.0, 175.1, 166.4, 123.7, 304.4, 113.9, 355.6, 65.9, 164.6, 50.5, 187.6, 292.0, 44.2, 32.8, 14.8, 50.5, 11.7, 7.3, 12.6, 111.5, 15.1, 15.1, 29.6, 100.5, 88.7, 4.7, 20.1, 31.1, 22.3, 22.3, 3.1, 17.7, 26.8, 46.2, 44.1, 12.1, 12.5, 86.7, 86.4, 50.1, 337.8, 67.1, 52.0, 58.1, 64.1, 37.0, 60.3, 257.1, 214.4, 48.6, 12.0, 293.3, 293.3, 158.5, 580.6, 76.8, 53.1, 51.4, 49.7, 66.5, 85.4, 61.9, 52.4, 157.5, 173.7, 139.5, 8.2, 8.2, 195.9, 207.7, 149.8, 2036.3, 2048.7, 1723.4, 780.4, 1887.0, 48.9, 1367.6, 42.6, 458.2, 20.0, 7.0, 3.8, 50.4, 35.7, 10.0, 2.1, 91.1, 7.6, 1234.1, 1315.3, 764.1, 193.3, 743.6, 52.0, 6.9, 223.6, 54.8, 38.7, 119.6, 194.0, 167.7, 30.3, 26.9, 83.7, 83.0, 77.1, 74.2, 193.3, 230.8, 1252.7, 106.5, 200.9, 152.3, 76.6, 90.5, 21.7, 17.1, 731.6, 521.3, 1658.9, 1692.2, 1328.3, 1112.3, 1129.5, 551.0, 133.4, 472.6, 140.3, 48.2, 1842.9, 2353.2, 1126.8, 33.7, 156.2, 6.2, 4.2, 30.7, 93.6, 157.7, 1136.6, 761.0, 5.7, 43.2, 59.7, 44.1, 58.8, 30.9, 59.1, 11.9, 19.4, 42.7, 78.5, 14.2, 68.9, 41.1, 13.3, 337.8, 316.5, 472.6, 313.7, 2552.7, 3013.2, 2201.6, 434.3, 434.3, 343.9, 498.9, 164.3, 764.9, 1069.0, 448.5, 840.0, 82.8, 29.6, 374.2, 45.8, 10.4, 12.2, 1.2, 2.7, 698.0, 644.0, 3558.0, 3558.0, 86.2, 648.6, 327.9, 257.2, 49.6, 93.5, 40.1, 28.9, 332.5, 332.5, 4.9, 4.9, 483.9, 550.0, 174.2, 507.3, 408.7, 237.9, 2923.0, 933.1, 995.2, 834.1, 388.5, 514.0, 2325.4, 114.4, 1367.2, 20.5, 12.4, 27.0, 9.5, 2629.8, 1874.1, 649.1, 113.6, 203.1, 5391.7, 2735.1, 993.5, 2177.4, 320.3, 1369.8, 36.0, 1081.1, 1307.6, 95.2, 642.9, 1800.1, 339.3, 390.0, 124.2, 575.5, 317.4, 572.4, 308.0, 45.2, 1036.8, 1110.5, 526.7, 1027.7, 1387.9, 1173.4, 817.1, 1470.6, 289.3, 2030.5, 2625.9, 929.0, 438.1, 450.5, 353.5, 449.6, 732.6, 925.7, 222.7, 457.4, 781.6, 820.9, 670.9, 238.9, 394.1, 693.7, 785.1, 1251.7, 94.0, 220.1, 88.8, 49.5, 71.3, 526.9, 882.3, 447.2, 499.2, 493.7, 501.7, 520.2, 916.6, 561.4, 337.1, 438.9, 422.9, 458.6, 101.5, 180.7, 79.4, 86.0, 89.8, 89.7, 96.8, 78.0, 592.2, 592.2, 546.4, 3654.1, 1537.6, 151.5, 73.2, 1430.7, 16.3, 45.1, 6.9, 145.2, 145.2, 1434.8, 1646.7, 521.3, 6935.3, 8777.6, 9515.8, 9446.4, 8104.8, 8348.5, 8353.2, 9646.8, 9355.4, 7960.5, 6916.0, 3265.8, 7654.9, 4958.8, 6067.4, 8282.5, 7344.7, 1441.2, 961.6, 1602.6, 53.7, 3323.4, 3490.9, 2647.3, 3436.6, 1184.7, 2515.4, 3296.0, 1131.7, 1859.4, 304.2, 443.4, 2171.7, 718.4, 2602.0, 2008.3, 2889.6, 458.9, 1305.8, 296.2, 54.8, 44.6, 43.6, 36.2, 26.0, 2077.6, 1409.6, 1447.8, 1003.0, 986.1, 3305.6, 2342.1, 1720.6, 2092.7, 1000.0, 1488.1, 99.9, 296.2, 46.3, 23.3, 2483.6, 2531.1, 1852.4, 4185.9, 3858.3, 3386.7, 4512.9, 3008.8, 2413.7, 339.6, 457.7, 246.3, 248.2, 975.2, 1582.6, 316.7, 388.0, 2061.1, 3796.6, 5056.8, 2050.9, 4123.4, 4020.0, 4440.4, 5435.3, 3604.1, 884.5, 559.5, 971.0, 1871.6, 1871.6, 3143.0, 2745.5, 2407.0, 4283.7, 2372.3, 2321.2, 2415.1, 2327.1, 2327.1, 2261.9, 1652.9, 3001.6, 1767.9, 4535.8, 3305.2, 200.8, 987.5, 1063.7, 1602.3, 537.4, 542.7, 1642.4, 691.5, 1057.5, 619.7, 474.2, 668.0, 668.0, 19.6, 21.1, 20.1, 25.1, 30.4, 8.6, 9.9, 4.0, 321.0, 402.0, 133.8, 402.0, 1599.0, 640.0, 974.7, 134.4, 75.4, 297.7, 1266.2, 312.6, 109.2, 26.0, 1497.1, 1504.1, 1405.8, 624.7, 520.5, 762.0, 1640.7, 1496.5, 269.4, 595.1, 251.8, 740.2, 69.4, 18.0, 1026.9, 1979.3, 235.2, 494.3, 1023.7, 618.7, 103.7, 267.3, 395.7, 88.7, 198.5, 52.6, 70.3, 12.3, 208.1, 157.9, 379.8, 360.9, 104.5, 304.3, 174.5, 553.8, 716.3, 508.5, 105.2, 174.2, 311.9, 169.8, 104.7, 102.9, 55.6, 96.6, 436.1, 436.1, 1132.4, 1132.4, 523.1, 374.0, 1607.0, 1607.7, 96.0, 149.6, 212.9, 91.0, 558.0, 28.7, 125.8, 11.2, 74.5, 373.6, 64.4, 42.2, 46.7, 53.9, 22.7, 60.9, 78.7, 46.2, 72.4, 72.4, 87.0, 61.5, 126.7, 106.2, 149.3, 96.8, 1549.0, 351.2, 364.0, 220.2, 727.5, 1042.8, 311.7, 569.8, 182.3, 1383.8, 155.3, 566.7, 311.3, 428.4, 363.7, 88.2, 21.0, 65.1, 460.8, 900.6, 511.2, 1926.9, 1373.8, 1206.7, 1206.7, 192.5, 585.7, 66.4, 152.9, 407.1, 77.4, 623.3, 568.6, 939.2, 774.8, 902.9, 744.9, 75.7, 76.6, 107.2, 12.5, 278.8, 102.3, 343.3, 297.2, 852.6, 434.6, 31.9, 746.6, 746.3, 131.7, 340.0, 159.9, 242.3, 50.6, 267.6, 566.6, 220.7, 194.4, 290.1, 530.1, 530.1, 317.1, 941.0, 145.1, 967.5, 550.7, 57.1, 571.4, 647.5, 181.6, 1780.4, 2406.3, 1285.7, 11710.8, 683.7, 14269.1, 5432.7, 11625.7, 6257.5, 695.1, 2656.7, 25.9, 4610.3, 4727.1, 2584.0, 144.1, 253.1, 42.8, 39.3, 50.8, 259.0, 103.2, 2806.9, 117.8, 410.8, 2444.6, 7083.2, 4162.9, 3045.8, 1581.5, 117.6, 188.3, 150.4, 189.6, 91.0, 68.3, 71.2, 57.1, 12.8, 167.9, 164.2, 44.1, 819.6, 362.3, 1948.1, 401.9, 2532.8, 2532.8, 1148.2, 1148.2, 238.0, 468.8, 166.7, 251.3, 69.0, 69.1, 1388.5, 47.9, 51.9, 51.9, 105.3, 41.6, 28.3, 153.0, 38.9, 219.1, 121.6, 501.6, 285.8, 4669.7, 5434.7, 624.8, 11980.6, 16964.0, 14409.0, 3995.7, 15972.7, 10752.8, 7371.2, 14536.5, 14129.3, 6852.0, 13327.2, 17633.2, 15991.5, 14675.4, 19695.0, 17754.6, 16656.5, 13407.6, 16594.8, 13613.8, 13625.2, 6124.7, 13072.2, 10686.5, 8861.1, 5613.5, 5868.0, 2975.8, 6278.9, 6885.8, 8153.1, 4668.8, 3827.4, 10048.8, 2966.8, 2754.9, 10702.1, 4718.4, 9853.2, 5848.3, 3393.4, 2057.7, 11523.7, 6268.9, 3591.5, 6508.3, 1831.7, 3015.0, 9632.2, 1026.3, 7478.6, 6980.5, 2176.8, 2715.2, 2945.0, 4450.9, 10609.3, 5626.3, 5248.6, 7442.6, 8243.5, 1328.4, 3071.2, 3040.5, 4909.5, 1569.1, 1724.4, 1724.4, 252.8, 639.8, 118.1, 4503.5, 4503.5, 991.1, 2615.7, 1630.0, 356.5, 485.3, 1003.5, 674.6, 160.9, 665.6, 799.2, 154.8, 2794.1, 6928.2, 4118.9, 7448.7, 8867.7, 5789.0, 7866.2, 942.4, 4447.3, 1808.9, 1003.4, 1762.6, 295.5, 135.5, 606.4, 89.0, 9080.4, 5907.8, 4857.0, 259.0, 296.2, 179.7, 5039.9, 7854.5, 344.5, 122.7, 274.7, 121.1, 48.4, 114.8, 115.1, 29.3, 1927.2, 398.2, 323.1, 364.8, 208.5, 2213.6, 458.8, 603.0, 151.9, 2729.7, 2927.1, 534.7, 543.3, 317.9, 114.6, 62.7, 140.7, 69.1, 28.9, 41.1, 137.4, 309.1, 166.9, 64.2, 152.1, 122.7, 122.3, 217.4, 219.0, 191.1, 270.4, 198.4, 81.4, 37.7, 145.1, 120.7, 49.6, 252.1, 280.3, 435.0, 172.9, 198.2, 346.2, 62.2, 136.8, 42.4, 25.6, 31.4, 255.1, 238.8, 608.0, 144.8, 381.7, 578.6, 162.9, 535.0, 628.0, 351.1, 351.1, 124.8, 124.8, 225.6, 78.9, 106.4, 1457.6, 887.5, 3650.5, 137.3, 160.7, 432.8, 60.8, 72.2, 48.4, 1478.2, 1478.2, 110.7, 110.7, 62.6, 62.6, 65.7, 50.9, 80.7, 59.2, 58.5, 53.4, 87.3, 33.4, 33.2, 66.4, 95.1, 45.0, 379.5, 870.3, 121.4, 1324.2, 1696.6, 75.3, 135.9, 4151.1, 2085.8, 800.9, 3178.3, 608.0, 118.0, 347.8, 33.4, 3.8, 500.0, 2221.0, 3104.7, 1063.1, 1124.0, 995.4, 138.2, 155.2, 153.0, 271.6, 47.5, 61.7, 61.7, 1536.6, 825.4, 2663.6, 1943.5, 1831.2, 1549.8, 1456.7, 1828.0, 1522.3, 31.4, 39.6, 26.4, 271.1, 297.1, 243.2, 2583.8, 3864.5, 3168.9, 2025.1, 2240.7, 23.1, 90.4, 503.8, 113.2, 17.6, 8.9, 3.4, 6.1, 7.8, 2.5, 6.1, 16.3, 212.0, 375.5, 84.6, 1770.1, 541.4, 684.3, 321.3, 509.3, 476.8, 689.0, 828.6, 594.4, 77.1, 484.5, 14.6, 14.3, 13.8, 15.9, 123.3, 375.8, 8.9, 288.5, 321.7, 183.5, 276.5, 145.0, 921.1, 1373.6, 1373.6, 81.0, 81.0, 184.5, 36.6, 81.6, 120.1, 171.1, 8.1, 112.5, 29.0, 109.8, 635.1, 118.1, 77.2, 418.6, 68.6, 19.1, 83.3, 631.5, 160.1, 211.7, 75.7, 112.0, 61.1, 296.0, 31.7, 86.0, 24.7, 10.8, 97.5, 112.9, 290.7, 28.5, 257.6, 27.1, 63.1, 93.1, 545.3, 10.5, 10.1, 134.4, 149.6, 104.8, 167.8, 360.1, 68.0, 257.9, 641.1, 92.1, 89.0, 89.5, 45.4, 28.6, 262.8, 81.0, 101.6, 1121.5, 1306.5, 358.4, 186.4, 268.7, 39.3, 1224.7, 101.0, 101.0, 47.6, 19.4, 34.4, 89.1, 115.9, 73.5, 67.7, 114.1, 30.0, 218.5, 673.0, 188.0, 128.9, 132.4, 135.2, 128.6, 270.2, 360.2, 218.2, 98.3, 802.6, 92.2, 73.1, 148.2, 77.0, 101.2, 93.1, 122.9, 83.3, 178.3, 46.4, 21.0, 16.0, 27.9, 27.1, 107.0, 143.0, 47.5, 366.3, 681.2, 267.3, 100.5, 102.3, 120.4, 170.1, 152.7, 119.3, 89.5, 270.0, 28.1, 38.0, 14.2, 53.0, 264.6, 516.6, 189.4, 34.7, 68.4, 241.2, 356.8, 68.2, 154.4, 17.0, 4.6, 87.1, 91.3, 45.8, 137.4, 99.4, 239.5, 38.9, 51.7, 95.7, 143.4, 27.1, 75.7, 88.1, 204.1, 141.2, 93.8, 18.0, 30.6, 336.7, 336.7, 39.3, 39.3, 42.9, 35.9, 22.8, 22.8, 19.7, 26.1, 343.4, 343.4, 26.2, 36.7, 18.9, 19.8, 17.2, 28.5, 21.9, 22.1, 41.8, 23.7, 27.4, 34.1, 21.9, 20.3, 11.5, 26.3, 62.7, 70.8, 56.0, 48.0, 63.9, 92.8, 21.6, 36.8, 37.2, 273.5, 325.2, 80.5, 898.3, 1291.1, 85.1, 67.9, 364.2, 513.4, 671.5, 2773.2, 604.3, 1315.9, 1340.5, 1492.2, 655.0, 507.2, 210.9, 472.6, 29.9, 13.7, 149.6, 93.6, 623.3, 398.6, 180.5, 377.4, 66.6, 63.6, 312.3, 292.5, 424.4, 591.2, 63.9, 96.6, 51.3, 60.2, 36.9, 22.6, 42.7, 62.9, 27.4, 15.3, 32.6, 37.2, 146.5, 191.0, 210.9, 53.5, 301.5, 241.6, 271.8, 427.6, 207.5, 706.6, 105.3, 215.4, 53.5, 59.1, 78.1, 58.1, 98.9, 21.1, 144.2, 20.9, 26.1, 45.6, 14.1, 71.1, 35.5, 74.1, 42.6, 143.3, 60.3, 49.4, 543.4, 576.8, 495.7, 658.3, 106.5, 106.5, 60.7, 139.5, 1605.0, 1605.0, 892.6, 892.6, 166.5, 166.5, 14.3, 14.3, 32.4, 32.4, 9.2, 11.6, 7.7, 87.2, 139.8, 207.0, 87.5, 26.2, 26.2, 67.4, 67.4, 67.4, 95.7, 33.9, 77.0, 48.5, 48.5, 37.4, 60.7, 337.4, 399.2, 102.1, 1296.5, 1573.7, 8506.0, 3066.3, 5296.7, 5242.1, 1994.1, 423.5, 838.1, 603.0, 2109.8, 40.4, 678.2, 1314.7, 678.2, 114.8, 188.4, 109.2, 185.2, 541.8, 151.5, 160.6, 242.1, 213.3, 382.3, 53.7, 133.6, 76.0, 509.7, 798.3, 639.6, 267.1, 91.0, 809.8, 890.5, 1051.7, 223.9, 395.0, 741.8, 392.4, 217.5, 337.5, 62.8, 72.7, 151.1, 42.1, 19.4, 19.7, 17.3, 50.9, 80.4, 43.2, 32.3, 81.1, 22.5, 18.1, 29.0, 20.8, 13.1, 12.1, 367.0, 299.3, 493.2, 382.4, 43.3, 50.6, 73.6, 167.8, 233.0, 1545.7, 378.5, 55.3, 4.8, 57.9, 58.5, 130.8, 86.3, 24.2, 30.2, 70.9, 50.6, 267.7, 354.4, 325.8, 122.9, 284.5, 1586.8, 4827.0, 2061.9, 729.7, 846.3, 27.5, 21.2, 37.7, 18.9, 13.6, 30.9, 9.6, 35.0, 61.7, 29.1, 195.1, 195.1, 185.1, 203.8, 205.5, 63.1, 63.1, 61.9, 72.4, 50.0, 27.1, 27.1, 26.4, 22.1, 28.0, 31.3, 237.4, 242.5, 161.3, 392.3, 1060.3, 95.2, 36.6, 247.3, 63.0, 604.0, 794.1, 86.6, 192.1, 399.4, 23.3, 301.5, 726.0, 360.0, 22.6, 76.9, 296.5, 10.5, 39.1, 24.8, 35.4, 13.4, 21.4, 618.3, 615.6, 164.6, 452.9, 312.3, 479.4, 27.3, 93.0, 15.6, 17.2, 34.3, 576.5, 761.2, 232.1, 107.1, 141.4, 86.7, 96.6, 71.1, 248.2, 246.3, 269.4, 60.6, 76.7, 43.7, 47.4, 227.8, 290.8, 484.4, 224.3, 20.6, 485.4, 1005.8, 236.6, 138.1, 138.1, 158.8, 133.1, 108.4, 170.2, 604.0, 604.0, 274.3, 95.7, 317.5, 391.4, 32.2, 32.2, 189.4, 283.5, 95.2, 1380.6, 454.1, 896.6, 272.2, 207.8, 587.8, 1488.4, 305.3, 713.5, 452.5, 255.4, 22.4, 205.5, 599.6, 143.2, 148.4, 255.4, 88.4, 152.1, 179.2, 59.2, 8.1, 41.5, 111.8, 82.7, 32.1, 92.8, 7.1, 12.1, 42.1, 82.6, 16.3, 61.2, 61.2, 158.3, 900.2, 34.8, 13.4, 13.4, 96.5, 27.1, 9.8, 4.0, 5.7, 43.9, 85.3, 55.1, 123.2, 41.7, 31.9, 25.0, 79.6, 33.8, 884.8, 1081.1, 2469.6, 2049.0, 393.6, 368.8, 53.9, 53.9, 86.8, 112.3, 9.4, 122.8, 122.8, 104.9, 137.2, 530.7, 658.3, 262.3, 1118.1, 1737.3, 1083.4, 356.5, 38.4, 861.1, 526.4, 912.8, 988.2, 1273.8, 406.4, 856.9, 601.6, 848.0, 533.7, 864.8, 237.0, 479.0, 333.5, 509.6, 180.3, 531.8, 248.6, 268.9, 219.3, 154.3, 162.1, 428.6, 307.7, 280.2, 211.5, 484.6, 573.6, 462.7, 407.7, 88.8, 183.9, 203.3, 168.9, 180.1, 148.9, 375.6, 375.6, 233.7, 233.7, 365.7, 2284.3, 224.5, 84.0, 484.7, 231.4, 1178.1, 965.4, 98.2, 30.5, 231.9, 72.6, 252.1, 325.8, 81.1, 1205.5, 1675.8, 271.2, 124.1, 396.6, 1485.0, 145.7, 51.3, 578.7, 466.8, 178.0, 146.1, 166.8, 332.7, 138.4, 78.6, 96.0, 179.3, 385.2, 232.2, 107.5, 53.0, 288.4, 294.1, 274.7, 519.6, 753.6, 2.4, 220.2, 258.9, 419.9, 118.6, 97.0, 109.1, 150.3, 100.7, 40.1, 16.4, 195.5, 528.6, 46.9, 71.0, 214.5, 519.1, 195.4, 17.3, 192.8, 81.7, 188.3, 144.4, 130.0, 50.0, 30.9, 166.7, 239.8, 100.4, 251.4, 251.4, 71.9, 289.5, 440.6, 201.1, 16.5, 16.5, 38.1, 4.1, 13.6, 7.1, 429.4, 1494.0, 216.4, 369.4, 19.2, 60.3, 60.3, 20.2, 81.0, 140.5, 115.3, 115.3, 194.0, 66.7, 94.8, 47.0, 44.4, 48.1, 66.2, 17.0, 100.4, 100.4, 90.5, 163.3, 104.6, 51.9, 111.0, 107.6, 200.9, 36.3, 1110.5, 2243.5, 24.1, 16.4, 351.1, 61.3, 61.6, 394.7, 313.2, 182.3, 79.0, 60.1, 56.8, 85.1, 13.0, 267.4, 1918.9, 112.7, 800.9, 97.6, 445.4, 53.4, 184.4, 38.6, 7.7, 33.4, 39.8, 125.1, 447.0, 56.8, 6.9, 6.1, 102.1, 19.6, 30.6, 15.0, 15.5, 20.5, 4.3, 39.3, 53.2, 2.7, 217.3, 16.4, 19.5, 13.4, 29.6, 19.8, 40.9, 39.2, 66.7, 13.9, 138.3, 56.9, 16.8, 121.4, 32.4, 18.5, 59.5, 29.2, 46.6, 14.1, 18.0, 52.6, 56.1, 19.7, 65.6, 47.5, 77.9, 1019.0, 1198.9, 507.8, 2002.2, 1423.9, 1247.1, 3696.5, 4631.8, 1256.9, 1974.7, 3096.1, 4288.5, 4298.3, 6753.3, 11769.7, 7976.0, 2305.6, 8031.1, 2206.4, 1516.1, 1315.7, 1896.8, 390.4, 848.0, 731.9, 978.9, 933.7, 614.1, 1105.7, 137.6, 994.9, 409.3, 372.7, 928.2, 928.4, 1029.6, 696.4, 1017.1, 143.1, 968.3, 90.7, 59.3, 122.4, 17.5, 38.7, 1159.2, 1113.5, 1009.1, 243.2, 2766.6, 1285.7, 1141.2, 7546.3, 3537.5, 798.1, 1115.0, 262.7, 90.0, 2382.8, 1375.4, 1051.8, 1381.1, 635.1, 269.2, 592.1, 166.8, 214.9, 391.4, 109.0, 315.1, 457.5, 1023.6, 673.3, 103.8, 228.4, 239.0, 167.7, 256.1, 387.5, 592.2, 189.3, 326.6, 455.4, 654.7, 224.3, 315.9, 663.8, 663.8, 1303.5, 1277.0, 805.1, 5007.4, 1594.9, 1305.1, 223.7, 2974.3, 1038.3, 1345.8, 2721.8, 662.1, 865.4, 516.3, 606.6, 480.3, 690.7, 690.7, 265.2, 434.0, 609.7, 350.1, 46.8, 33.3, 64.4, 669.5, 669.5, 778.6, 778.6, 534.2, 534.2, 271.5, 262.2, 82.6, 1196.1, 505.6, 386.4, 101.5, 587.9, 1040.6, 569.1, 420.7, 291.0, 772.5, 142.6, 65.7, 204.3, 423.9, 182.4, 1195.8, 125.8, 303.7, 77.0, 163.8, 213.7, 125.6, 348.3, 350.7, 337.6, 550.5, 1584.6, 934.9, 378.6, 542.6, 571.1, 395.0, 30.4, 35.1, 260.4, 602.3, 206.3, 37.1, 79.0, 126.6, 174.9, 169.0, 165.1, 712.1, 963.0, 220.8, 224.1, 259.4, 263.0, 226.3, 292.2, 274.0, 470.9, 362.2, 636.6, 751.1, 339.8, 229.1, 239.2, 223.3, 263.2, 491.3, 476.8, 29.1, 373.4, 373.4, 933.9, 189.5, 613.3, 806.4, 721.2, 504.4, 436.1, 657.3, 428.1, 177.1, 177.1, 318.1, 318.1, 437.7, 234.4, 313.8, 643.0, 388.7, 257.5, 267.3, 247.7, 249.6, 132.6, 132.6, 347.5, 353.1, 306.8, 1091.9, 1676.9, 873.7, 317.8, 392.1, 287.7, 520.8, 181.3, 97.6, 612.2, 932.1, 98.2, 177.8, 168.6, 221.6, 214.9, 118.5, 573.3, 615.5, 468.4, 438.1, 649.1, 437.8, 247.3, 307.7, 209.2, 194.7, 715.2, 148.1, 120.8, 81.9, 370.9, 205.3, 192.9, 208.5, 169.3, 133.1, 48.5, 72.2, 65.4, 49.8, 31.7, 22.2, 40.3, 212.0, 233.3, 205.4, 174.2, 267.7, 96.5, 155.2, 102.2, 23.2, 87.8, 42.9, 111.1, 128.9, 134.1, 118.0, 420.7, 125.2, 85.0, 228.3, 273.4, 210.4, 213.0, 481.7, 154.2, 188.9, 275.8, 296.4, 290.3, 581.4, 234.1, 143.5, 264.6, 358.3, 421.6, 336.7, 1465.2, 1476.4, 1449.7, 231.6, 119.9, 393.3, 272.1, 284.8, 111.9, 421.0, 103.2, 103.2, 54.1, 110.0, 162.5, 107.1, 160.6, 245.4, 391.8, 96.8, 1885.5, 2534.4, 546.9, 424.4, 454.1, 194.3, 689.9, 27.1, 630.0, 530.9, 37.7, 8.1, 169.2, 968.0, 165.6, 455.9, 480.0, 610.8, 311.4, 303.0, 184.8, 358.5, 51.5, 86.2, 471.0, 151.9, 181.4, 138.2, 267.1, 105.9, 539.3, 508.5, 237.0, 396.3, 153.3, 143.6, 242.2, 328.2, 177.8, 321.4, 684.2, 316.6, 149.7, 75.6, 93.8, 85.5, 21.1, 130.4, 268.2, 163.4, 92.4, 157.1, 120.6, 75.7, 61.4, 182.6, 41.8, 43.7, 1034.5, 829.2, 1278.7, 79.1, 79.1, 113.6, 65.0, 207.8, 227.6, 153.2, 853.6, 113.9, 164.0, 82.2, 504.7, 315.2, 1004.4, 56.0, 38.2, 57.5, 26.4, 38.4, 87.9, 87.2, 86.2, 51.9, 134.6, 111.5, 180.7, 520.8, 497.6, 193.2, 31.2, 32.3, 35.3, 20.7, 381.9, 381.9, 336.5, 489.4, 91.0, 82.6, 143.3, 72.9, 149.0, 44.6, 130.4, 63.6, 90.4, 12.6, 52.2, 4.8, 30.4, 20.5, 104.3, 56.8, 565.9, 131.3, 69.3, 85.1, 123.9, 123.9, 188.7, 199.7, 90.7, 945.8, 1272.0, 52.6, 209.5, 1001.2, 171.7, 1237.5, 113.9, 37.0, 24.0, 22.6, 106.5, 219.6, 14.7, 12.0, 9.9, 74.4, 53.0, 85.2, 238.7, 138.5, 86.6, 13.2, 11.5, 30.7, 173.6, 82.9, 84.0, 142.5, 218.1, 60.0, 250.4, 51.1, 73.4, 59.4, 30.3, 28.4, 115.7, 138.7, 75.9, 86.6, 114.6, 253.3, 33.8, 53.4, 134.4, 266.7, 38.0, 48.5, 65.4, 108.6, 46.2, 38.4, 42.6, 43.3, 106.2, 86.5, 108.7, 308.7, 59.6, 82.6, 100.7, 66.2, 107.2, 133.8, 105.2, 318.6, 318.6, 385.3, 385.3, 49.3, 38.4, 59.5, 146.7, 204.7, 60.9, 621.4, 1101.9, 604.3, 101.8, 579.5, 79.7, 259.6, 437.8, 68.1, 118.8, 125.5, 106.4, 151.1, 419.4, 21.1, 14.3, 37.7, 107.6, 143.7, 26.5, 168.5, 85.7, 165.6, 90.9, 8.1, 188.0, 500.4, 20.4, 69.3, 74.4, 76.3, 225.4, 225.4, 117.1, 117.1, 124.5, 160.0, 75.9, 103.9, 494.8, 293.2, 4.6, 35.5, 188.4, 108.8, 23.2, 156.5, 10.0, 5.8, 13.9, 10.8, 17.0, 15.4, 32.9, 57.8, 16.1, 25.8, 185.7, 252.0, 63.4, 1107.5, 1919.9, 206.2, 121.3, 195.3, 278.2, 136.8, 234.4, 348.9, 41.6, 191.3, 118.2, 315.7, 172.4, 168.5, 163.9, 141.7, 195.4, 297.9, 365.3, 257.1, 186.9, 82.4, 106.4, 145.7, 270.9, 110.8, 73.5, 70.5, 48.7, 72.8, 43.7, 39.7, 56.6, 200.8, 176.2, 435.5, 181.2, 89.9, 100.5, 77.5, 80.8, 144.1, 211.2, 469.1, 132.9, 67.7, 62.5, 63.5, 559.8, 91.2, 278.0, 302.9, 214.7, 136.6, 238.7, 73.7, 61.9, 94.5, 100.1, 113.9, 86.8, 123.3, 114.7, 149.7, 299.8, 13.1, 105.0, 109.2, 117.1, 102.2, 108.9, 74.7, 70.3, 87.4, 323.4, 470.4, 440.1, 87.0, 8.1, 13.3, 6.5, 79.5, 79.5, 108.3, 57.8, 47.7, 95.5, 95.5, 91.7, 101.9, 80.3, 80.3, 79.7, 81.3, 141.0, 141.0, 58.6, 245.6, 55.1, 74.0, 34.4, 41.3, 68.9, 21.9, 55.7, 21.3, 103.6, 36.1, 63.1, 56.3, 25.1, 22.4, 28.5, 77.9, 20.0, 18.7, 41.2, 74.0, 143.5, 115.3, 82.8, 109.2, 176.2, 127.7, 260.0, 611.9, 1109.0, 240.8, 8051.8, 4666.4, 204.9, 5780.6, 286.3, 1229.3, 2658.1, 2944.0, 3081.9, 1359.0, 1089.9, 2136.3, 637.9, 996.3, 254.4, 535.2, 105.8, 125.4, 159.7, 132.8, 798.8, 659.6, 570.0, 1049.9, 968.1, 112.0, 26.6, 50.8, 21.9, 232.1, 255.3, 199.4, 170.2, 292.8, 208.0, 1382.6, 1086.2, 919.3, 1978.5, 1383.4, 1143.6, 2194.8, 404.5, 3212.2, 3287.7, 39.6, 51.7, 113.0, 120.9, 47.2, 50.8, 63.8, 102.9, 134.2, 120.8, 154.8, 991.9, 1259.4, 665.1, 56.2, 56.2, 15.2, 11.6, 57.2, 6757.6, 6835.5, 4947.5, 5100.7, 5235.7, 3485.5, 8019.1, 9462.3, 7779.5, 8109.9, 5868.5, 8333.9, 8536.9, 4371.2, 8483.4, 9714.4, 6420.9, 8361.3, 7592.5, 6454.9, 6804.3, 6756.7, 7607.8, 5654.8, 5609.5, 6852.4, 5947.5, 4775.5, 4800.1, 6018.8, 3642.8, 4049.6, 2766.8, 2629.4, 5409.4, 3896.2, 3859.4, 4129.6, 3670.3, 4096.0, 3802.0, 3261.6, 3251.9, 3941.5, 3815.7, 5503.0, 3781.4, 3374.9, 3236.0, 4460.6, 3047.7, 3414.5, 3510.2, 3399.4, 2415.9, 2340.9, 3971.1, 2855.6, 1908.6, 3115.8, 3983.9, 4083.7, 4531.7, 4482.0, 4939.7, 4406.8, 5470.3, 4920.3, 6685.7, 5996.0, 6381.4, 6003.5, 6893.9, 4728.4, 4412.3, 5284.5, 3672.0, 4618.0, 5690.7, 3850.9, 3254.8, 2763.3, 3434.8, 3159.6, 3292.4, 3887.8, 3108.1, 3296.9, 2043.7, 2863.4, 3350.3, 3301.0, 4174.8, 4296.6, 3167.8, 6046.2, 3131.5, 4664.8, 4776.5, 3073.0, 3949.5, 3955.4, 3449.5, 5842.9, 5837.9, 5339.6, 6571.2, 6083.7, 4796.4, 3423.2, 3850.0, 3495.7, 3608.2, 1118.4, 3395.9, 3565.6, 3026.6, 3919.7, 3449.5, 4679.3, 4619.1, 6323.9, 5782.9, 3651.8, 2683.9, 3369.9, 3938.2, 2684.9, 3589.9, 3076.5, 2846.8, 4179.8, 6323.9, 6133.1, 6639.5, 5793.4, 5858.4, 5069.4, 6913.6, 7445.6, 7596.7, 6295.8, 6511.7, 6689.6, 6997.0, 6962.2, 8237.5, 6681.9, 7100.7, 6105.9, 5711.9, 7427.1, 7539.3, 9632.8, 2796.5, 6519.8, 3644.0, 4560.2, 3152.3, 3310.4, 5057.8, 5027.2, 5202.1, 3257.0, 4801.9, 4501.1, 6698.2, 4960.1, 3462.0, 5635.5, 4811.7, 4119.0, 4667.8, 4634.0, 4767.5, 4055.3, 6721.7, 5445.9, 4274.9, 7922.6, 7940.2, 7464.4, 8355.6, 3656.4, 4256.3, 4256.3, 4722.5, 3563.3, 3363.3, 3298.1, 3828.9, 4021.3, 3417.4, 3538.8, 2861.0, 4307.9, 4344.5, 3489.5, 5525.2, 3624.9, 4248.3, 3695.9, 3562.7, 5549.5, 3920.7, 3893.6, 4193.2, 3607.8, 2958.6, 4806.4, 2811.7, 2330.5, 3600.6, 3707.6, 4124.8, 3353.5, 4078.2, 3834.3, 2697.3, 4406.2, 4406.1, 4376.1, 4720.1, 4733.2, 5069.6, 4129.2, 5270.2, 5105.4, 5082.3, 5956.5, 3595.0, 4325.5, 2514.0, 4797.4, 3815.2, 1984.7, 4863.1, 3554.1, 6540.5, 5736.3, 3649.8, 4137.3, 2787.8, 3218.0, 4016.4, 3617.8, 4588.4, 4950.2, 4024.6, 3661.3, 4376.1, 4570.4, 4616.7, 3968.2, 5027.2, 4979.6, 6409.0, 3966.7, 3966.1, 3977.8, 4056.6, 4358.4, 4789.3, 2337.0, 4242.0, 5354.3, 5688.8, 5220.9, 3777.1, 3933.1, 4415.3, 5904.0, 6488.4, 4842.9, 6961.5, 3189.6, 4197.2, 3399.2, 3126.3, 3254.8, 3723.5, 2834.9, 6230.8, 6326.8, 5312.0, 7090.1, 6534.1, 6525.6, 6591.7, 4447.3, 4235.5, 7260.2, 4036.6, 4037.8, 4040.7, 4403.6, 6175.6, 6771.6, 5414.1, 3732.0, 3633.3, 5318.1, 4926.8, 4772.6, 5263.5, 3618.5, 4641.3, 4247.7, 3917.6, 5245.1, 2673.7, 4356.3, 4691.3, 4672.8, 5052.2, 5414.4, 5396.3, 6389.1, 3624.3, 4263.7, 4426.7, 3758.2, 4346.1, 4422.6, 3827.4, 4925.8, 3535.2, 4512.7, 4455.4, 4927.8, 4457.3, 3819.6, 3234.2, 3781.8, 3687.9, 3930.6, 5358.0, 5526.7, 5024.9, 4218.0, 4099.6, 4402.2, 5762.8, 6001.7, 3997.4, 4035.2, 3355.1, 4362.5, 4361.4, 4359.9, 4383.6, 3460.2, 4118.2, 4241.5, 3108.2, 4174.2, 5768.8, 3702.1, 3880.2, 4141.9, 2759.5, 4133.4, 3377.6, 3352.4, 4069.9, 3258.1, 8340.4, 8415.0, 6786.5, 9661.4, 6935.3, 6893.3, 7404.7, 9049.6, 8777.7, 8354.1, 11448.7, 9705.5, 13219.6, 12845.7, 9058.0, 7238.8, 8157.0, 5131.0, 5943.3, 3972.2, 4737.8, 10124.2, 10990.7, 6459.7, 4940.1, 3859.7, 9670.4, 9508.5, 11187.7, 6185.9, 5926.6, 8628.0, 5398.5, 5558.0, 4544.6, 5433.9, 6128.9, 6227.3, 5667.4, 5925.3, 8699.1, 8891.9, 7551.6, 6029.8, 5108.8, 6677.4, 6974.8, 5794.3, 4972.5, 7949.5, 9624.9, 9319.5, 14020.0, 9226.9, 8032.9, 8091.6, 7020.0, 9792.3, 10599.2, 10265.2, 10157.2, 9652.9, 7816.8, 7558.4, 7749.8, 8411.0, 9097.5, 6139.2, 5822.1, 7056.2, 5585.2, 12075.9, 11453.4, 16331.6, 14778.9, 6656.7, 5570.9, 19580.0, 6134.2, 6708.4, 8092.7, 8092.7, 7936.5, 7090.0, 19331.0, 8804.9, 8375.3, 10019.3, 7685.1, 6725.6, 6037.5, 7931.1, 6893.8, 9224.4, 10585.2, 5873.2, 6302.2, 5290.3, 12289.4, 12875.9, 11038.2, 7084.1, 5536.6, 4022.5, 6736.4, 6030.6, 4929.7, 7775.3, 8100.0, 6285.8, 5810.6, 8867.5, 7571.9, 6937.9, 9193.7, 7488.6, 7144.5, 7142.7, 7578.9, 7223.8, 5082.9, 9757.9, 10892.6, 10174.5, 5293.8, 12039.0, 8550.7, 7743.6, 7571.4, 9974.8, 7660.0, 8164.5, 8393.0, 7750.0, 7096.5, 3686.7, 9777.9, 9794.0, 8807.8, 9883.2, 9862.8, 10976.9, 2593.4, 3569.0, 3291.4, 5572.0, 6011.6, 9957.7, 9969.1, 9427.6, 6024.8, 5804.9, 6475.2, 6738.7, 3565.7, 3415.0, 6235.2, 879.3, 7109.0, 9843.5, 4743.9, 7743.2, 4738.4, 4356.8, 8044.5, 9078.6, 9055.8, 11528.5, 7627.4, 9402.8, 3779.3, 3296.2, 2285.2, 6894.9, 8127.3, 7896.3, 5620.2, 6228.8, 9325.1, 8880.2, 9161.1, 11107.1, 9711.0, 9315.3, 9214.1, 12145.9, 8119.2, 8412.4, 5942.0, 9492.5, 9566.8, 8632.5, 2688.2, 10202.7, 7923.6, 7928.2, 7896.3, 1723.8, 1289.1, 5578.3, 3872.4, 8388.4, 8294.7, 10755.8, 15220.3, 4741.5, 9298.2, 8556.7, 9789.3, 8265.0, 12253.2, 9690.7, 3258.5, 8552.9, 6396.0, 12022.4, 12081.7, 3994.9, 14386.1, 4047.7, 12059.1, 10085.1, 17899.6, 18269.3, 17453.2, 18007.7, 11537.8, 16078.4, 18253.7, 11661.2, 15102.2, 13533.6, 20189.2, 16154.3, 21881.5, 16296.5, 19931.0, 16656.0, 14869.7, 12846.4, 12721.6, 13644.8, 8311.1, 7877.6, 10178.8, 12119.6, 5242.1, 9025.4, 7956.2, 12929.5, 11277.8, 6228.9, 8708.5, 7658.4, 10385.2, 8812.1, 10490.0, 9141.5, 7251.5, 9263.2, 10509.6, 10782.3, 6288.1, 12324.1, 8445.9, 8745.6, 9020.6, 6846.1, 8830.7, 9232.6, 8933.1, 11332.3, 6378.8, 6190.0, 12398.2, 3688.1, 5228.0, 8979.0, 9132.6, 5328.4, 10291.8, 8190.7, 11604.7, 11731.2, 10792.4, 9915.9, 13475.4, 7000.6, 15481.7, 10765.7, 9520.8, 7989.1, 12415.9, 10158.5, 10159.2, 10305.4, 11673.1, 10701.5, 10405.8, 17315.5, 10929.3, 10652.6, 9073.5, 10526.2, 10914.6, 10251.4, 11459.0, 13895.3, 9466.3, 8884.1, 10384.0, 10650.4, 5542.7, 15344.5, 15913.3, 13286.1, 10972.3, 12391.1, 10381.8, 10314.8, 10509.0, 10162.9, 12925.6, 9183.2, 8091.6, 8650.4, 6365.6, 4718.3, 8458.8, 10775.6, 11754.4, 6239.0, 6806.2, 6924.2, 5739.3, 7469.0, 7431.9, 8753.4, 6971.3, 8275.5, 8608.4, 7728.4, 5664.7, 9551.2, 6711.2, 7022.8, 6484.5, 8273.9, 6567.2, 5868.7, 8603.9, 13705.4, 6652.1, 6637.6, 8829.5, 4479.6, 9671.0, 7884.9, 7632.6, 8580.5, 8163.4, 10192.3, 5149.1, 5478.7, 4787.1, 10122.6, 5051.0, 6175.5, 6207.1, 5977.7, 5030.6, 5274.6, 4722.7, 6128.6, 5605.4, 3891.3, 4902.0, 4299.3, 6022.9, 4754.8, 4894.4, 4894.4, 5639.3, 5579.0, 5845.3, 4223.9, 8622.6, 5009.9, 5900.4, 6608.9, 4668.8, 4356.7, 5783.3, 3974.5, 6818.8, 4348.6, 4698.9, 3739.9, 5139.9, 5339.1, 6103.9, 4295.0, 3190.5, 4717.4, 4739.1, 3783.1, 5083.4, 4105.2, 4373.1, 4124.0, 4972.8, 4920.7, 5145.5, 4210.3, 3926.8, 3936.6, 3870.3, 4046.0, 3185.1, 4407.4, 2011.2, 3175.1, 4096.1, 4310.6, 3716.7, 3647.6, 4091.9, 3241.8, 4104.0, 3977.2, 4040.5, 3863.6, 3870.7, 3371.1, 4018.2, 4043.4, 4150.0, 3383.1, 3955.6, 3742.6, 3851.9, 3023.9, 3593.4, 3752.6, 3537.9, 2840.1, 3993.8, 3753.5, 4247.2, 3326.8, 3542.5, 3371.1, 5477.6, 5419.9, 5886.5, 6186.2, 6220.1, 7230.5, 4046.9, 3469.4, 3913.2, 4281.1, 3091.5, 4178.7, 3968.7, 4342.6, 3518.4, 4203.3, 3176.2, 4500.1, 5017.3, 6074.6, 2693.6, 3715.2, 6391.8, 4609.2, 6164.5, 4307.7, 4311.0, 4125.0, 5064.0, 3808.9, 3530.8, 3798.4, 3547.8, 3182.8, 3071.4, 3319.6, 3731.9, 4002.5, 4189.7, 3345.0, 5209.9, 4583.4, 4125.0, 4667.5, 4698.7, 3445.3, 4985.6, 3942.0, 4500.0, 3097.5, 4728.1, 4702.6, 4784.8, 4585.7, 3546.9, 5209.6, 3445.3, 4244.3, 4256.4, 3913.3, 5231.3, 5336.8, 4978.9, 5638.7, 3174.8, 4649.1, 4577.4, 6300.0, 3587.2, 3607.4, 4913.4, 2556.7, 3865.2, 3640.6, 3923.8, 4122.1, 2941.9, 2618.8, 3469.8, 4052.1, 2670.6, 3501.4, 3035.1, 4284.1, 4048.0, 4643.4, 3318.1, 3192.0, 3516.8, 3398.8, 3720.8, 2823.8, 3891.5, 3236.7, 3711.8, 4105.1, 3422.3, 4523.1, 4620.1, 3650.0, 5294.6, 5299.8, 5738.6, 4378.4, 6823.0, 4605.2, 4416.2, 4800.1, 4339.3, 3872.7, 7287.2, 8264.0, 4698.1, 2996.3, 4087.0, 3990.2, 4359.6, 3574.3, 3820.6, 3412.0, 3654.3, 2913.7, 4294.4, 3767.9, 5623.1, 8155.1, 6298.9, 4483.2, 3564.9, 4606.0, 4665.9, 7284.9, 4203.3, 4272.2, 4278.2, 4074.3, 3066.1, 2207.2, 4323.1, 3716.3, 4895.1, 5266.5, 5264.2, 5320.5, 6011.6, 7171.9, 7132.0, 9200.0, 6070.7, 5131.9, 5330.5, 3502.0, 5576.7, 6060.8, 4992.8, 4858.2, 5983.5, 3747.8, 5009.4, 8359.0, 5062.8, 4565.1, 6685.4, 4501.1, 5636.2, 6007.5, 4437.0, 5476.9, 10182.8, 4948.7, 5430.4, 5287.6, 6033.1, 4159.5, 5557.3, 5227.6, 5382.8, 4931.5, 6197.3, 6609.7, 4352.7, 4310.6, 5119.0, 5252.1, 4798.8, 5141.4, 4320.4, 4466.4, 3639.4, 4110.7, 4142.0, 3297.3, 4657.4, 4668.7, 4217.9, 4470.7, 5644.7, 4784.3, 4856.3, 5342.0, 5575.2, 4190.6, 5058.5, 5091.8, 3895.8, 4291.0, 3190.7, 4500.9, 4031.7, 4845.6, 5240.9, 4197.9, 4014.7, 4139.1, 3826.5, 6167.8, 4976.6, 5309.5, 4677.1, 6179.2, 6225.9, 5364.1, 7988.9, 8777.6, 9515.8, 9446.4, 8104.8, 8348.5, 8353.2, 9646.8, 9355.4, 7960.5, 7675.7, 4422.7, 4090.9, 8139.3, 7654.9, 8303.3, 8283.3, 10634.7, 5714.9, 7483.2, 9561.0, 8899.8, 6015.1, 6054.8, 5082.3, 5645.1, 5592.0, 6491.7, 7955.6, 5390.4, 6229.7, 4398.3, 5800.5, 5823.5, 5053.2, 4881.9, 4811.5, 5338.8, 6289.0, 3631.8, 3507.4, 5931.8, 5559.8, 5083.4, 7026.6, 4532.7, 6570.8, 5984.4, 5365.5, 7207.2, 7092.5, 6572.8, 11487.9, 6904.5, 4841.4, 7038.4, 7173.7, 5817.1, 4747.0, 3838.8, 4845.1, 4716.7, 5551.3, 3986.5, 6076.2, 5070.1, 4601.0, 7956.9, 7422.0, 7218.3, 8877.8, 4575.7, 3382.3, 3061.8, 6917.5, 5852.2, 3357.2, 2880.2, 7328.5, 6673.1, 6635.9, 6882.8, 5840.4, 4363.4, 8450.9, 6348.0, 7366.3, 6893.1, 8041.1, 4588.0, 5717.4, 6119.0, 5350.7, 4928.2, 7077.1, 4646.9, 6673.6, 5210.5, 7235.0, 10123.1, 5920.9, 5595.7, 6186.4, 6710.8, 7744.1, 8144.4, 8499.1, 6237.8, 7782.3, 2639.2, 5078.2, 5426.8, 5152.9, 6311.8, 6721.9, 6618.6, 7229.8, 4187.1, 3433.8, 4484.3, 6539.3, 4200.0, 4179.2, 4724.3, 4449.0, 4320.0, 4619.3, 4664.7, 6056.6, 3590.6, 3416.6, 6236.9, 5929.1, 3758.5, 3965.0, 4974.9, 4915.0, 5779.8, 5140.8, 4691.2, 6330.6, 4206.4, 4193.0, 4411.4, 5256.7, 5991.7, 4178.2, 5803.8, 7591.0, 3844.3, 6537.6, 3304.5, 2833.6, 2833.6, 4663.3, 6135.1, 4229.5, 4040.8, 6119.9, 6119.9, 6978.4, 6666.0, 7675.3, 6573.1, 6736.8, 7677.2, 9527.8, 6595.4, 7601.5, 4902.6, 4820.7, 5545.1, 5027.5, 5990.4, 5851.3, 7010.7, 7087.7, 5940.8, 5979.4, 5653.5, 6506.8, 4488.1, 3832.9, 6391.4, 7377.5, 3643.7, 6091.1, 2380.3, 5147.0, 4624.9, 6559.0, 8299.6, 8421.1, 5145.5, 9792.3, 10363.0, 11710.8, 8697.9, 14269.1, 7672.0, 11625.7, 6900.1, 11408.0, 8896.5, 8935.9, 8558.2, 10718.7, 9424.1, 10294.0, 7937.3, 2959.8, 3972.0, 1929.4, 3589.7, 3553.1, 3648.9, 3504.7, 8310.9, 3817.2, 7322.2, 10097.0, 9120.6, 8117.0, 9071.6, 8501.5, 8407.7, 8637.8, 3179.6, 3971.9, 6895.7, 5537.9, 7877.1, 7897.6, 8210.8, 4988.9, 3703.5, 4380.2, 7405.8, 8200.0, 6740.6, 7312.3, 9365.8, 9461.4, 5595.1, 12012.3, 16964.0, 14409.0, 3995.7, 15972.7, 10752.8, 7371.2, 14536.5, 14129.3, 6852.0, 13327.2, 17633.2, 15991.5, 14675.4, 19695.0, 17754.6, 16656.5, 13407.6, 16594.8, 13613.8, 13625.2, 6124.7, 13599.9, 10686.5, 8861.1, 7485.5, 6278.9, 8136.1, 8161.2, 7869.9, 10149.3, 4960.4, 8755.6, 8434.8, 9985.1, 10839.5, 6767.6, 6453.7, 7130.6, 7185.4, 6882.9, 10702.1, 9394.8, 9556.1, 7163.4, 9853.2, 5848.3, 10363.0, 10365.2, 9746.3, 11374.5, 6298.3, 6207.2, 7235.0, 11523.7, 9620.2, 9469.6, 9496.1, 7470.7, 12224.4, 8385.1, 4607.4, 7327.5, 12065.3, 12041.5, 12621.5, 7148.9, 8943.3, 10384.1, 8281.5, 8258.7, 9332.2, 7198.1, 8494.7, 8894.1, 7711.3, 7991.5, 8315.9, 10609.3, 6706.0, 5248.6, 7442.6, 10266.9, 4377.8, 10862.0, 8375.2, 8079.9, 6650.6, 6853.4, 5425.0, 8245.7, 7276.8, 4503.5, 5797.8, 2547.6, 4471.1, 4471.1, 5913.9, 6095.5, 7415.0, 7499.9, 4527.9, 9467.7, 9341.5, 11699.9, 11767.1, 10922.0, 9579.7, 9197.5, 10302.9, 9227.1, 10522.6, 8843.4, 9139.3, 8320.5, 8095.1, 9059.5, 8725.3, 7376.8, 9305.3, 8890.1, 8494.6, 7591.4, 7452.7, 6175.7, 14264.6, 8882.0, 6950.0, 7960.3, 8139.4, 5665.1, 4140.3, 4108.9, 4434.6, 6070.0, 9080.4, 7506.0, 11195.2, 11286.6, 10526.3, 11192.0, 7132.5, 3991.8, 11212.5, 7877.6, 4616.6, 4329.9, 5082.5, 5057.8, 5721.6, 4966.7, 3335.6, 8780.5, 8596.9, 19490.2, 5586.4, 4286.9, 7316.2, 7189.8, 7524.5, 8092.9, 7297.2, 4682.5, 7970.0, 7433.5, 8916.7, 8698.8, 4626.4, 3272.7, 4296.6, 3627.3, 5883.8, 6361.8, 5405.9, 6416.5, 4100.4, 4858.3, 3038.9, 6340.1, 6410.0, 5971.2, 6723.1, 6723.1, 7017.1, 6048.8, 5456.1, 7005.0, 4918.2, 7012.4, 6927.9, 8388.8, 5222.9, 5222.9, 3637.1, 4414.8, 7023.9, 7207.5, 7200.7, 5955.3, 6613.2, 6180.8, 5675.7, 6177.5, 5121.6, 5124.2, 5981.1, 5710.5, 5822.8, 5361.6, 7543.4, 5595.8, 6431.0, 5932.1, 4346.7, 4332.9, 4852.7, 4523.0, 4499.7, 5389.1, 3344.3, 3100.9, 2991.8, 3246.8, 2049.0, 3927.7, 4845.2, 4685.6, 6918.9, 4830.7, 4881.7, 4304.1, 4304.1, 5330.8, 5431.6, 4910.5, 4267.8, 3165.7, 2518.5, 4174.0, 4174.0, 4859.9, 3880.7, 3598.8, 3866.2, 2958.8, 3073.2, 3045.6, 3353.1, 4368.1, 4368.1, 5886.6, 6164.6, 6241.7, 5897.1, 5245.9, 5910.6, 5939.7, 5477.0, 5023.9, 4889.8, 5466.8, 5718.9, 5560.2, 6465.9, 3225.6, 5352.8, 1676.0, 3992.2, 2238.9, 6781.0, 3225.4, 2867.9, 2705.2, 3557.4, 3903.9, 3549.2, 4924.0, 4494.4, 3344.7, 5359.3, 5025.5, 5984.0, 5982.7, 5934.7, 7171.6, 7505.0, 8506.0, 8432.6, 7124.0, 7667.7, 7750.9, 6060.2, 6633.8, 5237.3, 7336.0, 5953.8, 6874.1, 5197.8, 5701.1, 8156.0, 8314.5, 7790.2, 6795.1, 5326.4, 5286.2, 5185.7, 6056.1, 6675.0, 4442.1, 5149.1, 3180.7, 4578.7, 4273.5, 4853.9, 3412.2, 3573.2, 4005.9, 6157.8, 4350.5, 4406.8, 3885.4, 4459.6, 3305.3, 6314.8, 3274.6, 3911.5, 2991.3, 6476.8, 6887.4, 6666.7, 4753.0, 5233.7, 5604.4, 5870.9, 2896.3, 9002.7, 5647.8, 5165.3, 3317.4, 3317.4, 4631.0, 5067.9, 2991.0, 4482.8, 3102.1, 2960.6, 4080.9, 4023.4, 4105.9, 4124.5, 4019.4, 3136.1, 2950.5, 2616.9, 2592.1, 2410.2, 6337.9, 2689.4, 2386.7, 4393.4, 2137.2, 3013.6, 2468.1, 4708.0, 4723.6, 4430.6, 5125.0, 3586.7, 3675.4, 3773.6, 3707.6, 4430.6, 4177.8, 4258.1, 3396.0, 5205.6, 3101.6, 2579.6, 3387.7, 3227.7, 2955.8, 6043.1, 3462.1, 2063.3, 4871.5, 4870.8, 4901.0, 6307.3, 6460.4, 4786.9, 4222.3, 5576.8, 4414.8, 5194.5, 4682.3, 5386.4, 3501.3, 3040.5, 2918.1, 4402.5, 4125.2, 4186.4, 3876.1, 3612.6, 4446.4, 2700.1, 2858.1, 2553.8, 4919.6, 4472.9, 6203.1, 5871.0, 5871.0, 6198.6, 6573.6, 5340.8, 3169.7, 5768.6, 3533.1, 5566.1, 4042.3, 4625.2, 4205.5, 5262.2, 6351.4, 6545.9, 4655.7, 5572.5, 5518.6, 5828.7, 3343.1, 4806.0, 4372.5, 6961.5, 3845.6, 6360.2, 6814.8, 7194.4, 6285.5, 6011.9, 4617.6, 5524.1, 5522.2, 9375.8, 3941.7, 9221.3, 7357.1, 7418.7, 5200.9, 7956.3, 7933.8, 8416.3, 11769.7, 9765.2, 9755.4, 9957.8, 10774.3, 7835.7, 10375.6, 10722.6, 11132.0, 5859.9, 3286.5, 3213.7, 4319.5, 5644.1, 5604.3, 4744.0, 9645.3, 3413.8, 3142.3, 5115.2, 4087.0, 3944.9, 4132.5, 3457.4, 3697.3, 3196.2, 4381.8, 1730.4, 5159.4, 6183.1, 5712.3, 5520.5, 9226.6, 6892.4, 6998.5, 6658.6, 8348.7, 7756.4, 5719.9, 5315.9, 6119.0, 5822.9, 5996.2, 6330.8, 6206.1, 6761.3, 6317.1, 5899.3, 5498.5, 6934.2, 3746.0, 6742.3, 7513.3, 4973.9, 7694.1, 6496.1, 4379.3, 5396.8, 6425.0, 1633.7, 5706.8, 5153.3, 3961.3, 1946.6, 4661.9, 4642.6, 5700.0, 5137.2, 5102.4, 5568.3, 3865.2, 4459.3, 4206.5, 7190.0, 4432.0, 4329.5, 3530.2, 4372.1, 5700.0, 5573.9, 5540.5, 6165.1, 7239.2, 8022.0, 5552.2, 3549.6, 7578.2, 8184.2, 5523.5, 4907.0, 4729.8, 5921.0, 4859.3, 3464.1, 5107.9, 5159.4, 4819.4, 3500.6, 3720.8, 7014.5, 6918.9, 7181.6, 7280.6, 3497.6, 5439.5, 5432.3, 5550.6, 6643.6, 6653.8, 5832.1, 3254.5, 3126.8, 3426.2, 2693.8, 3570.0, 3754.1, 3651.8, 3777.0, 4317.0, 3738.9, 6241.7, 6790.3, 5546.8, 4078.0, 5907.6, 6297.8, 5088.6, 5764.5, 4712.9, 4712.9, 4833.3, 4756.1, 5706.3, 7044.4, 6031.5, 3717.5, 4091.5, 3174.8, 3748.9, 2935.2, 4573.4, 4630.6, 3431.4, 5494.1, 5557.9, 4722.6, 5291.2, 7168.8, 4182.4, 3875.6, 4252.7, 2872.3, 2876.8, 2860.6, 2740.0, 4245.0, 3333.2, 2838.9, 4500.5, 5364.1, 5360.4, 5916.3, 6496.4, 6379.5, 9635.8, 7700.7, 8978.6, 2653.6, 3057.5, 3700.5, 3301.6, 4003.5, 4115.1, 3544.9, 4592.1, 3900.0, 7380.8, 3825.7, 3778.9, 3904.9, 5916.3, 7109.3, 7297.0, 5910.5, 8206.1, 7186.0, 6123.3, 8819.1, 8893.2, 7954.4, 10078.3, 5530.5, 5147.1, 6908.6, 8360.2, 9545.0, 6574.8, 12565.9, 5807.2, 5947.6, 5272.8, 6249.4, 5965.9, 4935.6, 4503.3, 5321.5, 5351.9, 5270.0, 7177.8, 6405.2, 6362.3, 6512.8, 6518.3, 4643.6, 6432.3, 6396.1, 6638.8], :type=>:histogram}], @layout={:width=>1000, :height=>500}, @config={:linkText=>\"Export to plot.ly\", :showLink=>true}, @embedded=true>"
      ]
     },
     "metadata": {},
     "output_type": "display_data"
    }
   ],
   "source": [
    "# http://www.e-stat.go.jp/SG1/estat/List.do?bid=000001034991\n",
    "\n",
    "vect = Daru::DataFrame.from_csv('001.csv', encoding: 'UTF-8')[\"人口密度\"]\n",
    "plot(vect, type: :histogram).show"
   ]
  }
 ],
 "metadata": {
  "kernelspec": {
   "display_name": "Ruby 2.3.2",
   "language": "ruby",
   "name": "ruby"
  },
  "language_info": {
   "file_extension": ".rb",
   "mimetype": "application/x-ruby",
   "name": "ruby",
   "version": "2.3.2"
  }
 },
 "nbformat": 4,
 "nbformat_minor": 1
}
