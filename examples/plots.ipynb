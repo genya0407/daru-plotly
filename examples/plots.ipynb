{
 "cells": [
  {
   "cell_type": "code",
   "execution_count": 1,
   "metadata": {
    "collapsed": false
   },
   "outputs": [
    {
     "data": {
      "text/plain": [
       "\"\""
      ]
     },
     "execution_count": 1,
     "metadata": {},
     "output_type": "execute_result"
    }
   ],
   "source": [
    "# gem development environment only\n",
    "lib = File.expand_path('../../lib', __FILE__)\n",
    "$LOAD_PATH.unshift(lib) unless $LOAD_PATH.include?(lib)\n",
    "''"
   ]
  },
  {
   "cell_type": "code",
   "execution_count": 2,
   "metadata": {
    "collapsed": false
   },
   "outputs": [
    {
     "data": {
      "application/javascript": [
       "if(window['d3'] === undefined ||\n",
       "   window['Nyaplot'] === undefined){\n",
       "    var path = {\"d3\":\"https://cdnjs.cloudflare.com/ajax/libs/d3/3.5.5/d3.min\",\"downloadable\":\"http://cdn.rawgit.com/domitry/d3-downloadable/master/d3-downloadable\"};\n",
       "\n",
       "\n",
       "\n",
       "    var shim = {\"d3\":{\"exports\":\"d3\"},\"downloadable\":{\"exports\":\"downloadable\"}};\n",
       "\n",
       "    require.config({paths: path, shim:shim});\n",
       "\n",
       "\n",
       "require(['d3'], function(d3){window['d3']=d3;console.log('finished loading d3');require(['downloadable'], function(downloadable){window['downloadable']=downloadable;console.log('finished loading downloadable');\n",
       "\n",
       "\tvar script = d3.select(\"head\")\n",
       "\t    .append(\"script\")\n",
       "\t    .attr(\"src\", \"http://cdn.rawgit.com/domitry/Nyaplotjs/master/release/nyaplot.js\")\n",
       "\t    .attr(\"async\", true);\n",
       "\n",
       "\tscript[0][0].onload = script[0][0].onreadystatechange = function(){\n",
       "\n",
       "\n",
       "\t    var event = document.createEvent(\"HTMLEvents\");\n",
       "\t    event.initEvent(\"load_nyaplot\",false,false);\n",
       "\t    window.dispatchEvent(event);\n",
       "\t    console.log('Finished loading Nyaplotjs');\n",
       "\n",
       "\t};\n",
       "\n",
       "\n",
       "});});\n",
       "}\n"
      ],
      "text/plain": [
       "\"if(window['d3'] === undefined ||\\n   window['Nyaplot'] === undefined){\\n    var path = {\\\"d3\\\":\\\"https://cdnjs.cloudflare.com/ajax/libs/d3/3.5.5/d3.min\\\",\\\"downloadable\\\":\\\"http://cdn.rawgit.com/domitry/d3-downloadable/master/d3-downloadable\\\"};\\n\\n\\n\\n    var shim = {\\\"d3\\\":{\\\"exports\\\":\\\"d3\\\"},\\\"downloadable\\\":{\\\"exports\\\":\\\"downloadable\\\"}};\\n\\n    require.config({paths: path, shim:shim});\\n\\n\\nrequire(['d3'], function(d3){window['d3']=d3;console.log('finished loading d3');require(['downloadable'], function(downloadable){window['downloadable']=downloadable;console.log('finished loading downloadable');\\n\\n\\tvar script = d3.select(\\\"head\\\")\\n\\t    .append(\\\"script\\\")\\n\\t    .attr(\\\"src\\\", \\\"http://cdn.rawgit.com/domitry/Nyaplotjs/master/release/nyaplot.js\\\")\\n\\t    .attr(\\\"async\\\", true);\\n\\n\\tscript[0][0].onload = script[0][0].onreadystatechange = function(){\\n\\n\\n\\t    var event = document.createEvent(\\\"HTMLEvents\\\");\\n\\t    event.initEvent(\\\"load_nyaplot\\\",false,false);\\n\\t    window.dispatchEvent(event);\\n\\t    console.log('Finished loading Nyaplotjs');\\n\\n\\t};\\n\\n\\n});});\\n}\\n\""
      ]
     },
     "metadata": {},
     "output_type": "display_data"
    },
    {
     "data": {
      "text/plain": [
       ":plotly"
      ]
     },
     "execution_count": 2,
     "metadata": {},
     "output_type": "execute_result"
    }
   ],
   "source": [
    "require 'daru'\n",
    "require 'daru_plotting_plotly'\n",
    "\n",
    "Daru.plotting_library = :plotly"
   ]
  },
  {
   "cell_type": "code",
   "execution_count": 3,
   "metadata": {
    "collapsed": false
   },
   "outputs": [
    {
     "data": {
      "text/html": [
       "<table>\n",
       "  <tr>\n",
       "    <th colspan='5'>Daru::DataFrame(5x4)</th>\n",
       "  </tr>\n",
       "\n",
       "  \n",
       "    <tr>\n",
       "      <th></th>\n",
       "      \n",
       "        <th>age</th>\n",
       "      \n",
       "        <th>male</th>\n",
       "      \n",
       "        <th>female</th>\n",
       "      \n",
       "        <th>total_count</th>\n",
       "      \n",
       "    </tr>\n",
       "  \n",
       "\n",
       "  \n",
       "    <tr>\n",
       "      <td>0</td>\n",
       "      \n",
       "        <td>0</td>\n",
       "      \n",
       "        <td>440</td>\n",
       "      \n",
       "        <td>416</td>\n",
       "      \n",
       "        <td>856</td>\n",
       "      \n",
       "    </tr>\n",
       "  \n",
       "    <tr>\n",
       "      <td>1</td>\n",
       "      \n",
       "        <td>1</td>\n",
       "      \n",
       "        <td>495</td>\n",
       "      \n",
       "        <td>477</td>\n",
       "      \n",
       "        <td>972</td>\n",
       "      \n",
       "    </tr>\n",
       "  \n",
       "    <tr>\n",
       "      <td>2</td>\n",
       "      \n",
       "        <td>2</td>\n",
       "      \n",
       "        <td>502</td>\n",
       "      \n",
       "        <td>474</td>\n",
       "      \n",
       "        <td>976</td>\n",
       "      \n",
       "    </tr>\n",
       "  \n",
       "    <tr>\n",
       "      <td>3</td>\n",
       "      \n",
       "        <td>3</td>\n",
       "      \n",
       "        <td>489</td>\n",
       "      \n",
       "        <td>424</td>\n",
       "      \n",
       "        <td>913</td>\n",
       "      \n",
       "    </tr>\n",
       "  \n",
       "    <tr>\n",
       "      <td>4</td>\n",
       "      \n",
       "        <td>4</td>\n",
       "      \n",
       "        <td>493</td>\n",
       "      \n",
       "        <td>465</td>\n",
       "      \n",
       "        <td>958</td>\n",
       "      \n",
       "    </tr>\n",
       "  \n",
       "\n",
       "  \n",
       "</table>"
      ],
      "text/plain": [
       "#<Daru::DataFrame(5x4)>\n",
       "                   age       male     female total_coun\n",
       "          0          0        440        416        856\n",
       "          1          1        495        477        972\n",
       "          2          2        502        474        976\n",
       "          3          3        489        424        913\n",
       "          4          4        493        465        958"
      ]
     },
     "execution_count": 3,
     "metadata": {},
     "output_type": "execute_result"
    }
   ],
   "source": [
    "# data source: http://www.data4citizen.jp/app/developer/app/GOvqzzYEoS/html/index.html\n",
    "\n",
    "df = Daru::DataFrame.from_csv('./O_TUKIBETSU_NENREI.csv')['age', 'male', 'female', 'total_count']\n",
    "df.first(5)"
   ]
  },
  {
   "cell_type": "markdown",
   "metadata": {},
   "source": [
    "# DataFrame#plot"
   ]
  },
  {
   "cell_type": "markdown",
   "metadata": {},
   "source": [
    "## basic usage"
   ]
  },
  {
   "cell_type": "code",
   "execution_count": 4,
   "metadata": {
    "collapsed": false
   },
   "outputs": [
    {
     "data": {
      "text/html": [
       "\n",
       "  <script>\n",
       "  requirejs.config({paths: { 'plotly': ['https://cdn.plot.ly/plotly-latest.min'] }})\n",
       "  </script>\n",
       "\n",
       "\n",
       "<div id=\"ca2e5bf3-5d67-4513-8860-2e08f24a6d45\" style=\"height: 100%; width: 100%;\"></div>\n",
       "\n",
       "<script>\n",
       " require(['plotly'], function(Plotly) { \n",
       "Plotly.newPlot(\n",
       "  'ca2e5bf3-5d67-4513-8860-2e08f24a6d45',\n",
       "  [{\"x\":[0,1,2,3,4,5,6,7,8,9,10,11,12,13,14,15,16,17,18,19,20,21,22,23,24,25,26,27,28,29,30,31,32,33,34,35,36,37,38,39,40,41,42,43,44,45,46,47,48,49,50,51,52,53,54,55,56,57,58,59,60,61,62,63,64,65,66,67,68,69,70,71,72,73,74,75,76,77,78,79,80,81,82,83,84,85,86,87,88,89,90,91,92,93,94,95,96,97,98,99,100,101,102,103,104,105],\"y\":[856,972,976,913,958,997,990,1024,1072,1030,1053,1086,1155,1135,1218,1261,1265,1370,1184,1193,1102,1110,1019,1056,1107,1062,1161,1134,1204,1273,1202,1204,1317,1288,1273,1313,1384,1352,1462,1483,1580,1585,1608,1680,1535,1548,1528,1541,1530,1625,1284,1546,1620,1570,1650,1721,1662,1742,1572,1758,1738,1838,1743,1785,1953,1991,2082,1990,1968,1877,1008,1228,1541,1397,1425,1377,1347,1221,1362,1224,1231,1214,1075,1063,1048,883,818,780,658,601,536,439,334,232,197,136,115,79,40,36,17,13,10,2,7,2],\"type\":\"scatter\",\"mode\":\"\",\"name\":\"total_count\"}],\n",
       "  {\"width\":1000,\"height\":500,\"title\":\"population by age\",\"xaxis\":{\"title\":\"age\"},\"yaxis\":{\"title\":\"population\"}},\n",
       "  {\"linkText\":\"Export to plot.ly\",\"showLink\":true}\n",
       ")\n",
       "\n",
       "window.addEventListener('resize', function() {\n",
       "  Plotly.Plots.resize(document.getElementById('ca2e5bf3-5d67-4513-8860-2e08f24a6d45'))\n",
       "})\n",
       " }) \n",
       "</script>"
      ],
      "text/plain": [
       "#<Plotly::Offline::HTML:0x007f9ef03746c8 @id=\"ca2e5bf3-5d67-4513-8860-2e08f24a6d45\", @data=[{:x=>[0, 1, 2, 3, 4, 5, 6, 7, 8, 9, 10, 11, 12, 13, 14, 15, 16, 17, 18, 19, 20, 21, 22, 23, 24, 25, 26, 27, 28, 29, 30, 31, 32, 33, 34, 35, 36, 37, 38, 39, 40, 41, 42, 43, 44, 45, 46, 47, 48, 49, 50, 51, 52, 53, 54, 55, 56, 57, 58, 59, 60, 61, 62, 63, 64, 65, 66, 67, 68, 69, 70, 71, 72, 73, 74, 75, 76, 77, 78, 79, 80, 81, 82, 83, 84, 85, 86, 87, 88, 89, 90, 91, 92, 93, 94, 95, 96, 97, 98, 99, 100, 101, 102, 103, 104, 105], :y=>[856, 972, 976, 913, 958, 997, 990, 1024, 1072, 1030, 1053, 1086, 1155, 1135, 1218, 1261, 1265, 1370, 1184, 1193, 1102, 1110, 1019, 1056, 1107, 1062, 1161, 1134, 1204, 1273, 1202, 1204, 1317, 1288, 1273, 1313, 1384, 1352, 1462, 1483, 1580, 1585, 1608, 1680, 1535, 1548, 1528, 1541, 1530, 1625, 1284, 1546, 1620, 1570, 1650, 1721, 1662, 1742, 1572, 1758, 1738, 1838, 1743, 1785, 1953, 1991, 2082, 1990, 1968, 1877, 1008, 1228, 1541, 1397, 1425, 1377, 1347, 1221, 1362, 1224, 1231, 1214, 1075, 1063, 1048, 883, 818, 780, 658, 601, 536, 439, 334, 232, 197, 136, 115, 79, 40, 36, 17, 13, 10, 2, 7, 2], :type=>:scatter, :mode=>\"\", :name=>\"total_count\"}], @layout={:width=>1000, :height=>500, :title=>\"population by age\", :xaxis=>{:title=>\"age\"}, :yaxis=>{:title=>\"population\"}}, @config={:linkText=>\"Export to plot.ly\", :showLink=>true}, @embedded=true>"
      ]
     },
     "metadata": {},
     "output_type": "display_data"
    }
   ],
   "source": [
    "df.plot(\n",
    "  x: 'age',\n",
    "  y: 'total_count',\n",
    "  layout: {\n",
    "    title: 'population by age',\n",
    "    xaxis: { title: 'age' },\n",
    "    yaxis: { title: 'population' }\n",
    "  },\n",
    ").show"
   ]
  },
  {
   "cell_type": "markdown",
   "metadata": {},
   "source": [
    "## markers only / markers + lines"
   ]
  },
  {
   "cell_type": "code",
   "execution_count": 5,
   "metadata": {
    "collapsed": false
   },
   "outputs": [
    {
     "data": {
      "text/html": [
       "\n",
       "  <script>\n",
       "  requirejs.config({paths: { 'plotly': ['https://cdn.plot.ly/plotly-latest.min'] }})\n",
       "  </script>\n",
       "\n",
       "\n",
       "<div id=\"8bd1b2a1-6666-42a3-b540-85c4d56ce84f\" style=\"height: 100%; width: 100%;\"></div>\n",
       "\n",
       "<script>\n",
       " require(['plotly'], function(Plotly) { \n",
       "Plotly.newPlot(\n",
       "  '8bd1b2a1-6666-42a3-b540-85c4d56ce84f',\n",
       "  [{\"x\":[0,1,2,3,4,5,6,7,8,9,10,11,12,13,14,15,16,17,18,19,20,21,22,23,24,25,26,27,28,29,30,31,32,33,34,35,36,37,38,39,40,41,42,43,44,45,46,47,48,49,50,51,52,53,54,55,56,57,58,59,60,61,62,63,64,65,66,67,68,69,70,71,72,73,74,75,76,77,78,79,80,81,82,83,84,85,86,87,88,89,90,91,92,93,94,95,96,97,98,99,100,101,102,103,104,105],\"y\":[856,972,976,913,958,997,990,1024,1072,1030,1053,1086,1155,1135,1218,1261,1265,1370,1184,1193,1102,1110,1019,1056,1107,1062,1161,1134,1204,1273,1202,1204,1317,1288,1273,1313,1384,1352,1462,1483,1580,1585,1608,1680,1535,1548,1528,1541,1530,1625,1284,1546,1620,1570,1650,1721,1662,1742,1572,1758,1738,1838,1743,1785,1953,1991,2082,1990,1968,1877,1008,1228,1541,1397,1425,1377,1347,1221,1362,1224,1231,1214,1075,1063,1048,883,818,780,658,601,536,439,334,232,197,136,115,79,40,36,17,13,10,2,7,2],\"type\":\"scatter\",\"mode\":\"markers\",\"name\":\"total_count\"}],\n",
       "  {\"width\":1000,\"height\":500},\n",
       "  {\"linkText\":\"Export to plot.ly\",\"showLink\":true}\n",
       ")\n",
       "\n",
       "window.addEventListener('resize', function() {\n",
       "  Plotly.Plots.resize(document.getElementById('8bd1b2a1-6666-42a3-b540-85c4d56ce84f'))\n",
       "})\n",
       " }) \n",
       "</script>"
      ],
      "text/plain": [
       "#<Plotly::Offline::HTML:0x007f9ef035d798 @id=\"8bd1b2a1-6666-42a3-b540-85c4d56ce84f\", @data=[{:x=>[0, 1, 2, 3, 4, 5, 6, 7, 8, 9, 10, 11, 12, 13, 14, 15, 16, 17, 18, 19, 20, 21, 22, 23, 24, 25, 26, 27, 28, 29, 30, 31, 32, 33, 34, 35, 36, 37, 38, 39, 40, 41, 42, 43, 44, 45, 46, 47, 48, 49, 50, 51, 52, 53, 54, 55, 56, 57, 58, 59, 60, 61, 62, 63, 64, 65, 66, 67, 68, 69, 70, 71, 72, 73, 74, 75, 76, 77, 78, 79, 80, 81, 82, 83, 84, 85, 86, 87, 88, 89, 90, 91, 92, 93, 94, 95, 96, 97, 98, 99, 100, 101, 102, 103, 104, 105], :y=>[856, 972, 976, 913, 958, 997, 990, 1024, 1072, 1030, 1053, 1086, 1155, 1135, 1218, 1261, 1265, 1370, 1184, 1193, 1102, 1110, 1019, 1056, 1107, 1062, 1161, 1134, 1204, 1273, 1202, 1204, 1317, 1288, 1273, 1313, 1384, 1352, 1462, 1483, 1580, 1585, 1608, 1680, 1535, 1548, 1528, 1541, 1530, 1625, 1284, 1546, 1620, 1570, 1650, 1721, 1662, 1742, 1572, 1758, 1738, 1838, 1743, 1785, 1953, 1991, 2082, 1990, 1968, 1877, 1008, 1228, 1541, 1397, 1425, 1377, 1347, 1221, 1362, 1224, 1231, 1214, 1075, 1063, 1048, 883, 818, 780, 658, 601, 536, 439, 334, 232, 197, 136, 115, 79, 40, 36, 17, 13, 10, 2, 7, 2], :type=>:scatter, :mode=>\"markers\", :name=>\"total_count\"}], @layout={:width=>1000, :height=>500}, @config={:linkText=>\"Export to plot.ly\", :showLink=>true}, @embedded=true>"
      ]
     },
     "metadata": {},
     "output_type": "display_data"
    },
    {
     "data": {
      "text/html": [
       "\n",
       "  <script>\n",
       "  requirejs.config({paths: { 'plotly': ['https://cdn.plot.ly/plotly-latest.min'] }})\n",
       "  </script>\n",
       "\n",
       "\n",
       "<div id=\"2272b669-d19e-4c0d-9162-c1c92498a2b7\" style=\"height: 100%; width: 100%;\"></div>\n",
       "\n",
       "<script>\n",
       " require(['plotly'], function(Plotly) { \n",
       "Plotly.newPlot(\n",
       "  '2272b669-d19e-4c0d-9162-c1c92498a2b7',\n",
       "  [{\"x\":[0,1,2,3,4,5,6,7,8,9,10,11,12,13,14,15,16,17,18,19,20,21,22,23,24,25,26,27,28,29,30,31,32,33,34,35,36,37,38,39,40,41,42,43,44,45,46,47,48,49,50,51,52,53,54,55,56,57,58,59,60,61,62,63,64,65,66,67,68,69,70,71,72,73,74,75,76,77,78,79,80,81,82,83,84,85,86,87,88,89,90,91,92,93,94,95,96,97,98,99,100,101,102,103,104,105],\"y\":[856,972,976,913,958,997,990,1024,1072,1030,1053,1086,1155,1135,1218,1261,1265,1370,1184,1193,1102,1110,1019,1056,1107,1062,1161,1134,1204,1273,1202,1204,1317,1288,1273,1313,1384,1352,1462,1483,1580,1585,1608,1680,1535,1548,1528,1541,1530,1625,1284,1546,1620,1570,1650,1721,1662,1742,1572,1758,1738,1838,1743,1785,1953,1991,2082,1990,1968,1877,1008,1228,1541,1397,1425,1377,1347,1221,1362,1224,1231,1214,1075,1063,1048,883,818,780,658,601,536,439,334,232,197,136,115,79,40,36,17,13,10,2,7,2],\"type\":\"scatter\",\"mode\":\"markers+lines\",\"name\":\"total_count\"}],\n",
       "  {\"width\":1000,\"height\":500},\n",
       "  {\"linkText\":\"Export to plot.ly\",\"showLink\":true}\n",
       ")\n",
       "\n",
       "window.addEventListener('resize', function() {\n",
       "  Plotly.Plots.resize(document.getElementById('2272b669-d19e-4c0d-9162-c1c92498a2b7'))\n",
       "})\n",
       " }) \n",
       "</script>"
      ],
      "text/plain": [
       "#<Plotly::Offline::HTML:0x007f9ef0a2feb8 @id=\"2272b669-d19e-4c0d-9162-c1c92498a2b7\", @data=[{:x=>[0, 1, 2, 3, 4, 5, 6, 7, 8, 9, 10, 11, 12, 13, 14, 15, 16, 17, 18, 19, 20, 21, 22, 23, 24, 25, 26, 27, 28, 29, 30, 31, 32, 33, 34, 35, 36, 37, 38, 39, 40, 41, 42, 43, 44, 45, 46, 47, 48, 49, 50, 51, 52, 53, 54, 55, 56, 57, 58, 59, 60, 61, 62, 63, 64, 65, 66, 67, 68, 69, 70, 71, 72, 73, 74, 75, 76, 77, 78, 79, 80, 81, 82, 83, 84, 85, 86, 87, 88, 89, 90, 91, 92, 93, 94, 95, 96, 97, 98, 99, 100, 101, 102, 103, 104, 105], :y=>[856, 972, 976, 913, 958, 997, 990, 1024, 1072, 1030, 1053, 1086, 1155, 1135, 1218, 1261, 1265, 1370, 1184, 1193, 1102, 1110, 1019, 1056, 1107, 1062, 1161, 1134, 1204, 1273, 1202, 1204, 1317, 1288, 1273, 1313, 1384, 1352, 1462, 1483, 1580, 1585, 1608, 1680, 1535, 1548, 1528, 1541, 1530, 1625, 1284, 1546, 1620, 1570, 1650, 1721, 1662, 1742, 1572, 1758, 1738, 1838, 1743, 1785, 1953, 1991, 2082, 1990, 1968, 1877, 1008, 1228, 1541, 1397, 1425, 1377, 1347, 1221, 1362, 1224, 1231, 1214, 1075, 1063, 1048, 883, 818, 780, 658, 601, 536, 439, 334, 232, 197, 136, 115, 79, 40, 36, 17, 13, 10, 2, 7, 2], :type=>:scatter, :mode=>\"markers+lines\", :name=>\"total_count\"}], @layout={:width=>1000, :height=>500}, @config={:linkText=>\"Export to plot.ly\", :showLink=>true}, @embedded=true>"
      ]
     },
     "metadata": {},
     "output_type": "display_data"
    }
   ],
   "source": [
    "# markers only\n",
    "df.plot(x: 'age', y: 'total_count', mode: :markers).show\n",
    "\n",
    "# markers+lines only\n",
    "df.plot(x: 'age', y: 'total_count', mode: [:markers, :lines]).show"
   ]
  },
  {
   "cell_type": "markdown",
   "metadata": {},
   "source": [
    "## Multiple lines"
   ]
  },
  {
   "cell_type": "code",
   "execution_count": 6,
   "metadata": {
    "collapsed": false
   },
   "outputs": [
    {
     "data": {
      "text/html": [
       "\n",
       "  <script>\n",
       "  requirejs.config({paths: { 'plotly': ['https://cdn.plot.ly/plotly-latest.min'] }})\n",
       "  </script>\n",
       "\n",
       "\n",
       "<div id=\"4ce57688-13fb-4da6-9512-4f159ae5ce42\" style=\"height: 100%; width: 100%;\"></div>\n",
       "\n",
       "<script>\n",
       " require(['plotly'], function(Plotly) { \n",
       "Plotly.newPlot(\n",
       "  '4ce57688-13fb-4da6-9512-4f159ae5ce42',\n",
       "  [{\"x\":[0,1,2,3,4,5,6,7,8,9,10,11,12,13,14,15,16,17,18,19,20,21,22,23,24,25,26,27,28,29,30,31,32,33,34,35,36,37,38,39,40,41,42,43,44,45,46,47,48,49,50,51,52,53,54,55,56,57,58,59,60,61,62,63,64,65,66,67,68,69,70,71,72,73,74,75,76,77,78,79,80,81,82,83,84,85,86,87,88,89,90,91,92,93,94,95,96,97,98,99,100,101,102,103,104,105],\"y\":[440,495,502,489,493,509,519,538,543,514,540,560,599,574,621,641,620,703,588,564,550,552,519,512,588,549,590,568,620,655,621,640,681,671,625,646,718,705,751,754,793,823,800,821,771,763,749,773,742,813,630,794,804,762,799,829,807,865,799,872,865,930,844,859,930,1009,994,1021,940,909,492,582,697,633,634,583,586,479,513,477,468,471,386,366,348,307,262,249,187,165,157,111,82,54,31,34,19,13,6,4,6,3,1,0,2,0],\"type\":\"scatter\",\"mode\":\"\",\"name\":\"male\"},{\"x\":[0,1,2,3,4,5,6,7,8,9,10,11,12,13,14,15,16,17,18,19,20,21,22,23,24,25,26,27,28,29,30,31,32,33,34,35,36,37,38,39,40,41,42,43,44,45,46,47,48,49,50,51,52,53,54,55,56,57,58,59,60,61,62,63,64,65,66,67,68,69,70,71,72,73,74,75,76,77,78,79,80,81,82,83,84,85,86,87,88,89,90,91,92,93,94,95,96,97,98,99,100,101,102,103,104,105],\"y\":[416,477,474,424,465,488,471,486,529,516,513,526,556,561,597,620,645,667,596,629,552,558,500,544,519,513,571,566,584,618,581,564,636,617,648,667,666,647,711,729,787,762,808,859,764,785,779,768,788,812,654,752,816,808,851,892,855,877,773,886,873,908,899,926,1023,982,1088,969,1028,968,516,646,844,764,791,794,761,742,849,747,763,743,689,697,700,576,556,531,471,436,379,328,252,178,166,102,96,66,34,32,11,10,9,2,5,2],\"type\":\"scatter\",\"mode\":\"\",\"name\":\"female\"}],\n",
       "  {\"width\":1000,\"height\":500},\n",
       "  {\"linkText\":\"Export to plot.ly\",\"showLink\":true}\n",
       ")\n",
       "\n",
       "window.addEventListener('resize', function() {\n",
       "  Plotly.Plots.resize(document.getElementById('4ce57688-13fb-4da6-9512-4f159ae5ce42'))\n",
       "})\n",
       " }) \n",
       "</script>"
      ],
      "text/plain": [
       "#<Plotly::Offline::HTML:0x007f9ef0347f60 @id=\"4ce57688-13fb-4da6-9512-4f159ae5ce42\", @data=[{:x=>[0, 1, 2, 3, 4, 5, 6, 7, 8, 9, 10, 11, 12, 13, 14, 15, 16, 17, 18, 19, 20, 21, 22, 23, 24, 25, 26, 27, 28, 29, 30, 31, 32, 33, 34, 35, 36, 37, 38, 39, 40, 41, 42, 43, 44, 45, 46, 47, 48, 49, 50, 51, 52, 53, 54, 55, 56, 57, 58, 59, 60, 61, 62, 63, 64, 65, 66, 67, 68, 69, 70, 71, 72, 73, 74, 75, 76, 77, 78, 79, 80, 81, 82, 83, 84, 85, 86, 87, 88, 89, 90, 91, 92, 93, 94, 95, 96, 97, 98, 99, 100, 101, 102, 103, 104, 105], :y=>[440, 495, 502, 489, 493, 509, 519, 538, 543, 514, 540, 560, 599, 574, 621, 641, 620, 703, 588, 564, 550, 552, 519, 512, 588, 549, 590, 568, 620, 655, 621, 640, 681, 671, 625, 646, 718, 705, 751, 754, 793, 823, 800, 821, 771, 763, 749, 773, 742, 813, 630, 794, 804, 762, 799, 829, 807, 865, 799, 872, 865, 930, 844, 859, 930, 1009, 994, 1021, 940, 909, 492, 582, 697, 633, 634, 583, 586, 479, 513, 477, 468, 471, 386, 366, 348, 307, 262, 249, 187, 165, 157, 111, 82, 54, 31, 34, 19, 13, 6, 4, 6, 3, 1, 0, 2, 0], :type=>:scatter, :mode=>\"\", :name=>\"male\"}, {:x=>[0, 1, 2, 3, 4, 5, 6, 7, 8, 9, 10, 11, 12, 13, 14, 15, 16, 17, 18, 19, 20, 21, 22, 23, 24, 25, 26, 27, 28, 29, 30, 31, 32, 33, 34, 35, 36, 37, 38, 39, 40, 41, 42, 43, 44, 45, 46, 47, 48, 49, 50, 51, 52, 53, 54, 55, 56, 57, 58, 59, 60, 61, 62, 63, 64, 65, 66, 67, 68, 69, 70, 71, 72, 73, 74, 75, 76, 77, 78, 79, 80, 81, 82, 83, 84, 85, 86, 87, 88, 89, 90, 91, 92, 93, 94, 95, 96, 97, 98, 99, 100, 101, 102, 103, 104, 105], :y=>[416, 477, 474, 424, 465, 488, 471, 486, 529, 516, 513, 526, 556, 561, 597, 620, 645, 667, 596, 629, 552, 558, 500, 544, 519, 513, 571, 566, 584, 618, 581, 564, 636, 617, 648, 667, 666, 647, 711, 729, 787, 762, 808, 859, 764, 785, 779, 768, 788, 812, 654, 752, 816, 808, 851, 892, 855, 877, 773, 886, 873, 908, 899, 926, 1023, 982, 1088, 969, 1028, 968, 516, 646, 844, 764, 791, 794, 761, 742, 849, 747, 763, 743, 689, 697, 700, 576, 556, 531, 471, 436, 379, 328, 252, 178, 166, 102, 96, 66, 34, 32, 11, 10, 9, 2, 5, 2], :type=>:scatter, :mode=>\"\", :name=>\"female\"}], @layout={:width=>1000, :height=>500}, @config={:linkText=>\"Export to plot.ly\", :showLink=>true}, @embedded=true>"
      ]
     },
     "metadata": {},
     "output_type": "display_data"
    }
   ],
   "source": [
    "df.plot(x: 'age', y: ['male', 'female']).show"
   ]
  },
  {
   "cell_type": "markdown",
   "metadata": {},
   "source": [
    "## Plot types"
   ]
  },
  {
   "cell_type": "code",
   "execution_count": 7,
   "metadata": {
    "collapsed": false,
    "scrolled": true
   },
   "outputs": [
    {
     "data": {
      "text/html": [
       "<table>\n",
       "  <tr>\n",
       "    <th colspan='5'>Daru::DataFrame(5x4)</th>\n",
       "  </tr>\n",
       "\n",
       "  \n",
       "    <tr>\n",
       "      <th></th>\n",
       "      \n",
       "        <th>male</th>\n",
       "      \n",
       "        <th>female</th>\n",
       "      \n",
       "        <th>total_count</th>\n",
       "      \n",
       "        <th>generation</th>\n",
       "      \n",
       "    </tr>\n",
       "  \n",
       "\n",
       "  \n",
       "    <tr>\n",
       "      <td>000 ~</td>\n",
       "      \n",
       "        <td>5042</td>\n",
       "      \n",
       "        <td>4746</td>\n",
       "      \n",
       "        <td>9788</td>\n",
       "      \n",
       "        <td>000 ~</td>\n",
       "      \n",
       "    </tr>\n",
       "  \n",
       "    <tr>\n",
       "      <td>010 ~</td>\n",
       "      \n",
       "        <td>6010</td>\n",
       "      \n",
       "        <td>5910</td>\n",
       "      \n",
       "        <td>11920</td>\n",
       "      \n",
       "        <td>010 ~</td>\n",
       "      \n",
       "    </tr>\n",
       "  \n",
       "    <tr>\n",
       "      <td>020 ~</td>\n",
       "      \n",
       "        <td>5703</td>\n",
       "      \n",
       "        <td>5525</td>\n",
       "      \n",
       "        <td>11228</td>\n",
       "      \n",
       "        <td>020 ~</td>\n",
       "      \n",
       "    </tr>\n",
       "  \n",
       "    <tr>\n",
       "      <td>030 ~</td>\n",
       "      \n",
       "        <td>6812</td>\n",
       "      \n",
       "        <td>6466</td>\n",
       "      \n",
       "        <td>13278</td>\n",
       "      \n",
       "        <td>030 ~</td>\n",
       "      \n",
       "    </tr>\n",
       "  \n",
       "    <tr>\n",
       "      <td>040 ~</td>\n",
       "      \n",
       "        <td>7848</td>\n",
       "      \n",
       "        <td>7912</td>\n",
       "      \n",
       "        <td>15760</td>\n",
       "      \n",
       "        <td>040 ~</td>\n",
       "      \n",
       "    </tr>\n",
       "  \n",
       "\n",
       "  \n",
       "</table>"
      ],
      "text/plain": [
       "#<Daru::DataFrame(5x4)>\n",
       "                  male     female total_coun generation\n",
       "      000 ~       5042       4746       9788      000 ~\n",
       "      010 ~       6010       5910      11920      010 ~\n",
       "      020 ~       5703       5525      11228      020 ~\n",
       "      030 ~       6812       6466      13278      030 ~\n",
       "      040 ~       7848       7912      15760      040 ~"
      ]
     },
     "execution_count": 7,
     "metadata": {},
     "output_type": "execute_result"
    }
   ],
   "source": [
    "df_generation = df.dup['age', 'male', 'female', 'total_count']\n",
    "df_generation = df_generation.map_rows! do |row|\n",
    "  generation = (row['age'] / 10) * 10\n",
    "  row['age'] = \"#{'%03d' % generation} ~\"\n",
    "  row\n",
    "end.group_by('age').sum\n",
    "df_generation.add_vector 'generation', df_generation.index.to_a\n",
    "df_generation.sort ['generation']\n",
    "df_generation.first(5)"
   ]
  },
  {
   "cell_type": "markdown",
   "metadata": {},
   "source": [
    "### bar plot"
   ]
  },
  {
   "cell_type": "code",
   "execution_count": 15,
   "metadata": {
    "collapsed": false
   },
   "outputs": [
    {
     "data": {
      "text/html": [
       "\n",
       "  <script>\n",
       "  requirejs.config({paths: { 'plotly': ['https://cdn.plot.ly/plotly-latest.min'] }})\n",
       "  </script>\n",
       "\n",
       "\n",
       "<div id=\"aa825c87-58c9-427e-bd4c-8b9c2d02679b\" style=\"height: 100%; width: 100%;\"></div>\n",
       "\n",
       "<script>\n",
       " require(['plotly'], function(Plotly) { \n",
       "Plotly.newPlot(\n",
       "  'aa825c87-58c9-427e-bd4c-8b9c2d02679b',\n",
       "  [{\"x\":[\"000 ~\",\"010 ~\",\"020 ~\",\"030 ~\",\"040 ~\",\"050 ~\",\"060 ~\",\"070 ~\",\"080 ~\",\"090 ~\",\"100 ~\"],\"y\":[9788,11920,11228,13278,15760,16125,18965,13130,9371,2144,51],\"type\":\"bar\",\"mode\":\"\",\"name\":2}],\n",
       "  {\"width\":1000,\"height\":500},\n",
       "  {\"linkText\":\"Export to plot.ly\",\"showLink\":true}\n",
       ")\n",
       "\n",
       "window.addEventListener('resize', function() {\n",
       "  Plotly.Plots.resize(document.getElementById('aa825c87-58c9-427e-bd4c-8b9c2d02679b'))\n",
       "})\n",
       " }) \n",
       "</script>"
      ],
      "text/plain": [
       "#<Plotly::Offline::HTML:0x007f9ef1195fb8 @id=\"aa825c87-58c9-427e-bd4c-8b9c2d02679b\", @data=[{:x=>[\"000 ~\", \"010 ~\", \"020 ~\", \"030 ~\", \"040 ~\", \"050 ~\", \"060 ~\", \"070 ~\", \"080 ~\", \"090 ~\", \"100 ~\"], :y=>[9788, 11920, 11228, 13278, 15760, 16125, 18965, 13130, 9371, 2144, 51], :type=>:bar, :mode=>\"\", :name=>2}], @layout={:width=>1000, :height=>500}, @config={:linkText=>\"Export to plot.ly\", :showLink=>true}, @embedded=true>"
      ]
     },
     "metadata": {},
     "output_type": "display_data"
    }
   ],
   "source": [
    "df_generation.plot(\n",
    "  x: 'generation',\n",
    "  y: 'total_count',\n",
    "  type: :bar\n",
    ").show"
   ]
  },
  {
   "cell_type": "markdown",
   "metadata": {},
   "source": [
    "### pie plot"
   ]
  },
  {
   "cell_type": "code",
   "execution_count": 8,
   "metadata": {
    "collapsed": false
   },
   "outputs": [
    {
     "data": {
      "text/html": [
       "\n",
       "  <script>\n",
       "  requirejs.config({paths: { 'plotly': ['https://cdn.plot.ly/plotly-latest.min'] }})\n",
       "  </script>\n",
       "\n",
       "\n",
       "<div id=\"d2eda25a-c1f3-4aee-bd55-e62b8c9ebd8f\" style=\"height: 100%; width: 100%;\"></div>\n",
       "\n",
       "<script>\n",
       " require(['plotly'], function(Plotly) { \n",
       "Plotly.newPlot(\n",
       "  'd2eda25a-c1f3-4aee-bd55-e62b8c9ebd8f',\n",
       "  [{\"type\":\"pie\",\"labels\":[\"000 ~\",\"010 ~\",\"020 ~\",\"030 ~\",\"040 ~\",\"050 ~\",\"060 ~\",\"070 ~\",\"080 ~\",\"090 ~\",\"100 ~\"],\"values\":[9788,11920,11228,13278,15760,16125,18965,13130,9371,2144,51],\"sort\":false,\"direction\":\"clockwise\"}],\n",
       "  {\"width\":1000,\"height\":500},\n",
       "  {\"linkText\":\"Export to plot.ly\",\"showLink\":true}\n",
       ")\n",
       "\n",
       "window.addEventListener('resize', function() {\n",
       "  Plotly.Plots.resize(document.getElementById('d2eda25a-c1f3-4aee-bd55-e62b8c9ebd8f'))\n",
       "})\n",
       " }) \n",
       "</script>"
      ],
      "text/plain": [
       "#<Plotly::Offline::HTML:0x007f9eef939780 @id=\"d2eda25a-c1f3-4aee-bd55-e62b8c9ebd8f\", @data=[{:type=>:pie, :labels=>[\"000 ~\", \"010 ~\", \"020 ~\", \"030 ~\", \"040 ~\", \"050 ~\", \"060 ~\", \"070 ~\", \"080 ~\", \"090 ~\", \"100 ~\"], :values=>[9788, 11920, 11228, 13278, 15760, 16125, 18965, 13130, 9371, 2144, 51], :sort=>false, :direction=>\"clockwise\"}], @layout={:width=>1000, :height=>500}, @config={:linkText=>\"Export to plot.ly\", :showLink=>true}, @embedded=true>"
      ]
     },
     "metadata": {},
     "output_type": "display_data"
    }
   ],
   "source": [
    "df_generation.plot(\n",
    "  type: :pie,\n",
    "  labels: 'generation',\n",
    "  values: 'total_count',\n",
    "  opts: {\n",
    "    sort: false,\n",
    "    direction: 'clockwise'\n",
    "  }\n",
    ").show"
   ]
  },
  {
   "cell_type": "markdown",
   "metadata": {},
   "source": [
    "# Vector#plot"
   ]
  },
  {
   "cell_type": "code",
   "execution_count": 16,
   "metadata": {
    "collapsed": false
   },
   "outputs": [
    {
     "data": {
      "text/html": [
       "\n",
       "  <script>\n",
       "  requirejs.config({paths: { 'plotly': ['https://cdn.plot.ly/plotly-latest.min'] }})\n",
       "  </script>\n",
       "\n",
       "\n",
       "<div id=\"ed864e43-435e-4b50-a3e9-61843fed7e4c\" style=\"height: 100%; width: 100%;\"></div>\n",
       "\n",
       "<script>\n",
       " require(['plotly'], function(Plotly) { \n",
       "Plotly.newPlot(\n",
       "  'ed864e43-435e-4b50-a3e9-61843fed7e4c',\n",
       "  [{\"x\":[0,1,2,3,4,5,6,7,8,9,10,11,12,13,14,15,16,17,18,19,20,21,22,23,24,25,26,27,28,29,30,31,32,33,34,35,36,37,38,39,40,41,42,43,44,45,46,47,48,49,50,51,52,53,54,55,56,57,58,59,60,61,62,63,64,65,66,67,68,69,70,71,72,73,74,75,76,77,78,79,80,81,82,83,84,85,86,87,88,89,90,91,92,93,94,95,96,97,98,99,100,101,102,103,104,105],\"y\":[856,972,976,913,958,997,990,1024,1072,1030,1053,1086,1155,1135,1218,1261,1265,1370,1184,1193,1102,1110,1019,1056,1107,1062,1161,1134,1204,1273,1202,1204,1317,1288,1273,1313,1384,1352,1462,1483,1580,1585,1608,1680,1535,1548,1528,1541,1530,1625,1284,1546,1620,1570,1650,1721,1662,1742,1572,1758,1738,1838,1743,1785,1953,1991,2082,1990,1968,1877,1008,1228,1541,1397,1425,1377,1347,1221,1362,1224,1231,1214,1075,1063,1048,883,818,780,658,601,536,439,334,232,197,136,115,79,40,36,17,13,10,2,7,2],\"type\":\"bar\",\"mode\":\"markers\"}],\n",
       "  {\"width\":1000,\"height\":500},\n",
       "  {\"linkText\":\"Export to plot.ly\",\"showLink\":true}\n",
       ")\n",
       "\n",
       "window.addEventListener('resize', function() {\n",
       "  Plotly.Plots.resize(document.getElementById('ed864e43-435e-4b50-a3e9-61843fed7e4c'))\n",
       "})\n",
       " }) \n",
       "</script>"
      ],
      "text/plain": [
       "#<Plotly::Offline::HTML:0x007f9eef8e7cc8 @id=\"ed864e43-435e-4b50-a3e9-61843fed7e4c\", @data=[{:x=>[0, 1, 2, 3, 4, 5, 6, 7, 8, 9, 10, 11, 12, 13, 14, 15, 16, 17, 18, 19, 20, 21, 22, 23, 24, 25, 26, 27, 28, 29, 30, 31, 32, 33, 34, 35, 36, 37, 38, 39, 40, 41, 42, 43, 44, 45, 46, 47, 48, 49, 50, 51, 52, 53, 54, 55, 56, 57, 58, 59, 60, 61, 62, 63, 64, 65, 66, 67, 68, 69, 70, 71, 72, 73, 74, 75, 76, 77, 78, 79, 80, 81, 82, 83, 84, 85, 86, 87, 88, 89, 90, 91, 92, 93, 94, 95, 96, 97, 98, 99, 100, 101, 102, 103, 104, 105], :y=>[856, 972, 976, 913, 958, 997, 990, 1024, 1072, 1030, 1053, 1086, 1155, 1135, 1218, 1261, 1265, 1370, 1184, 1193, 1102, 1110, 1019, 1056, 1107, 1062, 1161, 1134, 1204, 1273, 1202, 1204, 1317, 1288, 1273, 1313, 1384, 1352, 1462, 1483, 1580, 1585, 1608, 1680, 1535, 1548, 1528, 1541, 1530, 1625, 1284, 1546, 1620, 1570, 1650, 1721, 1662, 1742, 1572, 1758, 1738, 1838, 1743, 1785, 1953, 1991, 2082, 1990, 1968, 1877, 1008, 1228, 1541, 1397, 1425, 1377, 1347, 1221, 1362, 1224, 1231, 1214, 1075, 1063, 1048, 883, 818, 780, 658, 601, 536, 439, 334, 232, 197, 136, 115, 79, 40, 36, 17, 13, 10, 2, 7, 2], :type=>:bar, :mode=>:markers}], @layout={:width=>1000, :height=>500}, @config={:linkText=>\"Export to plot.ly\", :showLink=>true}, @embedded=true>"
      ]
     },
     "metadata": {},
     "output_type": "display_data"
    }
   ],
   "source": [
    "# data source: http://www.data4citizen.jp/app/developer/app/GOvqzzYEoS/html/index.html\n",
    "\n",
    "df = Daru::DataFrame.from_csv('./O_TUKIBETSU_NENREI.csv')\n",
    "vect = Daru::Vector.new(df['total_count'].to_a, index: df['age'].to_a)\n",
    "vect.plot(type: :bar).show"
   ]
  }
 ],
 "metadata": {
  "kernelspec": {
   "display_name": "Ruby 2.3.2",
   "language": "ruby",
   "name": "ruby"
  },
  "language_info": {
   "file_extension": ".rb",
   "mimetype": "application/x-ruby",
   "name": "ruby",
   "version": "2.3.2"
  }
 },
 "nbformat": 4,
 "nbformat_minor": 1
}
