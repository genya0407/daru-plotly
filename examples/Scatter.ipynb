{
 "cells": [
  {
   "cell_type": "code",
   "execution_count": 1,
   "metadata": {
    "collapsed": false
   },
   "outputs": [
    {
     "data": {
      "text/plain": [
       "\"\""
      ]
     },
     "execution_count": 1,
     "metadata": {},
     "output_type": "execute_result"
    }
   ],
   "source": [
    "# gem development environment only\n",
    "lib = File.expand_path('../../lib', __FILE__)\n",
    "$LOAD_PATH.unshift(lib) unless $LOAD_PATH.include?(lib)\n",
    "''"
   ]
  },
  {
   "cell_type": "code",
   "execution_count": 2,
   "metadata": {
    "collapsed": false
   },
   "outputs": [
    {
     "data": {
      "text/plain": [
       "true"
      ]
     },
     "execution_count": 2,
     "metadata": {},
     "output_type": "execute_result"
    }
   ],
   "source": [
    "require 'daru'\n",
    "require 'daru_plotting_plotly'"
   ]
  },
  {
   "cell_type": "code",
   "execution_count": 6,
   "metadata": {
    "collapsed": false
   },
   "outputs": [
    {
     "data": {
      "text/html": [
       "\n",
       "  <script>\n",
       "  requirejs.config({paths: { 'plotly': ['https://cdn.plot.ly/plotly-latest.min'] }})\n",
       "  </script>\n",
       "\n",
       "\n",
       "<div id=\"837377f6-978b-4037-8562-ac4e4c3b1622\" style=\"height: 100%; width: 100%;\"></div>\n",
       "\n",
       "<script>\n",
       " require(['plotly'], function(Plotly) { \n",
       "Plotly.newPlot(\n",
       "  '837377f6-978b-4037-8562-ac4e4c3b1622',\n",
       "  [{\"x\":[1997,1998,1999,2000,2001,2002,2003,2004,2005,2006,2007,2008,2009,2010,2011,2012,2013,2014],\"y\":[2665,2890,2971,2564,2122,2246,2271,1886,1745,1721,1747,1609,1542,1008,6862,3174,2711,2335],\"type\":\"scatter\",\"mode\":\"markers+lines\",\"name\":\"user\"},{\"x\":[1997,1998,1999,2000,2001,2002,2003,2004,2005,2006,2007,2008,2009,2010,2011,2012,2013,2014],\"y\":[238450,251840,268535,246338,236161,260527,278791,281852,283000,289974,299494,316369,326815,194845,521729,527731,519800,498425],\"type\":\"scatter\",\"mode\":\"markers+lines\",\"name\":\"lending count\"}],\n",
       "  {\"width\":1000,\"height\":500},\n",
       "  {\"linkText\":\"Export to plot.ly\",\"showLink\":true}\n",
       ")\n",
       "\n",
       "window.addEventListener('resize', function() {\n",
       "  Plotly.Plots.resize(document.getElementById('837377f6-978b-4037-8562-ac4e4c3b1622'))\n",
       "})\n",
       " }) \n",
       "</script>"
      ],
      "text/plain": [
       "#<Plotly::Offline::HTML:0x005622f878e170 @id=\"837377f6-978b-4037-8562-ac4e4c3b1622\", @data=[{:x=>[1997, 1998, 1999, 2000, 2001, 2002, 2003, 2004, 2005, 2006, 2007, 2008, 2009, 2010, 2011, 2012, 2013, 2014], :y=>[2665, 2890, 2971, 2564, 2122, 2246, 2271, 1886, 1745, 1721, 1747, 1609, 1542, 1008, 6862, 3174, 2711, 2335], :type=>:scatter, :mode=>\"markers+lines\", :name=>\"user\"}, {:x=>[1997, 1998, 1999, 2000, 2001, 2002, 2003, 2004, 2005, 2006, 2007, 2008, 2009, 2010, 2011, 2012, 2013, 2014], :y=>[238450, 251840, 268535, 246338, 236161, 260527, 278791, 281852, 283000, 289974, 299494, 316369, 326815, 194845, 521729, 527731, 519800, 498425], :type=>:scatter, :mode=>\"markers+lines\", :name=>\"lending count\"}], @layout={:width=>1000, :height=>500}, @config={:linkText=>\"Export to plot.ly\", :showLink=>true}, @embedded=true>"
      ]
     },
     "metadata": {},
     "output_type": "display_data"
    },
    {
     "data": {
      "text/plain": [
       "\"\""
      ]
     },
     "execution_count": 6,
     "metadata": {},
     "output_type": "execute_result"
    }
   ],
   "source": [
    "# data source: http://www.city.aizuwakamatsu.fukushima.jp/docs/2016020500107/ (会津図書館利用状況)\n",
    "\n",
    "df = Daru::DataFrame.from_csv('aizu-library.csv')\n",
    "df.plotting_library = :plotly\n",
    "df.plot(type: :scatter, x: 'year', y: ['user', 'lending count'], width: 1000, height: 500, mode: [:markers, :lines])\n",
    "''"
   ]
  }
 ],
 "metadata": {
  "kernelspec": {
   "display_name": "Ruby 2.3.1",
   "language": "ruby",
   "name": "ruby"
  },
  "language_info": {
   "file_extension": ".rb",
   "mimetype": "application/x-ruby",
   "name": "ruby",
   "version": "2.3.1"
  }
 },
 "nbformat": 4,
 "nbformat_minor": 1
}
