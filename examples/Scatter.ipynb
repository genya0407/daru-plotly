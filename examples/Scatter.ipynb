{
 "cells": [
  {
   "cell_type": "code",
   "execution_count": 1,
   "metadata": {
    "collapsed": false
   },
   "outputs": [
    {
     "data": {
      "text/plain": [
       "\"\""
      ]
     },
     "execution_count": 1,
     "metadata": {},
     "output_type": "execute_result"
    }
   ],
   "source": [
    "# gem development environment only\n",
    "lib = File.expand_path('../../lib', __FILE__)\n",
    "$LOAD_PATH.unshift(lib) unless $LOAD_PATH.include?(lib)\n",
    "''"
   ]
  },
  {
   "cell_type": "code",
   "execution_count": 2,
   "metadata": {
    "collapsed": false
   },
   "outputs": [
    {
     "data": {
      "application/javascript": [
       "if(window['d3'] === undefined ||\n",
       "   window['Nyaplot'] === undefined){\n",
       "    var path = {\"d3\":\"https://cdnjs.cloudflare.com/ajax/libs/d3/3.5.5/d3.min\",\"downloadable\":\"http://cdn.rawgit.com/domitry/d3-downloadable/master/d3-downloadable\"};\n",
       "\n",
       "\n",
       "\n",
       "    var shim = {\"d3\":{\"exports\":\"d3\"},\"downloadable\":{\"exports\":\"downloadable\"}};\n",
       "\n",
       "    require.config({paths: path, shim:shim});\n",
       "\n",
       "\n",
       "require(['d3'], function(d3){window['d3']=d3;console.log('finished loading d3');require(['downloadable'], function(downloadable){window['downloadable']=downloadable;console.log('finished loading downloadable');\n",
       "\n",
       "\tvar script = d3.select(\"head\")\n",
       "\t    .append(\"script\")\n",
       "\t    .attr(\"src\", \"http://cdn.rawgit.com/domitry/Nyaplotjs/master/release/nyaplot.js\")\n",
       "\t    .attr(\"async\", true);\n",
       "\n",
       "\tscript[0][0].onload = script[0][0].onreadystatechange = function(){\n",
       "\n",
       "\n",
       "\t    var event = document.createEvent(\"HTMLEvents\");\n",
       "\t    event.initEvent(\"load_nyaplot\",false,false);\n",
       "\t    window.dispatchEvent(event);\n",
       "\t    console.log('Finished loading Nyaplotjs');\n",
       "\n",
       "\t};\n",
       "\n",
       "\n",
       "});});\n",
       "}\n"
      ],
      "text/plain": [
       "\"if(window['d3'] === undefined ||\\n   window['Nyaplot'] === undefined){\\n    var path = {\\\"d3\\\":\\\"https://cdnjs.cloudflare.com/ajax/libs/d3/3.5.5/d3.min\\\",\\\"downloadable\\\":\\\"http://cdn.rawgit.com/domitry/d3-downloadable/master/d3-downloadable\\\"};\\n\\n\\n\\n    var shim = {\\\"d3\\\":{\\\"exports\\\":\\\"d3\\\"},\\\"downloadable\\\":{\\\"exports\\\":\\\"downloadable\\\"}};\\n\\n    require.config({paths: path, shim:shim});\\n\\n\\nrequire(['d3'], function(d3){window['d3']=d3;console.log('finished loading d3');require(['downloadable'], function(downloadable){window['downloadable']=downloadable;console.log('finished loading downloadable');\\n\\n\\tvar script = d3.select(\\\"head\\\")\\n\\t    .append(\\\"script\\\")\\n\\t    .attr(\\\"src\\\", \\\"http://cdn.rawgit.com/domitry/Nyaplotjs/master/release/nyaplot.js\\\")\\n\\t    .attr(\\\"async\\\", true);\\n\\n\\tscript[0][0].onload = script[0][0].onreadystatechange = function(){\\n\\n\\n\\t    var event = document.createEvent(\\\"HTMLEvents\\\");\\n\\t    event.initEvent(\\\"load_nyaplot\\\",false,false);\\n\\t    window.dispatchEvent(event);\\n\\t    console.log('Finished loading Nyaplotjs');\\n\\n\\t};\\n\\n\\n});});\\n}\\n\""
      ]
     },
     "metadata": {},
     "output_type": "display_data"
    },
    {
     "data": {
      "text/plain": [
       ":plotly"
      ]
     },
     "execution_count": 2,
     "metadata": {},
     "output_type": "execute_result"
    }
   ],
   "source": [
    "require 'daru'\n",
    "require 'daru_plotting_plotly'\n",
    "Daru.plotting_library = :plotly"
   ]
  },
  {
   "cell_type": "markdown",
   "metadata": {},
   "source": [
    "# DataFrame#plot"
   ]
  },
  {
   "cell_type": "code",
   "execution_count": 3,
   "metadata": {
    "collapsed": false
   },
   "outputs": [
    {
     "data": {
      "text/html": [
       "\n",
       "  <script>\n",
       "  requirejs.config({paths: { 'plotly': ['https://cdn.plot.ly/plotly-latest.min'] }})\n",
       "  </script>\n",
       "\n",
       "\n",
       "<div id=\"bc179154-b617-4be2-b4ad-3469e060cc7b\" style=\"height: 100%; width: 100%;\"></div>\n",
       "\n",
       "<script>\n",
       " require(['plotly'], function(Plotly) { \n",
       "Plotly.newPlot(\n",
       "  'bc179154-b617-4be2-b4ad-3469e060cc7b',\n",
       "  [{\"x\":[1997,1998,1999,2000,2001,2002,2003,2004,2005,2006,2007,2008,2009,2010,2011,2012,2013,2014],\"y\":[2665,2890,2971,2564,2122,2246,2271,1886,1745,1721,1747,1609,1542,1008,6862,3174,2711,2335],\"type\":\"scatter\",\"mode\":\"markers+lines\",\"name\":\"user\"},{\"x\":[1997,1998,1999,2000,2001,2002,2003,2004,2005,2006,2007,2008,2009,2010,2011,2012,2013,2014],\"y\":[238450,251840,268535,246338,236161,260527,278791,281852,283000,289974,299494,316369,326815,194845,521729,527731,519800,498425],\"type\":\"scatter\",\"mode\":\"markers+lines\",\"name\":\"lending count\"}],\n",
       "  {\"width\":1000,\"height\":500},\n",
       "  {\"linkText\":\"Export to plot.ly\",\"showLink\":true}\n",
       ")\n",
       "\n",
       "window.addEventListener('resize', function() {\n",
       "  Plotly.Plots.resize(document.getElementById('bc179154-b617-4be2-b4ad-3469e060cc7b'))\n",
       "})\n",
       " }) \n",
       "</script>"
      ],
      "text/plain": [
       "#<Plotly::Offline::HTML:0x0055f244e89ae0 @id=\"bc179154-b617-4be2-b4ad-3469e060cc7b\", @data=[{:x=>[1997, 1998, 1999, 2000, 2001, 2002, 2003, 2004, 2005, 2006, 2007, 2008, 2009, 2010, 2011, 2012, 2013, 2014], :y=>[2665, 2890, 2971, 2564, 2122, 2246, 2271, 1886, 1745, 1721, 1747, 1609, 1542, 1008, 6862, 3174, 2711, 2335], :type=>:scatter, :mode=>\"markers+lines\", :name=>\"user\"}, {:x=>[1997, 1998, 1999, 2000, 2001, 2002, 2003, 2004, 2005, 2006, 2007, 2008, 2009, 2010, 2011, 2012, 2013, 2014], :y=>[238450, 251840, 268535, 246338, 236161, 260527, 278791, 281852, 283000, 289974, 299494, 316369, 326815, 194845, 521729, 527731, 519800, 498425], :type=>:scatter, :mode=>\"markers+lines\", :name=>\"lending count\"}], @layout={:width=>1000, :height=>500}, @config={:linkText=>\"Export to plot.ly\", :showLink=>true}, @embedded=true>"
      ]
     },
     "metadata": {},
     "output_type": "display_data"
    },
    {
     "data": {
      "text/plain": [
       "\"\""
      ]
     },
     "execution_count": 3,
     "metadata": {},
     "output_type": "execute_result"
    }
   ],
   "source": [
    "# data source: http://www.city.aizuwakamatsu.fukushima.jp/docs/2016020500107/ (会津図書館利用状況)\n",
    "\n",
    "df = Daru::DataFrame.from_csv('aizu-library.csv')\n",
    "df.plot(type: :scatter, x: 'year', y: ['user', 'lending count'], width: 1000, height: 500, mode: [:markers, :lines])\n",
    "''"
   ]
  },
  {
   "cell_type": "markdown",
   "metadata": {},
   "source": [
    "# Vector#plot"
   ]
  },
  {
   "cell_type": "code",
   "execution_count": 7,
   "metadata": {
    "collapsed": false
   },
   "outputs": [
    {
     "data": {
      "text/html": [
       "\n",
       "  <script>\n",
       "  requirejs.config({paths: { 'plotly': ['https://cdn.plot.ly/plotly-latest.min'] }})\n",
       "  </script>\n",
       "\n",
       "\n",
       "<div id=\"e0e0e627-c90f-49bf-851f-49ea4cb30d4d\" style=\"height: 100%; width: 100%;\"></div>\n",
       "\n",
       "<script>\n",
       " require(['plotly'], function(Plotly) { \n",
       "Plotly.newPlot(\n",
       "  'e0e0e627-c90f-49bf-851f-49ea4cb30d4d',\n",
       "  [{\"x\":[0,1,2,3,4,5,6,7,8,9,10,11,12,13,14,15,16,17,18,19,20,21,22,23,24,25,26,27,28,29,30,31,32,33,34,35,36,37,38,39,40,41,42,43,44,45,46,47,48,49,50,51,52,53,54,55,56,57,58,59,60,61,62,63,64,65,66,67,68,69,70,71,72,73,74,75,76,77,78,79,80,81,82,83,84,85,86,87,88,89,90,91,92,93,94,95,96,97,98,99,100,101,102,103,104,105],\"y\":[856,972,976,913,958,997,990,1024,1072,1030,1053,1086,1155,1135,1218,1261,1265,1370,1184,1193,1102,1110,1019,1056,1107,1062,1161,1134,1204,1273,1202,1204,1317,1288,1273,1313,1384,1352,1462,1483,1580,1585,1608,1680,1535,1548,1528,1541,1530,1625,1284,1546,1620,1570,1650,1721,1662,1742,1572,1758,1738,1838,1743,1785,1953,1991,2082,1990,1968,1877,1008,1228,1541,1397,1425,1377,1347,1221,1362,1224,1231,1214,1075,1063,1048,883,818,780,658,601,536,439,334,232,197,136,115,79,40,36,17,13,10,2,7,2],\"type\":\"bar\",\"mode\":\"markers\"}],\n",
       "  {\"width\":1000,\"height\":500},\n",
       "  {\"linkText\":\"Export to plot.ly\",\"showLink\":true}\n",
       ")\n",
       "\n",
       "window.addEventListener('resize', function() {\n",
       "  Plotly.Plots.resize(document.getElementById('e0e0e627-c90f-49bf-851f-49ea4cb30d4d'))\n",
       "})\n",
       " }) \n",
       "</script>"
      ],
      "text/plain": [
       "#<Plotly::Offline::HTML:0x0055f244658b50 @id=\"e0e0e627-c90f-49bf-851f-49ea4cb30d4d\", @data=[{:x=>[0, 1, 2, 3, 4, 5, 6, 7, 8, 9, 10, 11, 12, 13, 14, 15, 16, 17, 18, 19, 20, 21, 22, 23, 24, 25, 26, 27, 28, 29, 30, 31, 32, 33, 34, 35, 36, 37, 38, 39, 40, 41, 42, 43, 44, 45, 46, 47, 48, 49, 50, 51, 52, 53, 54, 55, 56, 57, 58, 59, 60, 61, 62, 63, 64, 65, 66, 67, 68, 69, 70, 71, 72, 73, 74, 75, 76, 77, 78, 79, 80, 81, 82, 83, 84, 85, 86, 87, 88, 89, 90, 91, 92, 93, 94, 95, 96, 97, 98, 99, 100, 101, 102, 103, 104, 105], :y=>[856, 972, 976, 913, 958, 997, 990, 1024, 1072, 1030, 1053, 1086, 1155, 1135, 1218, 1261, 1265, 1370, 1184, 1193, 1102, 1110, 1019, 1056, 1107, 1062, 1161, 1134, 1204, 1273, 1202, 1204, 1317, 1288, 1273, 1313, 1384, 1352, 1462, 1483, 1580, 1585, 1608, 1680, 1535, 1548, 1528, 1541, 1530, 1625, 1284, 1546, 1620, 1570, 1650, 1721, 1662, 1742, 1572, 1758, 1738, 1838, 1743, 1785, 1953, 1991, 2082, 1990, 1968, 1877, 1008, 1228, 1541, 1397, 1425, 1377, 1347, 1221, 1362, 1224, 1231, 1214, 1075, 1063, 1048, 883, 818, 780, 658, 601, 536, 439, 334, 232, 197, 136, 115, 79, 40, 36, 17, 13, 10, 2, 7, 2], :type=>:bar, :mode=>:markers}], @layout={:width=>1000, :height=>500}, @config={:linkText=>\"Export to plot.ly\", :showLink=>true}, @embedded=true>"
      ]
     },
     "metadata": {},
     "output_type": "display_data"
    }
   ],
   "source": [
    "# data source: http://www.data4citizen.jp/app/developer/app/GOvqzzYEoS/html/index.html\n",
    "\n",
    "df = Daru::DataFrame.from_csv('./O_TUKIBETSU_NENREI.csv')\n",
    "dv = Daru::Vector.new(df['total_count'].to_a, index: df['age'].to_a)\n",
    "dv.plot type: :bar, width: 1000"
   ]
  },
  {
   "cell_type": "code",
   "execution_count": null,
   "metadata": {
    "collapsed": true
   },
   "outputs": [],
   "source": [
    "Categorical"
   ]
  }
 ],
 "metadata": {
  "kernelspec": {
   "display_name": "Ruby 2.3.1",
   "language": "ruby",
   "name": "ruby"
  },
  "language_info": {
   "file_extension": ".rb",
   "mimetype": "application/x-ruby",
   "name": "ruby",
   "version": "2.3.1"
  }
 },
 "nbformat": 4,
 "nbformat_minor": 1
}
